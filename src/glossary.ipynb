{
 "cells": [
  {
   "cell_type": "markdown",
   "id": "72c6a53b",
   "metadata": {},
   "source": [
    "# Working With Glossary Items\n",
    "\n",
    "A large number of units in OpenLearn include explictly identified glassary items. By mining OpenLearn OU-XML documents, we can trivially create a \"meta-glossary\" of terms across the whole of OpenLearn.\n",
    "\n",
    "*You can try such a search [here](https://lite.datasette.io/?url=https%3A%2F%2Fraw.githubusercontent.com%2FinnovationOUtside%2FopenlearnCurriculumAssets%2Fmain%2Fsrc%2Fall_openlean_xml.db%3Fraw%3Dtrue#/all_openlean_xml/glossary?_search=%22computer+program%22&_filter_column=&_filter_op=exact&_filter_value=&_sort=rowid). __WARNING: 100MB+ download:__ this database application runs purely in your browser and may take a minute or two to load.*\n",
    "\n",
    "One of the fiddly but necessary tasks associated with course production is the creation of glossary items. Glossary items are explicitly defined in OU-XML materials, which means we can trivially extract them and easily build up meta-glossaries with varying scopes: for example, a meta-glossary of all `MXXX` units, or a meta-glossary from all beginner level science courses. At an individual student level, we could construct a met-aglossary of all the glossed terms that have appeared in units the student has studied to dat (along with a reference to which unit they appeared in). And so on.\n",
    "\n",
    "In this section, I will demonstrate how we can scrape glossary items from acoss the OpenLearn unit OU-XML files in order to create a simple full-text search tool that allows us to search over just glossary terms and definitions."
   ]
  },
  {
   "cell_type": "markdown",
   "id": "6d33ecdc",
   "metadata": {},
   "source": [
    "## Preparing the Ground\n",
    "\n",
    "As ever, we need to set up a database connection:"
   ]
  },
  {
   "cell_type": "code",
   "execution_count": 1,
   "id": "f904d070",
   "metadata": {},
   "outputs": [],
   "source": [
    "from sqlite_utils import Database\n",
    "\n",
    "# Open raw XML database connection\n",
    "xml_dbname = \"all_openlean_xml.db\"\n",
    "xml_db = Database(xml_dbname)\n",
    "\n",
    "# Open assets database\n",
    "dbname = \"openlean_assets.db\"\n",
    "db = Database(dbname)"
   ]
  },
  {
   "cell_type": "markdown",
   "id": "9cd4521b",
   "metadata": {},
   "source": [
    "And get a sample XML file, selecting one that we know contains struturally marked up glossary items:"
   ]
  },
  {
   "cell_type": "code",
   "execution_count": 2,
   "id": "66a31acf",
   "metadata": {},
   "outputs": [],
   "source": [
    "from lxml import etree\n",
    "import pandas as pd\n",
    "\n",
    "# Grab an OU-XML file that is known to contain glossary items\n",
    "a210_xml_raw = pd.read_sql(\"SELECT xml FROM xml WHERE name='Approaching plays'\",\n",
    "                           con=xml_db.conn).loc[0, \"xml\"]\n",
    "\n",
    "# Parse the XML into an xml object\n",
    "root = etree.fromstring(a210_xml_raw)"
   ]
  },
  {
   "cell_type": "markdown",
   "id": "63ef6597",
   "metadata": {},
   "source": [
    "## Extracting Glossary Items\n",
    "\n",
    "Glossary items are defined using a `<Glossary>` element, althoughthe substantive details are contained in `<GlossaryItem>` elements [[docs](https://learn3.open.ac.uk/mod/oucontent/view.php?id=185747&section=7.1.6)]:\n",
    "\n",
    "```xml\n",
    "<GlossaryItem xmlns:xsi=\"http://www.w3.org/2001/XMLSchema-instance\">\n",
    "    <Term>Amphitheatre</Term>\n",
    "    <Definition> a circular structure with seats rising behind and above each other around a central open space or arena; originating in classical Greece, they are the first known specifically designated theatre spaces\n",
    "    </Definition>\n",
    "</GlossaryItem>\n",
    "```\n",
    "\n",
    "It is trivial enough to extract all the terms from a single unit:"
   ]
  },
  {
   "cell_type": "code",
   "execution_count": 3,
   "id": "f27bf785",
   "metadata": {},
   "outputs": [],
   "source": [
    "def get_gloss_items(root):\n",
    "    \"\"\"Extract glossary items from an OU-XML XML object.\"\"\"\n",
    "    gloss = root.xpath('//GlossaryItem')\n",
    "\n",
    "    glossary = []\n",
    "    for g in gloss:\n",
    "        g_term = g.xpath(\"Term\")[0].text\n",
    "        g_definition = g.xpath(\"Definition\")[0].text\n",
    "\n",
    "        if not g_term or not g_definition:\n",
    "            continue\n",
    "\n",
    "        glossary.append( (g_term, g_definition) )\n",
    "    \n",
    "    return glossary"
   ]
  },
  {
   "cell_type": "markdown",
   "id": "b496172d",
   "metadata": {},
   "source": [
    "Let's see how that works for our test unit:"
   ]
  },
  {
   "cell_type": "code",
   "execution_count": 4,
   "id": "5dec3697",
   "metadata": {},
   "outputs": [
    {
     "data": {
      "text/plain": [
       "[('Amphitheatre',\n",
       "  ' a circular structure with seats rising behind and above each other around a central open space or arena; originating in classical Greece, they are the first known specifically designated theatre spaces.'),\n",
       " ('Apostrophe',\n",
       "  \" a rhetorical convention in which the speaker either addresses a dead or absent person, or an inanimate object or abstraction. An apostrophe can also refer to a speaker's address to a particular member or section of the audience.\"),\n",
       " ('Anagnorisis', ' a scene of recognition or discovery.'),\n",
       " ('Aside', ' a short speech spoken '),\n",
       " ('Blank verse', ' unrhymed iambic pentameters.')]"
      ]
     },
     "execution_count": 4,
     "metadata": {},
     "output_type": "execute_result"
    }
   ],
   "source": [
    "# Preview the first few items\n",
    "get_gloss_items(root)[:5]"
   ]
  },
  {
   "cell_type": "markdown",
   "id": "e62eda6f",
   "metadata": {},
   "source": [
    "## Adding Glossary Items to the Database\n",
    "\n",
    "It's trivial to add the glossary terms and definitions for all our units to the database, along with support for full text search over all the items.\n",
    "\n",
    "First, create appropriate tables to store the data:"
   ]
  },
  {
   "cell_type": "code",
   "execution_count": 5,
   "id": "7bb3be32",
   "metadata": {},
   "outputs": [
    {
     "data": {
      "text/plain": [
       "<Table glossary (code, name, term, definition, _id)>"
      ]
     },
     "execution_count": 5,
     "metadata": {},
     "output_type": "execute_result"
    }
   ],
   "source": [
    "all_gloss_tbl = db[\"glossary\"]\n",
    "all_gloss_tbl.drop(ignore=True)\n",
    "all_gloss_tbl.create({\n",
    "    \"code\": str,\n",
    "    \"name\": str,\n",
    "    \"term\": str,\n",
    "    \"definition\": str,\n",
    "    \"_id\": str\n",
    "})\n",
    "# Note that in this case the _id is not unique\n",
    "# because the same id may apply to multiple los\n",
    "# The _id is a reference for joining tables only\n",
    "\n",
    "# Enable full text search\n",
    "# This creates an extra virtual table (glossary_fts) to support the full text search\n",
    "db[f\"{all_gloss_tbl.name}_fts\"].drop(ignore=True)\n",
    "db[all_gloss_tbl.name].enable_fts([\"term\", \"definition\", \"_id\"], create_triggers=True)"
   ]
  },
  {
   "cell_type": "markdown",
   "id": "5d919271",
   "metadata": {},
   "source": [
    "Now we can iterate over all the OU-XML documents, extract any glossary items contained therein, and add them to our database table:"
   ]
  },
  {
   "cell_type": "code",
   "execution_count": 6,
   "id": "307ce724",
   "metadata": {},
   "outputs": [],
   "source": [
    "from xml_utils import create_id\n",
    "\n",
    "for row in xml_db.query(\"\"\"SELECT * FROM xml;\"\"\"):\n",
    "    root = etree.fromstring(row[\"xml\"])\n",
    "    gloss_items = get_gloss_items(root)\n",
    "    # From the list of glossary items,\n",
    "    # create a list of dict items we can add to the database\n",
    "    gloss_item_dicts = [{\"term\": g[0], \"definition\": g[1],\n",
    "                         \"code\": row[\"code\"], \"name\": row[\"name\"]} for g in gloss_items if g[0] or g[1] ]\n",
    "    \n",
    "    # Add a reference id for each record\n",
    "    create_id(gloss_item_dicts, id_field=\"_id\")\n",
    "    \n",
    "    # Add items to the database\n",
    "    db[all_gloss_tbl.name].insert_all(gloss_item_dicts)"
   ]
  },
  {
   "cell_type": "markdown",
   "id": "1dd27700",
   "metadata": {},
   "source": [
    "Now we can test a query:"
   ]
  },
  {
   "cell_type": "code",
   "execution_count": 7,
   "id": "58554041",
   "metadata": {},
   "outputs": [
    {
     "data": {
      "text/html": [
       "<div>\n",
       "<style scoped>\n",
       "    .dataframe tbody tr th:only-of-type {\n",
       "        vertical-align: middle;\n",
       "    }\n",
       "\n",
       "    .dataframe tbody tr th {\n",
       "        vertical-align: top;\n",
       "    }\n",
       "\n",
       "    .dataframe thead th {\n",
       "        text-align: right;\n",
       "    }\n",
       "</style>\n",
       "<table border=\"1\" class=\"dataframe\">\n",
       "  <thead>\n",
       "    <tr style=\"text-align: right;\">\n",
       "      <th></th>\n",
       "      <th>code</th>\n",
       "      <th>name</th>\n",
       "      <th>term</th>\n",
       "      <th>definition</th>\n",
       "      <th>_id</th>\n",
       "    </tr>\n",
       "  </thead>\n",
       "  <tbody>\n",
       "    <tr>\n",
       "      <th>0</th>\n",
       "      <td>L314</td>\n",
       "      <td>Advanced Spanish: Protest song</td>\n",
       "      <td>desalambrar</td>\n",
       "      <td>Quitar las vallas de alambre que cercan un rec...</td>\n",
       "      <td>3c7d27258e3c209f19f09a459d223ca875523a10</td>\n",
       "    </tr>\n",
       "    <tr>\n",
       "      <th>1</th>\n",
       "      <td>L314</td>\n",
       "      <td>Advanced Spanish: Protest song</td>\n",
       "      <td>el encasillamiento</td>\n",
       "      <td>clasificación, generalmente simplista</td>\n",
       "      <td>3c7d27258e3c209f19f09a459d223ca875523a10</td>\n",
       "    </tr>\n",
       "    <tr>\n",
       "      <th>2</th>\n",
       "      <td>L314</td>\n",
       "      <td>Advanced Spanish: Protest song</td>\n",
       "      <td>busca amplitud en su propuesta</td>\n",
       "      <td>quiere realizar un trabajo que comprende difer...</td>\n",
       "      <td>3c7d27258e3c209f19f09a459d223ca875523a10</td>\n",
       "    </tr>\n",
       "  </tbody>\n",
       "</table>\n",
       "</div>"
      ],
      "text/plain": [
       "   code                            name                            term  \\\n",
       "0  L314  Advanced Spanish: Protest song                     desalambrar   \n",
       "1  L314  Advanced Spanish: Protest song              el encasillamiento   \n",
       "2  L314  Advanced Spanish: Protest song  busca amplitud en su propuesta   \n",
       "\n",
       "                                          definition  \\\n",
       "0  Quitar las vallas de alambre que cercan un rec...   \n",
       "1              clasificación, generalmente simplista   \n",
       "2  quiere realizar un trabajo que comprende difer...   \n",
       "\n",
       "                                        _id  \n",
       "0  3c7d27258e3c209f19f09a459d223ca875523a10  \n",
       "1  3c7d27258e3c209f19f09a459d223ca875523a10  \n",
       "2  3c7d27258e3c209f19f09a459d223ca875523a10  "
      ]
     },
     "execution_count": 7,
     "metadata": {},
     "output_type": "execute_result"
    }
   ],
   "source": [
    "pd.read_sql(\"SELECT * FROM glossary LIMIT 3\", con=db.conn)"
   ]
  },
  {
   "cell_type": "markdown",
   "id": "82d1bd2f",
   "metadata": {},
   "source": [
    "Or a full text search:"
   ]
  },
  {
   "cell_type": "code",
   "execution_count": 8,
   "id": "bc8a7cb3",
   "metadata": {},
   "outputs": [],
   "source": [
    "def fts(db, base_tbl, q):\n",
    "    \"\"\"Run a simple full-text search query \n",
    "       over a table with an FTS virtual table.\"\"\"\n",
    "    _q = f\"\"\"SELECT * FROM {base_tbl}_fts \n",
    "             WHERE {base_tbl}_fts MATCH {db.quote(q)} ;\"\"\"\n",
    "    \n",
    "    return pd.read_sql(_q, con=db.conn)"
   ]
  },
  {
   "cell_type": "code",
   "execution_count": 9,
   "id": "5067282c",
   "metadata": {},
   "outputs": [
    {
     "data": {
      "text/plain": [
       "[{'term': 'Apostrophe',\n",
       "  'definition': \" a rhetorical convention in which the speaker either addresses a dead or absent person, or an inanimate object or abstraction. An apostrophe can also refer to a speaker's address to a particular member or section of the audience.\",\n",
       "  '_id': '6a3ff37cfd1ffed0fe1e98c833db2dc0b0dd53c1'}]"
      ]
     },
     "execution_count": 9,
     "metadata": {},
     "output_type": "execute_result"
    }
   ],
   "source": [
    "fts(db, \"glossary\", \"member audience\").to_dict(orient=\"records\")"
   ]
  }
 ],
 "metadata": {
  "kernelspec": {
   "display_name": "Python 3 (ipykernel)",
   "language": "python",
   "name": "python3"
  },
  "language_info": {
   "codemirror_mode": {
    "name": "ipython",
    "version": 3
   },
   "file_extension": ".py",
   "mimetype": "text/x-python",
   "name": "python",
   "nbconvert_exporter": "python",
   "pygments_lexer": "ipython3",
   "version": "3.9.12"
  }
 },
 "nbformat": 4,
 "nbformat_minor": 5
}
