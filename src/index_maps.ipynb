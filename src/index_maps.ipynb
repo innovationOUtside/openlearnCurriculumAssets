{
 "cells": [
  {
   "cell_type": "markdown",
   "id": "4397e31e",
   "metadata": {},
   "source": [
    "# Unit Mapping\n",
    "\n",
    "*work in progress*\n",
    "\n",
    "One of the simplest ways of getting an overview of a unit is to generate a simple index or map of the major headings and subheadings.\n",
    "\n",
    "Example of prior work: [*Generating Mind Maps from OU/OpenLearn Structured Authoring XML Documents*](https://blog.ouseful.info/2011/11/10/generating-mind-maps-from-ouopenlearn-structured-authoring-xml-documents/)"
   ]
  },
  {
   "cell_type": "code",
   "execution_count": 1,
   "id": "16a351c9",
   "metadata": {},
   "outputs": [],
   "source": [
    "from sqlite_utils import Database\n",
    "\n",
    "# Open database connection\n",
    "dbname = \"all_openlean_xml.db\"\n",
    "db = Database(dbname)"
   ]
  },
  {
   "cell_type": "markdown",
   "id": "7d0dd959",
   "metadata": {},
   "source": [
    "Let's get the OU-XML for an arbitary unit:"
   ]
  },
  {
   "cell_type": "code",
   "execution_count": 2,
   "id": "0b39cb18",
   "metadata": {},
   "outputs": [],
   "source": [
    "from lxml import etree\n",
    "import pandas as pd\n",
    "\n",
    "# If there are multiple units associated with H807, pick the first\n",
    "h807_xml_raw = pd.read_sql(\"SELECT xml FROM xml WHERE code='H807'\", con=db.conn).loc[0, \"xml\"]\n",
    "\n",
    "# Parse the XML into an xml object\n",
    "root = etree.fromstring(h807_xml_raw)"
   ]
  },
  {
   "cell_type": "markdown",
   "id": "22f53c94",
   "metadata": {},
   "source": [
    "Bring in our simple utility function to help flatten elements, if required:"
   ]
  },
  {
   "cell_type": "code",
   "execution_count": 3,
   "id": "51d85839",
   "metadata": {},
   "outputs": [],
   "source": [
    "import unicodedata\n",
    "\n",
    "def unpack(x):\n",
    "    return etree.tostring(x)\n",
    "\n",
    "# via http://stackoverflow.com/questions/5757201/help-or-advice-me-get-started-with-lxml/5899005#5899005\n",
    "def flatten(el):\n",
    "    \"\"\"Utility function for flattening XML tags.\"\"\"\n",
    "    def _flatten(el):\n",
    "        if el is None:\n",
    "            return \"\"  # Originally returned None; any side effects of move to ''?\n",
    "        result = [(el.text or \"\")]\n",
    "        for sel in el:\n",
    "            result.append(_flatten(sel))\n",
    "            result.append(sel.tail or \"\")\n",
    "        return unicodedata.normalize(\"NFKD\", \"\".join(result)) or \" \"\n",
    "    return _flatten(el).strip()"
   ]
  },
  {
   "cell_type": "markdown",
   "id": "25acba8b",
   "metadata": {},
   "source": [
    "We can now grab all the headings and subheadings and render a simple contents list for the unit. To display the contents, we can use a simple tree widget.\n",
    "\n",
    "Let's start by parsing out the title of the unit:"
   ]
  },
  {
   "cell_type": "code",
   "execution_count": 4,
   "id": "7acb1479",
   "metadata": {},
   "outputs": [
    {
     "data": {
      "text/plain": [
       "('Accessibility of eLearning', 'H807_1')"
      ]
     },
     "execution_count": 4,
     "metadata": {},
     "output_type": "execute_result"
    }
   ],
   "source": [
    "title = root.find(\"ItemTitle\").text\n",
    "code = root.find(\"CourseCode\").text\n",
    "\n",
    "title, code"
   ]
  },
  {
   "cell_type": "markdown",
   "id": "38edd0a3",
   "metadata": {},
   "source": [
    "We can now build up out tree from session and section headings:"
   ]
  },
  {
   "cell_type": "code",
   "execution_count": 5,
   "id": "d809fd43",
   "metadata": {},
   "outputs": [
    {
     "data": {
      "application/vnd.jupyter.widget-view+json": {
       "model_id": "2b773e46b49e46ff9f6d3aaf80e5066d",
       "version_major": 2,
       "version_minor": 0
      },
      "text/plain": [
       "Tree(nodes=(Node(name='Accessibility of eLearning (H807_1)', nodes=(Node(name='1 Introducing accessibility and…"
      ]
     },
     "metadata": {},
     "output_type": "display_data"
    }
   ],
   "source": [
    "#%pip install ipytree\n",
    "# ipytree provides access to a jstree wdget\n",
    "from ipytree import Tree, Node\n",
    "\n",
    "# Create a tree object\n",
    "tree = Tree()\n",
    "\n",
    "# Create a unit title node for our tree\n",
    "node1 = Node(f\"{title} ({code})\")\n",
    "\n",
    "# Add the unit title node to the top of the tree\n",
    "tree.add_node(node1)\n",
    "\n",
    "sessions = root.findall('.//Unit/Session')\n",
    "\n",
    "unit_structure = {\"title\": {}}\n",
    "for session in sessions:\n",
    "    title = session.find('.//Title').text\n",
    "    subnode = Node(title)\n",
    "    node1.add_node(subnode)\n",
    "    \n",
    "    subsessions=session.findall('.//Section')\n",
    "    for subsession in subsessions:\n",
    "        heading = subsession.find('.//Title').text\n",
    "        subnode.add_node( Node(heading) )\n",
    "\n",
    "tree"
   ]
  },
  {
   "cell_type": "markdown",
   "id": "0bc0d532",
   "metadata": {},
   "source": [
    "*The `tree` widget doesn't appear to render when I flow this document as part of a Jupyer Book, so I need to find an alternative tree display for this demo. In the meantime, here's a screehshot to get a flavour of what you're missing...*\n",
    "\n",
    "![Screenshot of ipytree tree widget output showing the expnaded table of contents for one section of an OpenLearn Unit and a collapsed view of another.](images/index_map_tree.png)"
   ]
  },
  {
   "cell_type": "markdown",
   "id": "c216737a",
   "metadata": {},
   "source": [
    "It would be easy enough to generate a table contain session and section headings across all units and then use that as a way of providing a heading level search to retrieve items at that level of granularity."
   ]
  },
  {
   "cell_type": "markdown",
   "id": "67b4670e",
   "metadata": {},
   "source": [
    "## Generating Tables of Contents Derived From Sections in Different Units\n",
    "\n",
    "As well as generating tree listings of session and section headings related to a single unit, we can also generate table of content views over sections retrieved from multiple units.\n",
    "\n",
    "For example, TO DO  - search around a term to retrieve items from multiple units and generate a \"customised\" uniti on a topic, eg ordered by level, etc"
   ]
  }
 ],
 "metadata": {
  "kernelspec": {
   "display_name": "Python 3 (ipykernel)",
   "language": "python",
   "name": "python3"
  },
  "language_info": {
   "codemirror_mode": {
    "name": "ipython",
    "version": 3
   },
   "file_extension": ".py",
   "mimetype": "text/x-python",
   "name": "python",
   "nbconvert_exporter": "python",
   "pygments_lexer": "ipython3",
   "version": "3.9.12"
  }
 },
 "nbformat": 4,
 "nbformat_minor": 5
}
