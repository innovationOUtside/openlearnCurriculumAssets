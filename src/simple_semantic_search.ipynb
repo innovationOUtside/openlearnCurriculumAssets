{
 "cells": [
  {
   "cell_type": "markdown",
   "id": "6af6b847",
   "metadata": {},
   "source": [
    "# Simple Semantic Search\n",
    "\n",
    "If we restrict ourselves to searching a text corpus directly using a simple SQL `SELECT` statement, we are limited to searching for exact matches on text strings, or, using the `LIKE` operator, simple pattern matches.\n",
    "\n",
    "In SQLite, we can also use simple extensions to support regular expression matches as well as fuzzy searches ([examples](https://github.com/innovationOUtside/ouseful-sqlite-search-utils)).\n",
    "\n",
    "Adding a full text search index table allows us to match words in any order, as well as performing simple Boolean searches, but we are still limited to matching terms that appear in both the query and the searched text.\n",
    "\n",
    "The next step in \"freeing up\" search is to provide support for matching texts that are similar in *meaning* to a search term, even if that search term is not explicitly included in the searched over text. This sort of approach is often referred to as \"semantic searching\".\n",
    "\n",
    "In this section, we will demonstrate how we can add simple semantic search over a search context to support this form of discovery."
   ]
  },
  {
   "cell_type": "code",
   "execution_count": null,
   "id": "5533e59b",
   "metadata": {},
   "outputs": [],
   "source": []
  }
 ],
 "metadata": {
  "kernelspec": {
   "display_name": "Python 3 (ipykernel)",
   "language": "python",
   "name": "python3"
  },
  "language_info": {
   "codemirror_mode": {
    "name": "ipython",
    "version": 3
   },
   "file_extension": ".py",
   "mimetype": "text/x-python",
   "name": "python",
   "nbconvert_exporter": "python",
   "pygments_lexer": "ipython3",
   "version": "3.9.12"
  }
 },
 "nbformat": 4,
 "nbformat_minor": 5
}
