{
 "cells": [
  {
   "cell_type": "markdown",
   "id": "0af02bf1",
   "metadata": {},
   "source": [
    "# Scraping OpenLearn\n",
    "\n",
    "In previous years, OpenLearn used to publish an OPML feed that list all the units available on OpenLearn. The feed included the unit name, the module code for the original OU module from which the OpenLearn unit was derived, and a link to unit homepage on OpenLearn.\n",
    "\n",
    "That feed is no longer available, but a single HTML page listing all the free units is still available at https://www.open.edu/openlearn/free-courses/full-catalogue\n",
    "\n",
    "![Screenshot of OpenLearn full unit catalogue](images/openlearn_units.png)\n",
    "\n",
    "The units are listed within an HTML table, one unit per row, with the following structure:\n",
    "\n",
    "```html\n",
    "<table>\n",
    "    ...\n",
    "    <tr class=\"even\">\n",
    "        <td class=\"views-field views-field-title active views-align-left title\"\n",
    "            data-sort-value=\"visions of protest: graffiti\">\n",
    "            <a href=\"https://www.open.edu/openlearn/history-the-arts/visions-protest-graffiti/content-section-0\">Visions of protest: graffiti</a>\n",
    "            <span class=\"hidden\"> Y031</span>\n",
    "        </td>\n",
    "        <td class=\"views-field views-field-field-ou-course views-align-center\n",
    "                   field_ou-course\" data-sort-value=\"Y031\">\n",
    "            Y031\n",
    "        </td>\n",
    "        <td class=\"views-field views-field-field-duration views-align-center field_duration\"\n",
    "            data-sort-value=\"8\">\n",
    "            8\n",
    "        </td>\n",
    "        <td class=\"views-field views-field-field-educational-level views-align-left field_educational_level\"\n",
    "            data-sort-value=\"Introductory\">\n",
    "            Introductory\n",
    "        </td>\n",
    "    </tr>\n",
    "    ...\n",
    "</table>\n",
    "```\n",
    "\n",
    "<!--\n",
    "![Raw HTML for a single unit listing on OpenLearn full catalogue](images/openlearn_unit_html.png)\n",
    "-->"
   ]
  },
  {
   "cell_type": "markdown",
   "id": "f3184e6d",
   "metadata": {},
   "source": [
    "## Scraping the List of Free OpenLearn Units\n",
    "\n",
    "From the HTML table that lists all the free units available on OpenLearn, we can grab a list of the unit names, duration, level, original OU module and the OpenLearn unit URL.\n",
    "\n",
    "We can also generate candidate URLs for the OU-XML and HTML zip downloads. These URLs are conventionally defined, but the resources are not necessarily published there. Having generated the URL, we can make a simple HTTP/HEAD request to see whether a resource is actually available at the URL (if the resource is available, we get a 200/OK message; if the resource is not available, we get a 404/Page not found)."
   ]
  },
  {
   "cell_type": "code",
   "execution_count": 1,
   "id": "38616aed",
   "metadata": {},
   "outputs": [],
   "source": [
    "# The requests package provides a range of utilities for\n",
    "# making http calls, retrieving html pages etc\n",
    "import requests\n",
    "\n",
    "# If appropriate, we can cache http requests made using the requests package\n",
    "import requests_cache\n",
    "requests_cache.install_cache('openlearn_cache')\n",
    "# Suspend with with requests_cache.disabled():\n",
    "\n",
    "# The BeuatifulSoup package provides a range of tools for parsing\n",
    "# HTML documents and scraping elements from them\n",
    "from bs4 import BeautifulSoup\n",
    "\n",
    "# We can use the tqdm package to provide progress bar indicators\n",
    "# that allow us to keep track of the state of progress of a scrape\n",
    "# of multiple pages\n",
    "from tqdm.notebook import tqdm"
   ]
  },
  {
   "cell_type": "markdown",
   "id": "aefbae14",
   "metadata": {},
   "source": [
    "Our scrape begins by grabbing the HTML page for the free unit catalogue and extracting the table that contains the unit listings:"
   ]
  },
  {
   "cell_type": "code",
   "execution_count": 2,
   "id": "da7caaa3",
   "metadata": {},
   "outputs": [],
   "source": [
    "# URL for the OpenLearn full catalogue of free units\n",
    "srcUrl='https://www.open.edu/openlearn/free-courses/full-catalogue'\n",
    "\n",
    "# Grab the HTML page\n",
    "html = requests.get(srcUrl).content\n",
    "  \n",
    "# Creating a soup object (a navigable tree element)\n",
    "soup = BeautifulSoup(html, 'html.parser')\n",
    "\n",
    "# The table containing the listing is found within a div element\n",
    "# with a particular, unique id\n",
    "table = soup.find(\"div\", {\"id\": \"expander_content_11\"}).find(\"table\")"
   ]
  },
  {
   "cell_type": "markdown",
   "id": "05142cca",
   "metadata": {},
   "source": [
    "For each row in the table, except from the header row, we can extract the OpenLearn unit name and homepage URL, and the level, anticipated duration, and parent OU module code, if available. We can also derive conventional URLs for the OU-XML and HTML zip downloads, and make HTTP/HEAD requests to poll to see whether those assets actually exist at the conventional location. "
   ]
  },
  {
   "cell_type": "code",
   "execution_count": 3,
   "id": "8ea114aa",
   "metadata": {},
   "outputs": [
    {
     "data": {
      "application/json": {
       "ascii": false,
       "bar_format": null,
       "colour": null,
       "elapsed": 0.02962183952331543,
       "initial": 0,
       "n": 0,
       "ncols": null,
       "nrows": 24,
       "postfix": null,
       "prefix": "",
       "rate": null,
       "total": 432,
       "unit": "it",
       "unit_divisor": 1000,
       "unit_scale": false
      },
      "application/vnd.jupyter.widget-view+json": {
       "model_id": "8175c35ac3b349f1812c51ffb57478cb",
       "version_major": 2,
       "version_minor": 0
      },
      "text/plain": [
       "  0%|          | 0/432 [00:00<?, ?it/s]"
      ]
     },
     "metadata": {},
     "output_type": "display_data"
    }
   ],
   "source": [
    "# We're going to build up a list of dicts, one dict per unit\n",
    "units = []\n",
    "\n",
    "# The first row of the table is a header row\n",
    "# so we can skip it\n",
    "for row in tqdm(table.find_all(\"tr\")[1:]):\n",
    "    \n",
    "    # Get the url for each OpenLearn unit homepage\n",
    "    url = xmlurl = htmlurl = row.find(\"a\").get(\"href\")\n",
    "    \n",
    "    # Get the unit name, parent OU module code, level and time allocation\n",
    "    name = row.find(\"a\").text.strip()\n",
    "    code = row.find(\"span\", {\"class\":\"hidden\"}).text.strip()\n",
    "    level = row.find(\"tx\", {\"class\":\"field_educational_level\"})\n",
    "    duration = row.find(\"td\", {\"class\":\"field_duration\"})\n",
    "\n",
    "    # Simple cleaning\n",
    "    level = level.text.strip() if level else level\n",
    "    duration = duration.text.strip() if duration else duration\n",
    "    \n",
    "    # Do a simple header check to see if the ou-xml and html downloads\n",
    "    # are available at the conventional location\n",
    "    # We could look at the full homepage for download element links\n",
    "    # but that means actually loading each unit page, rather than just\n",
    "    # performing a header check\n",
    "    for stub in [\"content-section-overview\", \"content-section-0\" ]:\n",
    "        xmlurl = xmlurl.replace(stub, \"altformat-ouxml\")\n",
    "        htmlurl = htmlurl.replace(stub, \"altformat-html\")\n",
    "\n",
    "    xmlurl = xmlurl if \"altformat-ouxml\" in xmlurl and requests.head(xmlurl).status_code==200 else None\n",
    "    htmlurl = htmlurl if \"altformat-html\" in htmlurl and requests.head(htmlurl).status_code==200 else None\n",
    "\n",
    "    # Build up a list of dicts, one dict per unit on OpenLearn\n",
    "    units.append({\"name\": name, \n",
    "                  \"url\": url,\n",
    "                  \"code\": code,\n",
    "                  \"level\": level,\n",
    "                  \"duration\": int(duration),\n",
    "                  \"xmlurl\": xmlurl,\n",
    "                  \"htmlurl\": htmlurl\n",
    "                 }\n",
    "                )"
   ]
  },
  {
   "cell_type": "markdown",
   "id": "0c5c61d8",
   "metadata": {},
   "source": [
    "Preview the results of the scrape:"
   ]
  },
  {
   "cell_type": "code",
   "execution_count": 4,
   "id": "e22849c1",
   "metadata": {},
   "outputs": [
    {
     "data": {
      "text/plain": [
       "[{'name': 'A brief history of communication: hieroglyphics to emojis',\n",
       "  'url': 'https://www.open.edu/openlearn/languages/a-brief-history-communication-hieroglyphics-emojis/content-section-0',\n",
       "  'code': 'L101',\n",
       "  'level': None,\n",
       "  'duration': 5,\n",
       "  'xmlurl': 'https://www.open.edu/openlearn/languages/a-brief-history-communication-hieroglyphics-emojis/altformat-ouxml',\n",
       "  'htmlurl': 'https://www.open.edu/openlearn/languages/a-brief-history-communication-hieroglyphics-emojis/altformat-html'},\n",
       " {'name': 'Academi Arian MSE',\n",
       "  'url': 'https://www.open.edu/openlearn/money-business/academi-arian-mse/content-section-overview',\n",
       "  'code': '',\n",
       "  'level': None,\n",
       "  'duration': 12,\n",
       "  'xmlurl': None,\n",
       "  'htmlurl': None},\n",
       " {'name': 'Accessibility of eLearning',\n",
       "  'url': 'https://www.open.edu/openlearn/education-development/education-careers/accessibility-elearning/content-section-0',\n",
       "  'code': 'H807',\n",
       "  'level': None,\n",
       "  'duration': 15,\n",
       "  'xmlurl': 'https://www.open.edu/openlearn/education-development/education-careers/accessibility-elearning/altformat-ouxml',\n",
       "  'htmlurl': 'https://www.open.edu/openlearn/education-development/education-careers/accessibility-elearning/altformat-html'}]"
      ]
     },
     "execution_count": 4,
     "metadata": {},
     "output_type": "execute_result"
    }
   ],
   "source": [
    "units[:3]"
   ]
  },
  {
   "cell_type": "markdown",
   "id": "d4211a85",
   "metadata": {},
   "source": [
    "We can add the list of units to a simple database table using the file based SQLite database."
   ]
  },
  {
   "cell_type": "code",
   "execution_count": 5,
   "id": "9ee6437d",
   "metadata": {},
   "outputs": [],
   "source": [
    "# The sqlite_utils package provides a wide range of tools\n",
    "# that support working with SQLite databases\n",
    "from sqlite_utils import Database\n",
    "\n",
    "# The database will be saved to a file\n",
    "dbname = \"all_openlean_xml.db\"\n",
    "\n",
    "# If necessary, provide a clean start\n",
    "#!rm -f $dbname\n",
    "\n",
    "# Create a database connection\n",
    "# This creates the database file if it does not already exist\n",
    "# otherwise we connect to a pre-existing database file\n",
    "db = Database(dbname)"
   ]
  },
  {
   "cell_type": "markdown",
   "id": "8ebd4edb",
   "metadata": {},
   "source": [
    "We can create a database table structure on the fly simply by inserting documents into it, or we can create a database table schema in advance. We can also create a secondary table that supports free text search and that will be dynamically updated whenever we add a record to the table we want to provide free text search over."
   ]
  },
  {
   "cell_type": "code",
   "execution_count": 6,
   "id": "2b7bae05",
   "metadata": {},
   "outputs": [
    {
     "data": {
      "text/plain": [
       "<Table units (code, name, level, duration, url, xmlurl, htmlurl)>"
      ]
     },
     "execution_count": 6,
     "metadata": {},
     "output_type": "execute_result"
    }
   ],
   "source": [
    "# Create a new table reference (units)\n",
    "all_units = db[\"units\"]\n",
    "\n",
    "# Clear the table to give us a fresh start\n",
    "# Setting ignore=True prevents an error if the table does not exist\n",
    "all_units.drop(ignore=True)\n",
    "\n",
    "# Define the table structure\n",
    "all_units.create({\n",
    "    \"code\": int,\n",
    "    \"name\": str,\n",
    "    \"level\": str,\n",
    "    \"duration\": int,\n",
    "    \"url\": str,\n",
    "    \"xmlurl\": str,\n",
    "    \"htmlurl\": str\n",
    "}, pk=(\"code\",\"name\"))\n",
    "# The name of the OpenLearn unit and the parent OU module code\n",
    "# should be a unique combination, which means we can use them\n",
    "# as a primary key for the table\n",
    "\n",
    "# We can improve search over the table by supporting free text search.\n",
    "# This involves the creation of a secondary table with a free text search \n",
    "# index provided over one or more specified columns.\n",
    "# The free text search table is automatically updated whenever one or more\n",
    "# items are added to the table with which the search index is associated.\n",
    "db[f\"{all_units.name}_fts\"].drop(ignore=True)\n",
    "all_units.enable_fts([\"name\", \"code\"], create_triggers=True)"
   ]
  },
  {
   "cell_type": "markdown",
   "id": "e4b516be",
   "metadata": {},
   "source": [
    "We can now add our list of units to the `units` table in the database (the free text search table will be automatically updated):"
   ]
  },
  {
   "cell_type": "code",
   "execution_count": 7,
   "id": "48cfb868",
   "metadata": {},
   "outputs": [
    {
     "data": {
      "text/plain": [
       "<Table units (code, name, level, duration, url, xmlurl, htmlurl)>"
      ]
     },
     "execution_count": 7,
     "metadata": {},
     "output_type": "execute_result"
    }
   ],
   "source": [
    "all_units.insert_all(units)"
   ]
  },
  {
   "cell_type": "markdown",
   "id": "c13298f9",
   "metadata": {},
   "source": [
    "Let's try a test query, pulling the results back into a `pandas` dataframe for convenience:"
   ]
  },
  {
   "cell_type": "code",
   "execution_count": 8,
   "id": "ce3197cb",
   "metadata": {},
   "outputs": [
    {
     "data": {
      "text/html": [
       "<div>\n",
       "<style scoped>\n",
       "    .dataframe tbody tr th:only-of-type {\n",
       "        vertical-align: middle;\n",
       "    }\n",
       "\n",
       "    .dataframe tbody tr th {\n",
       "        vertical-align: top;\n",
       "    }\n",
       "\n",
       "    .dataframe thead th {\n",
       "        text-align: right;\n",
       "    }\n",
       "</style>\n",
       "<table border=\"1\" class=\"dataframe\">\n",
       "  <thead>\n",
       "    <tr style=\"text-align: right;\">\n",
       "      <th></th>\n",
       "      <th>code</th>\n",
       "      <th>name</th>\n",
       "      <th>level</th>\n",
       "      <th>duration</th>\n",
       "      <th>url</th>\n",
       "      <th>xmlurl</th>\n",
       "      <th>htmlurl</th>\n",
       "    </tr>\n",
       "  </thead>\n",
       "  <tbody>\n",
       "    <tr>\n",
       "      <th>0</th>\n",
       "      <td>L101</td>\n",
       "      <td>A brief history of communication: hieroglyphic...</td>\n",
       "      <td>None</td>\n",
       "      <td>5</td>\n",
       "      <td>https://www.open.edu/openlearn/languages/a-bri...</td>\n",
       "      <td>https://www.open.edu/openlearn/languages/a-bri...</td>\n",
       "      <td>https://www.open.edu/openlearn/languages/a-bri...</td>\n",
       "    </tr>\n",
       "    <tr>\n",
       "      <th>1</th>\n",
       "      <td></td>\n",
       "      <td>Academi Arian MSE</td>\n",
       "      <td>None</td>\n",
       "      <td>12</td>\n",
       "      <td>https://www.open.edu/openlearn/money-business/...</td>\n",
       "      <td>None</td>\n",
       "      <td>None</td>\n",
       "    </tr>\n",
       "    <tr>\n",
       "      <th>2</th>\n",
       "      <td>H807</td>\n",
       "      <td>Accessibility of eLearning</td>\n",
       "      <td>None</td>\n",
       "      <td>15</td>\n",
       "      <td>https://www.open.edu/openlearn/education-devel...</td>\n",
       "      <td>https://www.open.edu/openlearn/education-devel...</td>\n",
       "      <td>https://www.open.edu/openlearn/education-devel...</td>\n",
       "    </tr>\n",
       "  </tbody>\n",
       "</table>\n",
       "</div>"
      ],
      "text/plain": [
       "   code                                               name level  duration  \\\n",
       "0  L101  A brief history of communication: hieroglyphic...  None         5   \n",
       "1                                        Academi Arian MSE  None        12   \n",
       "2  H807                         Accessibility of eLearning  None        15   \n",
       "\n",
       "                                                 url  \\\n",
       "0  https://www.open.edu/openlearn/languages/a-bri...   \n",
       "1  https://www.open.edu/openlearn/money-business/...   \n",
       "2  https://www.open.edu/openlearn/education-devel...   \n",
       "\n",
       "                                              xmlurl  \\\n",
       "0  https://www.open.edu/openlearn/languages/a-bri...   \n",
       "1                                               None   \n",
       "2  https://www.open.edu/openlearn/education-devel...   \n",
       "\n",
       "                                             htmlurl  \n",
       "0  https://www.open.edu/openlearn/languages/a-bri...  \n",
       "1                                               None  \n",
       "2  https://www.open.edu/openlearn/education-devel...  "
      ]
     },
     "execution_count": 8,
     "metadata": {},
     "output_type": "execute_result"
    }
   ],
   "source": [
    "import pandas as pd\n",
    "\n",
    "pd.read_sql(\"SELECT * FROM units LIMIT 3\", con=db.conn)"
   ]
  },
  {
   "cell_type": "markdown",
   "id": "c417c693",
   "metadata": {},
   "source": [
    "We can also try a free text search:"
   ]
  },
  {
   "cell_type": "code",
   "execution_count": 9,
   "id": "279acd6c",
   "metadata": {},
   "outputs": [
    {
     "data": {
      "text/html": [
       "<div>\n",
       "<style scoped>\n",
       "    .dataframe tbody tr th:only-of-type {\n",
       "        vertical-align: middle;\n",
       "    }\n",
       "\n",
       "    .dataframe tbody tr th {\n",
       "        vertical-align: top;\n",
       "    }\n",
       "\n",
       "    .dataframe thead th {\n",
       "        text-align: right;\n",
       "    }\n",
       "</style>\n",
       "<table border=\"1\" class=\"dataframe\">\n",
       "  <thead>\n",
       "    <tr style=\"text-align: right;\">\n",
       "      <th></th>\n",
       "      <th>name</th>\n",
       "      <th>code</th>\n",
       "    </tr>\n",
       "  </thead>\n",
       "  <tbody>\n",
       "    <tr>\n",
       "      <th>0</th>\n",
       "      <td>A brief history of communication: hieroglyphic...</td>\n",
       "      <td>L101</td>\n",
       "    </tr>\n",
       "    <tr>\n",
       "      <th>1</th>\n",
       "      <td>Accessibility of eLearning</td>\n",
       "      <td>H807</td>\n",
       "    </tr>\n",
       "  </tbody>\n",
       "</table>\n",
       "</div>"
      ],
      "text/plain": [
       "                                                name  code\n",
       "0  A brief history of communication: hieroglyphic...  L101\n",
       "1                         Accessibility of eLearning  H807"
      ]
     },
     "execution_count": 9,
     "metadata": {},
     "output_type": "execute_result"
    }
   ],
   "source": [
    "# free text search term(s)\n",
    "# This may include boolean search operators\n",
    "q = \"history communication OR H807\"\n",
    "\n",
    "\n",
    "# Construct a query onto the free text search index\n",
    "_q = f\"\"\"\n",
    "SELECT * FROM units_fts WHERE units_fts MATCH {db.quote(q)} ;\n",
    "\"\"\"\n",
    "\n",
    "pd.read_sql(_q, con=db.conn)"
   ]
  },
  {
   "cell_type": "markdown",
   "id": "6626dd51",
   "metadata": {},
   "source": [
    "## Building a Database of OU-XML Documents\n",
    "\n",
    "From the list of free units on OpenLearn, we constructed the URL for the OU-XML download associated with the unit and polled the OpenLearn website to check whether the resource exisited. Only OU-XML URLs that refer to an actually downloadable resource were then added to our units list, and to the database.\n",
    "\n",
    "We can now create a futher table into which we will insert the OU-XML document (where available) associated with each OpenLearn unit.\n",
    "\n",
    "*If the `units` list is not available, we could query the `units` database table for units where the OU-XML URL exists, and then use that list to download the referenced OU-XML resources and add them to our database."
   ]
  },
  {
   "cell_type": "code",
   "execution_count": 10,
   "id": "73bb8134",
   "metadata": {},
   "outputs": [
    {
     "data": {
      "text/plain": [
       "<Table xml (code, name, xml)>"
      ]
     },
     "execution_count": 10,
     "metadata": {},
     "output_type": "execute_result"
    }
   ],
   "source": [
    "all_xml_tbl = db[\"xml\"]\n",
    "all_xml_tbl.drop(ignore=True)\n",
    "\n",
    "all_xml_tbl.create({\n",
    "    \"code\": int,\n",
    "    \"name\": str,\n",
    "    \"xml\": str\n",
    "}, pk=(\"code\", \"name\"), if_not_exists=True)"
   ]
  },
  {
   "cell_type": "markdown",
   "id": "ef922a55",
   "metadata": {},
   "source": [
    "Let's grab all the files, again using a `tqdm` progress bar to help us keep track of how much progress we have made.\n",
    "\n",
    "*To optimise things a little, only try to grab units where we know there is an OU-XML resource available.*"
   ]
  },
  {
   "cell_type": "code",
   "execution_count": 11,
   "id": "e43389a0",
   "metadata": {},
   "outputs": [
    {
     "data": {
      "application/json": {
       "ascii": false,
       "bar_format": null,
       "colour": null,
       "elapsed": 0.032373905181884766,
       "initial": 0,
       "n": 0,
       "ncols": null,
       "nrows": 24,
       "postfix": null,
       "prefix": "",
       "rate": null,
       "total": 400,
       "unit": "it",
       "unit_divisor": 1000,
       "unit_scale": false
      },
      "application/vnd.jupyter.widget-view+json": {
       "model_id": "c0867aeef3d84dfe824e0503b84d6780",
       "version_major": 2,
       "version_minor": 0
      },
      "text/plain": [
       "  0%|          | 0/400 [00:00<?, ?it/s]"
      ]
     },
     "metadata": {},
     "output_type": "display_data"
    }
   ],
   "source": [
    "# The following construction is know as a list comprehension\n",
    "# We construct a new list from the units list containing only\n",
    "# units where the OU-XML url (u[\"xmlurl\"]) exists\n",
    "_units = [u for u in units if u[\"xmlurl\"]]\n",
    "\n",
    "# For each unit with an ouxml URL, get the OU-XML resource\n",
    "# and add it to the database\n",
    "for u in tqdm( _units ):\n",
    "    all_xml_tbl.insert({\"code\": u[\"code\"],\n",
    "                        \"name\":u[\"name\"],\n",
    "                        \"xml\": requests.get(u[\"xmlurl\"]).content})"
   ]
  },
  {
   "cell_type": "markdown",
   "id": "78849344",
   "metadata": {},
   "source": [
    "Let's preview what we've got:"
   ]
  },
  {
   "cell_type": "code",
   "execution_count": 12,
   "id": "57515963",
   "metadata": {},
   "outputs": [
    {
     "data": {
      "text/html": [
       "<div>\n",
       "<style scoped>\n",
       "    .dataframe tbody tr th:only-of-type {\n",
       "        vertical-align: middle;\n",
       "    }\n",
       "\n",
       "    .dataframe tbody tr th {\n",
       "        vertical-align: top;\n",
       "    }\n",
       "\n",
       "    .dataframe thead th {\n",
       "        text-align: right;\n",
       "    }\n",
       "</style>\n",
       "<table border=\"1\" class=\"dataframe\">\n",
       "  <thead>\n",
       "    <tr style=\"text-align: right;\">\n",
       "      <th></th>\n",
       "      <th>code</th>\n",
       "      <th>name</th>\n",
       "      <th>xml</th>\n",
       "    </tr>\n",
       "  </thead>\n",
       "  <tbody>\n",
       "    <tr>\n",
       "      <th>0</th>\n",
       "      <td>L101</td>\n",
       "      <td>A brief history of communication: hieroglyphic...</td>\n",
       "      <td>b'&lt;?xml version=\"1.0\" encoding=\"utf-8\"?&gt;\\n&lt;?sc...</td>\n",
       "    </tr>\n",
       "    <tr>\n",
       "      <th>1</th>\n",
       "      <td>H807</td>\n",
       "      <td>Accessibility of eLearning</td>\n",
       "      <td>b'&lt;?xml version=\"1.0\" encoding=\"utf-8\"?&gt;\\n&lt;?sc...</td>\n",
       "    </tr>\n",
       "    <tr>\n",
       "      <th>2</th>\n",
       "      <td></td>\n",
       "      <td>Addysg gynhwysol: deall yr hyn a olygwn (Cymru)</td>\n",
       "      <td>b'&lt;?xml version=\"1.0\" encoding=\"UTF-8\"?&gt;\\n&lt;Ite...</td>\n",
       "    </tr>\n",
       "  </tbody>\n",
       "</table>\n",
       "</div>"
      ],
      "text/plain": [
       "   code                                               name  \\\n",
       "0  L101  A brief history of communication: hieroglyphic...   \n",
       "1  H807                         Accessibility of eLearning   \n",
       "2          Addysg gynhwysol: deall yr hyn a olygwn (Cymru)   \n",
       "\n",
       "                                                 xml  \n",
       "0  b'<?xml version=\"1.0\" encoding=\"utf-8\"?>\\n<?sc...  \n",
       "1  b'<?xml version=\"1.0\" encoding=\"utf-8\"?>\\n<?sc...  \n",
       "2  b'<?xml version=\"1.0\" encoding=\"UTF-8\"?>\\n<Ite...  "
      ]
     },
     "execution_count": 12,
     "metadata": {},
     "output_type": "execute_result"
    }
   ],
   "source": [
    "pd.read_sql(\"SELECT * FROM xml LIMIT 3\", con=db.conn)"
   ]
  },
  {
   "cell_type": "markdown",
   "id": "d904a55c",
   "metadata": {},
   "source": [
    "### Retrieving and Working With OU-XML Stored in the Database\n",
    "\n",
    "We can now grab an OU-XML document from our database, parse it into an XML object:"
   ]
  },
  {
   "cell_type": "code",
   "execution_count": 13,
   "id": "344cb7ca",
   "metadata": {},
   "outputs": [
    {
     "data": {
      "text/plain": [
       "<Element Item at 0x7fc64eb09680>"
      ]
     },
     "execution_count": 13,
     "metadata": {},
     "output_type": "execute_result"
    }
   ],
   "source": [
    "from lxml import etree\n",
    "# Grab the XML from the atabase for a particular module\n",
    "# (If there are several units derived from the module,\n",
    "# use the first in the results list)\n",
    "h807_xml_raw = pd.read_sql(\"SELECT xml FROM xml WHERE code='H807'\", con=db.conn).loc[0, \"xml\"]\n",
    "\n",
    "# Parse the XML into an xml object\n",
    "root = etree.fromstring(h807_xml_raw)\n",
    "\n",
    "root"
   ]
  },
  {
   "cell_type": "markdown",
   "id": "91e978ce",
   "metadata": {},
   "source": [
    "We can now run a simple XPATH query directly over the parsed XML object:"
   ]
  },
  {
   "cell_type": "code",
   "execution_count": 14,
   "id": "9367b71e",
   "metadata": {},
   "outputs": [
    {
     "data": {
      "text/plain": [
       "'Accessibility of eLearning'"
      ]
     },
     "execution_count": 14,
     "metadata": {},
     "output_type": "execute_result"
    }
   ],
   "source": [
    "# Use xpath expressions to navigate to particular elements\n",
    "# in the XML document object\n",
    "# Select the first ItemTitle element and render its text content\n",
    "root.xpath(\"ItemTitle\")[0].text"
   ]
  },
  {
   "cell_type": "markdown",
   "id": "ba647b33",
   "metadata": {},
   "source": [
    "We can also query deeper into the document, and render the structure of a particular element. The following convenience function will return the raw XML in binary or string form associated with a particular XML document node element: "
   ]
  },
  {
   "cell_type": "code",
   "execution_count": 15,
   "id": "eaefe283",
   "metadata": {},
   "outputs": [],
   "source": [
    "def unpack(x, as_str=False):\n",
    "    \"\"\"Convenience function to look at the structure of an XML object.\"\"\"\n",
    "    return etree.tostring(x) if not as_str else etree.tostring(x).decode()"
   ]
  },
  {
   "cell_type": "markdown",
   "id": "90e3c22c",
   "metadata": {},
   "source": [
    "Let's see what we get if we view the `<LearningOutomes>` element:"
   ]
  },
  {
   "cell_type": "code",
   "execution_count": 16,
   "id": "0d477e46",
   "metadata": {},
   "outputs": [
    {
     "name": "stdout",
     "output_type": "stream",
     "text": [
      "<LearningOutcomes xmlns:xsi=\"http://www.w3.org/2001/XMLSchema-instance\">\n",
      "                                                  <Paragraph>After studying this course, you should be able to:</Paragraph>\n",
      "                                                  <LearningOutcome>discuss the main challenges facing disabled students with respect to eLearning.</LearningOutcome>\n",
      "                                                  <LearningOutcome>have an understanding of the types of technology used by disabled students.</LearningOutcome>\n",
      "                                                  <LearningOutcome>consider what adjustments you might make in creating eLearning materials to ensure they are accessible and usable.</LearningOutcome>\n",
      "                                                  <LearningOutcome>consider appropriate ways to evaluate the accessibility and usability of your eLearning materials. </LearningOutcome>\n",
      "                                        </LearningOutcomes>\n",
      "                                        \n"
     ]
    }
   ],
   "source": [
    "print( unpack( root.xpath(\"//LearningOutcomes\")[0], as_str=True))"
   ]
  },
  {
   "cell_type": "markdown",
   "id": "119f91fc",
   "metadata": {},
   "source": [
    "## Scraping and Storing HTML Media Assets\n",
    "\n",
    "The easiest way to grab the media assets associated with each unit is probably to download the HTML bundle.\n",
    "\n",
    "To be most useful, this means we need to be able to reconcile the downloaded assets with the media assets referenced in the corresponding OU-XML document.\n",
    "\n",
    "Rather than download all the media assets for all the free OpenLearn units, we will limit ourselves to a simple proof of concept that just downloads the assets associated with a single OpenLearn model.\n",
    "\n",
    "We will leave the question of how to reconcile the assets with the assets referenced in the corresponding OU-XML document till another time. However, we will show how we can work with downloaded media assets that have been saved into our database.\n",
    "\n",
    "To start with, let's find a unit for which we have an  "
   ]
  },
  {
   "cell_type": "code",
   "execution_count": 17,
   "id": "53be64f9",
   "metadata": {},
   "outputs": [
    {
     "data": {
      "text/plain": [
       "{'name': 'A brief history of communication: hieroglyphics to emojis',\n",
       " 'url': 'https://www.open.edu/openlearn/languages/a-brief-history-communication-hieroglyphics-emojis/content-section-0',\n",
       " 'code': 'L101',\n",
       " 'level': None,\n",
       " 'duration': 5,\n",
       " 'xmlurl': 'https://www.open.edu/openlearn/languages/a-brief-history-communication-hieroglyphics-emojis/altformat-ouxml',\n",
       " 'htmlurl': 'https://www.open.edu/openlearn/languages/a-brief-history-communication-hieroglyphics-emojis/altformat-html'}"
      ]
     },
     "execution_count": 17,
     "metadata": {},
     "output_type": "execute_result"
    }
   ],
   "source": [
    "# Get the list of units where there's an html URL and take the first\n",
    "# We could of course also query our database to fin one...\n",
    "example_unit = [u for u in units if u[\"htmlurl\"]][0]\n",
    "\n",
    "example_unit"
   ]
  },
  {
   "cell_type": "markdown",
   "id": "e2aae46e",
   "metadata": {},
   "source": [
    "Let's get the HTML bundle URL, an also extract the unit path name; we can use the latter to name our download file."
   ]
  },
  {
   "cell_type": "code",
   "execution_count": 18,
   "id": "054b95e3",
   "metadata": {},
   "outputs": [
    {
     "name": "stdout",
     "output_type": "stream",
     "text": [
      "- hurl: https://www.open.edu/openlearn/languages/a-brief-history-communication-hieroglyphics-emojis/altformat-html\n",
      "- fname: a-brief-history-communication-hieroglyphics-emojis\n"
     ]
    }
   ],
   "source": [
    "# Get the HTML bundle download URL\n",
    "hurl = example_unit[\"htmlurl\"]\n",
    "\n",
    "#Get the pathname for the unit\n",
    "fname = hurl.split('/')[-2]\n",
    "\n",
    "#Preview these variables\n",
    "print(f\"- hurl: {hurl}\\n- fname: {fname}\")"
   ]
  },
  {
   "cell_type": "markdown",
   "id": "3ad8257c",
   "metadata": {},
   "source": [
    "The HTML is is actually a zip file. We can use the `urllib.request` to download this package to our computer."
   ]
  },
  {
   "cell_type": "code",
   "execution_count": 19,
   "id": "a62ba426",
   "metadata": {},
   "outputs": [
    {
     "data": {
      "text/plain": [
       "'a-brief-history-communication-hieroglyphics-emojis.zip'"
      ]
     },
     "execution_count": 19,
     "metadata": {},
     "output_type": "execute_result"
    }
   ],
   "source": [
    "import urllib.request\n",
    "\n",
    "# Create a helper to download the resource for us\n",
    "getter = urllib.request.URLopener()\n",
    "\n",
    "# Specify a name for the downloaded file\n",
    "download_file = f\"{fname}.zip\"\n",
    "\n",
    "getter.retrieve(hurl, download_file)\n",
    "\n",
    "# This is the file we saved the resource as\n",
    "download_file"
   ]
  },
  {
   "cell_type": "markdown",
   "id": "9715125a",
   "metadata": {},
   "source": [
    "We can peek inside the zip archive file using the `zipfile` package:"
   ]
  },
  {
   "cell_type": "code",
   "execution_count": 20,
   "id": "34459685",
   "metadata": {},
   "outputs": [
    {
     "data": {
      "text/plain": [
       "['Items/x_7_l101_1_4.html',\n",
       " 'Items/x_8_l101_1_4_1.html',\n",
       " 'Items/x_9_l101_1_4_2.html',\n",
       " 'Items/x_l101_1__descriptiond0e321.html',\n",
       " 'Items/x_l101_1__descriptiond0e373.html',\n",
       " 'Items/x_l101_1__descriptiond0e400.html',\n",
       " 'Items/x_l101_1__descriptiond0e425.html',\n",
       " 'Items/x_l101_1__descriptiond0e618.html',\n",
       " 'Items/x_l101_1__descriptiond0e689.html',\n",
       " 'Items/x_l101_1__descriptiond0e868.html',\n",
       " 'Items/x_l101_1__transcriptd0e281.html',\n",
       " 'Items/x_l101_1__transcriptd0e713.html',\n",
       " 'Items/_31fc26135690af3deb1715277799629474e0d87f_l101_2018j_aug037.mp3',\n",
       " 'Items/_36eab0b10aa000c0eb95f4e1477d160bc385d5ce_l101_ol_twitter_emoji.mp4',\n",
       " 'Items/_7230df23b5f8f3060b83c6e99739622f8735350b_l101_ol_218698sumeriancuneiformtabletfig4.tif',\n",
       " 'Items/_81f1f0e2202e38db69792d8252d6dc827058f631_l101_ol186633_fig1emoji_decorative.tif',\n",
       " 'Items/_8a6712fa3ab54067a8165ef97c01bebf9d504e1d_l101_ol_figure9.jpg',\n",
       " 'Items/_9869fc8aa3ffbb0c5ceeceaaeeac7a7a1acf6877_l101_blk1_u4_pt3.eps.jpg',\n",
       " 'Items/_b735beaea648bb1268b74b8b7987f20ae3c0054d_l101_ol_fig3_218696_lascaux_cave_paintings.jpg',\n",
       " 'Items/_cc58a9b2a70b53241285f4ec062c24982e18f253_video1_poster.jpg']"
      ]
     },
     "execution_count": 20,
     "metadata": {},
     "output_type": "execute_result"
    }
   ],
   "source": [
    "import zipfile\n",
    "\n",
    "# zip file handler  \n",
    "zip_ = zipfile.ZipFile( download_file )\n",
    "\n",
    "# list available files in the container\n",
    "zip_.namelist()[30:50]"
   ]
  },
  {
   "cell_type": "markdown",
   "id": "c2b54a2e",
   "metadata": {},
   "source": [
    "The zip file is organised like a directory: it contains files and subdirectories within it.\n",
    "\n",
    "The OU-XML content has been rendered into separate HTML files for the different XML sections (for example, `Items/x_7_l101_1_4.html`). There also seem to be lots of images in the zipfile, not all of which may be \"content\" images (for example, some images may be logos or navigation icons).\n",
    "\n",
    "One way of finding out which images are content related is to look through the content HTML documents and extract the image references from them.\n",
    "\n",
    "The following function takes the path to a downloaded zip file, looks inside it for \"contentful\" HTML pages, and then attempts to find references to \"contentful\" figure images.\n",
    "\n",
    "*Note that the HTML bundles for different units may have been generated at different times and may have different internal HTML structure.*"
   ]
  },
  {
   "cell_type": "code",
   "execution_count": 21,
   "id": "4956fcc7",
   "metadata": {},
   "outputs": [],
   "source": [
    "def get_imgs_from_html(zip_, zip_fpath):\n",
    "    \"\"\"Get a list of image paths and alt text from an HTML file.\"\"\"\n",
    "    \n",
    "    # Open zip file\n",
    "    f = zip_.open(zip_fpath)\n",
    "    \n",
    "    # Create a reference to an HTML parser\n",
    "    soup = BeautifulSoup(f, 'html.parser')\n",
    "    \n",
    "    # Depending on when the HTML bundle was generated,\n",
    "    # we often find image references in a particularly classed\n",
    "    # div element\n",
    "    figures = soup.find_all(\"div\", {\"class\": \"oucontent-figure\"})\n",
    "    \n",
    "    fig_list = []\n",
    "    # For each figure reference\n",
    "    for fig in figures:\n",
    "        # Get the local image path\n",
    "        # This path is locally valid in the zipfile context\n",
    "        img_path = fig.find(\"img\").get('src')\n",
    "        fig_list.append(img_path)\n",
    "\n",
    "    return fig_list"
   ]
  },
  {
   "cell_type": "markdown",
   "id": "34a11f01",
   "metadata": {},
   "source": [
    "If we iterate through what we assume to be the contentful HTML files, we can get a list of references to what we assume are contentful images:"
   ]
  },
  {
   "cell_type": "code",
   "execution_count": 22,
   "id": "86a5167f",
   "metadata": {},
   "outputs": [
    {
     "data": {
      "text/plain": [
       "['_8a6712fa3ab54067a8165ef97c01bebf9d504e1d_l101_ol_figure9.jpg',\n",
       " '_ddd79f44c1411de8c1f9689825f45189df1c11f3_l101_fig1_186141gedoenmaheux.jpg',\n",
       " '_9869fc8aa3ffbb0c5ceeceaaeeac7a7a1acf6877_l101_blk1_u4_pt3.eps.jpg',\n",
       " '_81f1f0e2202e38db69792d8252d6dc827058f631_l101_ol186633_fig1emoji_decorative.tif',\n",
       " '_d7b7906d25a1744b217da0673439d17c601eb728_l101_fig2_218416hieroglyphics.tif',\n",
       " '_b735beaea648bb1268b74b8b7987f20ae3c0054d_l101_ol_fig3_218696_lascaux_cave_paintings.jpg',\n",
       " '_7230df23b5f8f3060b83c6e99739622f8735350b_l101_ol_218698sumeriancuneiformtabletfig4.tif']"
      ]
     },
     "execution_count": 22,
     "metadata": {},
     "output_type": "execute_result"
    }
   ],
   "source": [
    "# A list of what we assume to be \"contentful images\"\n",
    "images = []\n",
    "\n",
    "# Get a reference to the zip file\n",
    "zip_ = zipfile.ZipFile( download_file )\n",
    "\n",
    "# Iterate through the directories and files in the zip file\n",
    "# Note that we consume the list as we iterate it,\n",
    "# so if we want to view the list again we need to recreate\n",
    "# the zip_ reference\n",
    "for n in zip_.namelist():\n",
    "    # Assume a \"contentful\" html file is one on the Items/ path\n",
    "    if n.startswith(\"Items/\") and n.endswith(\".html\"):\n",
    "        # Grab the image references from the file on that path\n",
    "        _images = get_imgs_from_html(zip_, n)\n",
    "        # Add the list of images from that file to our overall\n",
    "        # list of contentful images\n",
    "        images.extend(_images)\n",
    "\n",
    "images"
   ]
  },
  {
   "cell_type": "markdown",
   "id": "a1814b4e",
   "metadata": {},
   "source": [
    "If required, we can open and preview the image files directly from the zip file:"
   ]
  },
  {
   "cell_type": "code",
   "execution_count": 23,
   "id": "daea3788",
   "metadata": {},
   "outputs": [
    {
     "data": {
      "text/plain": [
       "<zipfile.ZipExtFile name='Items/_8a6712fa3ab54067a8165ef97c01bebf9d504e1d_l101_ol_figure9.jpg' mode='r' compress_type=deflate>"
      ]
     },
     "execution_count": 23,
     "metadata": {},
     "output_type": "execute_result"
    }
   ],
   "source": [
    "# extract a specific file from the zip container\n",
    "# Let's grab one of the images\n",
    "image_file = zip_.open(f\"Items/{images[0]}\")\n",
    "image_file"
   ]
  },
  {
   "cell_type": "markdown",
   "id": "4e57e1c7",
   "metadata": {},
   "source": [
    "As this is actually an image file, we can preview it using the `Pillow` package:"
   ]
  },
  {
   "cell_type": "code",
   "execution_count": 24,
   "id": "b4cf828d",
   "metadata": {},
   "outputs": [
    {
     "data": {
      "image/png": "[encoded data removed]",
      "text/plain": [
       "<PIL.JpegImagePlugin.JpegImageFile image mode=RGB size=451x73>"
      ]
     },
     "execution_count": 24,
     "metadata": {},
     "output_type": "execute_result"
    }
   ],
   "source": [
    "#%pip install Pillow\n",
    "from PIL import Image\n",
    "\n",
    "Image.open(image_file)"
   ]
  },
  {
   "cell_type": "markdown",
   "id": "dd2b40b6",
   "metadata": {},
   "source": [
    "### Adding Images to a Database\n",
    "\n",
    "As a proof of concept, let's see how we might add some images to out database, and then retrieve them again."
   ]
  },
  {
   "cell_type": "code",
   "execution_count": 25,
   "id": "839d4e20",
   "metadata": {},
   "outputs": [
    {
     "data": {
      "text/plain": [
       "<Table test_table (item)>"
      ]
     },
     "execution_count": 25,
     "metadata": {},
     "output_type": "execute_result"
    }
   ],
   "source": [
    "# Create a test database\n",
    "# Give ourselves a clean slate to work with\n",
    "test_db_name = \"image_test.db\"\n",
    "!rm -f $test_db_name\n",
    "db_test = Database(test_db_name)\n",
    "\n",
    "# Create a test table in that database\n",
    "db_test_table = db_test[\"test_table\"]\n",
    "\n",
    "# Add an image directly to that table\n",
    "# An appropriate table schema will be created automatically\n",
    "# Get a reference to an image file\n",
    "image_file = zip_.open(f\"Items/{images[0]}\")\n",
    "\n",
    "# Read the contents of the file\n",
    "image_data = image_file.read()\n",
    "\n",
    "# and add inage data to the database\n",
    "db_test_table.insert({\"item\": image_data})"
   ]
  },
  {
   "cell_type": "markdown",
   "id": "656dd3bc",
   "metadata": {},
   "source": [
    "We can preview the schema created for the table:"
   ]
  },
  {
   "cell_type": "code",
   "execution_count": 26,
   "id": "1c424567",
   "metadata": {},
   "outputs": [
    {
     "data": {
      "text/plain": [
       "'CREATE TABLE [test_table] (\\n   [item] BLOB\\n)'"
      ]
     },
     "execution_count": 26,
     "metadata": {},
     "output_type": "execute_result"
    }
   ],
   "source": [
    "db_test_table.schema"
   ]
  },
  {
   "cell_type": "markdown",
   "id": "7f90ee43",
   "metadata": {},
   "source": [
    "*If we were to create our own table definition, we would set the column type to `\"BLOB\"`.*\n",
    "\n",
    "We can see the image data is now in our database:"
   ]
  },
  {
   "cell_type": "code",
   "execution_count": 27,
   "id": "bb1d9883",
   "metadata": {},
   "outputs": [
    {
     "data": {
      "text/html": [
       "<div>\n",
       "<style scoped>\n",
       "    .dataframe tbody tr th:only-of-type {\n",
       "        vertical-align: middle;\n",
       "    }\n",
       "\n",
       "    .dataframe tbody tr th {\n",
       "        vertical-align: top;\n",
       "    }\n",
       "\n",
       "    .dataframe thead th {\n",
       "        text-align: right;\n",
       "    }\n",
       "</style>\n",
       "<table border=\"1\" class=\"dataframe\">\n",
       "  <thead>\n",
       "    <tr style=\"text-align: right;\">\n",
       "      <th></th>\n",
       "      <th>item</th>\n",
       "    </tr>\n",
       "  </thead>\n",
       "  <tbody>\n",
       "    <tr>\n",
       "      <th>0</th>\n",
       "      <td>b'\\xff\\xd8\\xff\\xe0\\x00\\x10JFIF\\x00\\x01\\x01\\x01...</td>\n",
       "    </tr>\n",
       "  </tbody>\n",
       "</table>\n",
       "</div>"
      ],
      "text/plain": [
       "                                                item\n",
       "0  b'\\xff\\xd8\\xff\\xe0\\x00\\x10JFIF\\x00\\x01\\x01\\x01..."
      ]
     },
     "execution_count": 27,
     "metadata": {},
     "output_type": "execute_result"
    }
   ],
   "source": [
    "pd.read_sql(\"SELECT * FROM test_table\", con=db_test.conn)"
   ]
  },
  {
   "cell_type": "markdown",
   "id": "7b07992c",
   "metadata": {},
   "source": [
    "We can also read the data out and re-display the image:"
   ]
  },
  {
   "cell_type": "code",
   "execution_count": 28,
   "id": "955e8fdd",
   "metadata": {},
   "outputs": [
    {
     "data": {
      "image/png": "[encoded data removed]",
      "text/plain": [
       "<PIL.JpegImagePlugin.JpegImageFile image mode=RGB size=451x73>"
      ]
     },
     "execution_count": 28,
     "metadata": {},
     "output_type": "execute_result"
    }
   ],
   "source": [
    "import io\n",
    "\n",
    "#Get the image data\n",
    "img_data = pd.read_sql(\"SELECT * FROM test_table\", con=db_test.conn).loc[0, \"item\"]\n",
    "\n",
    "# To \"open\" the image using Image.open()\n",
    "# we need to make an appropriate virtual file object\n",
    "img_data_s = io.BytesIO(img_data)\n",
    "\n",
    "# \"Open\" the virtual image file\n",
    "Image.open(img_data_s)"
   ]
  },
  {
   "cell_type": "markdown",
   "id": "07710faa",
   "metadata": {},
   "source": [
    "We can also render the image data directly using the IPython.display.Image` machinery:"
   ]
  },
  {
   "cell_type": "code",
   "execution_count": 29,
   "id": "ddc74699",
   "metadata": {},
   "outputs": [
    {
     "data": {
      "image/jpeg": "[encoded data removed]",
      "text/plain": [
       "<IPython.core.display.Image object>"
      ]
     },
     "execution_count": 29,
     "metadata": {},
     "output_type": "execute_result"
    }
   ],
   "source": [
    "from IPython.display import Image as Image2\n",
    "\n",
    "Image2(img_data)"
   ]
  },
  {
   "cell_type": "markdown",
   "id": "03a4a4f0",
   "metadata": {},
   "source": [
    "## Summary\n",
    "\n",
    "In this section, we have seen how we can scrape a list of free OpenLearn units from a catalogue web page on the OpenLearn website and add this data to a simple, file-based database that supported free text search over the OpenLearn unit name and OU module code.\n",
    "\n",
    "We also saw how we could generate conventional URL paths that allowed us to download the OU-XML files associated with free OpenLearn units and add those to a database table. The XML can then be retrieved from the database and represented as an XML object that can be queried using XPATH expressions.\n",
    "\n",
    "Finally, we demonstrated how we can download an HTML bundle associated with an OpenLearn unit as a zip archive file and programmatically inspect its contents. From the assumed \"contentful\" HTML files in the archive we could identify assumed \"contentful\" images, extract them from the archive file, preview them, store them in a simple file based database, retrieve them from the database and preview them again."
   ]
  }
 ],
 "metadata": {
  "kernelspec": {
   "display_name": "Python 3 (ipykernel)",
   "language": "python",
   "name": "python3"
  },
  "language_info": {
   "codemirror_mode": {
    "name": "ipython",
    "version": 3
   },
   "file_extension": ".py",
   "mimetype": "text/x-python",
   "name": "python",
   "nbconvert_exporter": "python",
   "pygments_lexer": "ipython3",
   "version": "3.9.12"
  }
 },
 "nbformat": 4,
 "nbformat_minor": 5
}
