{
 "cells": [
  {
   "cell_type": "markdown",
   "id": "527884fa",
   "metadata": {},
   "source": [
    "# Working With Activities, Exercises, ITQs and SAQs\n",
    "\n",
    "When creating active teaching and learning materials, an important learning design approach for prompting engagement is the inclusion of activities, where a call to action is provided and a learner is encouraged to perform a particular task or check their understanding in a particular way.\n",
    "\n",
    "A large number of potentially reusable activities are defined in a structured way in OU-XML documents. If we are to reuse such activities, whether directly, with modification, or simply as a source of inspiration, we need to be able to browse or discover them in some way.\n",
    "\n",
    "Currently, discovery is likely to arise from an academic remembering a particular activity from a particular module then sarching the VLE for that module, and searching within the VLE for the activity they remember. How much easier it would be if they could simply search over all activities, perhaps filtering down by module code, and then previewing the results in a meaningful way?\n",
    "\n",
    "The `<Activity>`, `<Exercise>`, `<ITQ>` and `<SAQ>` elements all have a similar internal structure and only differ in the parent tag [[example docs](https://learn3.open.ac.uk/mod/oucontent/view.php?id=185747&section=8.1.1)].\n",
    "\n",
    "Each element __must__ include a `<Question>` and may include a `<Heading>` and a `<Timing>` element; various different response elements may be provided (one or more of `<MediaContent>`, `<Interaction>`, `<Answer>`, `<Discussion>`) either as a single response, or within a `<Part>` tag inside a `<Multipart>` response element..\n",
    "\n",
    "For example, at its simplest, an ITQ might take the following form:\n",
    "\n",
    "```xml\n",
    "<ITQ xmlns:xsi=\"http://www.w3.org/2001/XMLSchema-instance\">\n",
    "    <Question>\n",
    "        <Paragraph>In session 1, you met charged versions of atoms; what are they called? </Paragraph>\n",
    "    </Question>\n",
    "    <Answer>\n",
    "        <Paragraph>These are ions (positively charged ions are called cations and negatively charged ions are called anions). </Paragraph>\n",
    "    </Answer>\n",
    "</ITQ>\n",
    "```\n",
    "\n",
    "ITQs may also be defined as multipart questions.\n",
    "\n",
    "*Work in Progress*; the <MediaElement> enclosure within an activity element is not currently handled, although *all* media elements are extracted, irrespective of their context, in the generic section on extracting media items from OU-XML. *In the `Activity` context, it would probably make sense to use a foreign key relationship to provide a reference into the `media` table from an `activities` table.*"
   ]
  },
  {
   "cell_type": "markdown",
   "id": "9af4404d",
   "metadata": {},
   "source": [
    "## Preparing the Ground\n",
    "\n",
    "As ever, we need to set up a database connection:"
   ]
  },
  {
   "cell_type": "code",
   "execution_count": 1,
   "id": "bf3861b8",
   "metadata": {},
   "outputs": [],
   "source": [
    "from sqlite_utils import Database\n",
    "import pandas as pd\n",
    "\n",
    "# Open database connection\n",
    "xml_dbname = \"all_openlean_xml.db\"\n",
    "xml_db = Database(xml_dbname)\n",
    "\n",
    "activity_dbname = \"openlean_assets.db\"\n",
    "db = Database(activity_dbname)"
   ]
  },
  {
   "cell_type": "markdown",
   "id": "83f44c51",
   "metadata": {},
   "source": [
    "And get a sample XML file, selecting one that we know contains structurally marked up glossary items:"
   ]
  },
  {
   "cell_type": "code",
   "execution_count": 2,
   "id": "3a9902f1",
   "metadata": {},
   "outputs": [],
   "source": [
    "from lxml import etree\n",
    "import pandas as pd\n",
    "from xml_utils import unpack, flatten\n",
    "\n",
    "# Grab an OU-XML file that is known to contain activity items\n",
    "activity_example_raw = pd.read_sql(\"SELECT xml FROM xml WHERE name='Accessibility of eLearning'\",\n",
    "                                   con=xml_db.conn).loc[0, \"xml\"]\n",
    "\n",
    "# Parse the XML into an xml object\n",
    "root = etree.fromstring(activity_example_raw)"
   ]
  },
  {
   "cell_type": "markdown",
   "id": "4b7201e1",
   "metadata": {},
   "source": [
    "## Mining OU-XML Documents for Activity Related Items\n",
    "\n",
    "To begin with, let's have a table that just has the complete activity records.\n",
    "\n",
    "We can preview a rendered version of an activity by applying an OU-XML to markdown XLST trasnformation to a shimmed version of the activity XML (the shim provides a way of allowing the transformation rules to be applied to arbitrary OU-XML elements that are not defined on the OU-XML root element)."
   ]
  },
  {
   "cell_type": "code",
   "execution_count": 3,
   "id": "9310d74a",
   "metadata": {},
   "outputs": [
    {
     "data": {
      "text/plain": [
       "'\\n<!-- #region tags=[\"style-activity\"] -->\\n### Activity 2\\n\\n\\n#### Question\\n\\nIn Activity 1 you created a list of types of interaction that might be found in a set of your eLearning materials. Now it is time to [revisit that list](#act1). Did the materials in this course prompt you to think of other interactions you had missed? What about the ways in which disabled students might access your materials &#8211; add to your list any that you may have initially not thought about. Finally, consider ways in which those issues might be removed or avoided, now that you know a little more about how to create accessible eLearning.\\n\\n<!-- #endregion -->\\n'"
      ]
     },
     "execution_count": 3,
     "metadata": {},
     "output_type": "execute_result"
    }
   ],
   "source": [
    "from xml_utils import ouxml2md\n",
    "\n",
    "example_activity_xml = root.xpath(\"//Activity\")[1]\n",
    "\n",
    "# Apply the transformation\n",
    "md = ouxml2md( example_activity_xml )\n",
    "md"
   ]
  },
  {
   "cell_type": "markdown",
   "id": "87e2d423",
   "metadata": {},
   "source": [
    "Render the result:"
   ]
  },
  {
   "cell_type": "code",
   "execution_count": 4,
   "id": "1ca6647a",
   "metadata": {},
   "outputs": [
    {
     "data": {
      "text/markdown": [
       "<div style='background:lightblue'>\n",
       "\n",
       "<!-- #region tags=[\"style-activity\"] -->\n",
       "HEADER:  Activity 2\n",
       "\n",
       "\n",
       "HEADER: # Question\n",
       "\n",
       "In Activity 1 you created a list of types of interaction that might be found in a set of your eLearning materials. Now it is time to [revisit that list](#act1). Did the materials in this course prompt you to think of other interactions you had missed? What about the ways in which disabled students might access your materials &#8211; add to your list any that you may have initially not thought about. Finally, consider ways in which those issues might be removed or avoided, now that you know a little more about how to create accessible eLearning.\n",
       "\n",
       "<!-- #endregion -->\n",
       "\n",
       "</div>"
      ],
      "text/plain": [
       "<IPython.core.display.Markdown object>"
      ]
     },
     "execution_count": 4,
     "metadata": {},
     "output_type": "execute_result"
    }
   ],
   "source": [
    "from IPython.display import Markdown\n",
    "\n",
    "# Hack because Sphinx gets upset rendering mismatched headers\n",
    "md = md.replace(\"###\", \"HEADER: \")\n",
    "Markdown(f\"<div style='background:lightblue'>\\n{md}\\n</div>\")"
   ]
  },
  {
   "cell_type": "markdown",
   "id": "2ac808d2",
   "metadata": {},
   "source": [
    "To keep the size(s) of the databases we are working with relatively small, (<100MB and we can store them in a GitHub repository and serve them from GitHub Pages), we can create a new fatbase for our activities table.\n",
    "\n",
    "The database table itself can be quite simple, athough note that as well as including the raw XML for the activity, we include a reference to the activity based on its *path* within the unit."
   ]
  },
  {
   "cell_type": "code",
   "execution_count": 5,
   "id": "fa38e264",
   "metadata": {},
   "outputs": [
    {
     "data": {
      "text/plain": [
       "<Table activities_raw (type, activity, id, _path)>"
      ]
     },
     "execution_count": 5,
     "metadata": {},
     "output_type": "execute_result"
    }
   ],
   "source": [
    "all_activities_raw = db[\"activities_raw\"]\n",
    "all_activities_raw.drop(ignore=True)\n",
    "all_activities_raw.create({\n",
    "    \"type\": str,\n",
    "    \"activity\": str,\n",
    "    \"id\": str, # id of unit\n",
    "    \"_path\": str\n",
    "}, pk = (\"id\", \"_path\"))\n",
    "\n",
    "# Enable full text search\n",
    "# This creates an extra virtual table to support the full text search\n",
    "db[f\"{all_activities_raw.name}_fts\"].drop(ignore=True)\n",
    "db[all_activities_raw.name].enable_fts([\"activity\",\n",
    "                                        \"id\"], create_triggers=True)"
   ]
  },
  {
   "cell_type": "markdown",
   "id": "879e9eb0",
   "metadata": {},
   "source": [
    "Create a simple function to generate the base records for activities, including the path to each activity within an OU-XML dcoument."
   ]
  },
  {
   "cell_type": "code",
   "execution_count": 6,
   "id": "e6902987",
   "metadata": {},
   "outputs": [],
   "source": [
    "from xml_utils import flatten\n",
    "\n",
    "def get_raw_activity_items(root, typ=\"Activity\", doc_id=None):\n",
    "    \"\"\"Get all activities from an OU-XML XML object.\"\"\"\n",
    "    \n",
    "    activities = root.xpath(f'//{typ}')\n",
    "\n",
    "    activity_list_raw = []\n",
    "    for activity in activities:\n",
    "        # Don't store an empty element\n",
    "        if not flatten(activity):\n",
    "            continue\n",
    "    \n",
    "        # Get path to activity within unit\n",
    "        tree = etree.ElementTree(activity)\n",
    "        _path = tree.getpath(activity)\n",
    "\n",
    "        activity_dict = {\"activity\": unpack(activity),\n",
    "                         \"type\": typ.lower(),\n",
    "                         \"id\": doc_id, \"_path\": _path}\n",
    "\n",
    "        activity_list_raw.append( activity_dict )\n",
    "\n",
    "    return activity_list_raw"
   ]
  },
  {
   "cell_type": "markdown",
   "id": "8420b59d",
   "metadata": {},
   "source": [
    "Let's see how it looks:"
   ]
  },
  {
   "cell_type": "code",
   "execution_count": 7,
   "id": "aabe018e",
   "metadata": {},
   "outputs": [
    {
     "data": {
      "text/plain": [
       "[{'activity': b'<Activity xmlns:xsi=\"http://www.w3.org/2001/XMLSchema-instance\" id=\"act1\"><Heading>Activity 1</Heading><Question><NumberedList><ListItem>Identify some eLearning materials you are familiar with. You may have written them, taught them, or even studied them (you can think about this course if you have no examples of your own).</ListItem><ListItem>Identify the different elements of the materials &#8211; there will almost certainly be text, but are there images, videos, forms or boxes to enter text, drag-and-drop exercises, quizzes etc.? List all of the different types of element.</ListItem><ListItem>For each item on the list try to identify where students with particular disabilities might experience difficulties, and try to suggest possible ways (if you can think of any) that these barriers may be removed. It does not matter if your list is incomplete, or if you cannot think of solutions to some of your identified issues. We will revisit this task later, after you have worked through more of the course materials.</ListItem></NumberedList><Paragraph>Use the box below to record your thoughts.</Paragraph></Question><Interaction><FreeResponse size=\"paragraph\" id=\"fr_3\"/></Interaction></Activity>',\n",
       "  'type': 'activity',\n",
       "  'id': None,\n",
       "  '_path': '/Item/Unit/Session[1]/Section[6]/Activity'},\n",
       " {'activity': b'<Activity xmlns:xsi=\"http://www.w3.org/2001/XMLSchema-instance\"><Heading>Activity 3</Heading><Question><Paragraph>Four scenarios are presented below. Read through the four scenarios and <b>choose one</b> to answer the associated questions.</Paragraph><Paragraph>You will find your list from Activities 1 and 2 useful here. In a real situation, you would need to ask questions of colleagues and students, so think about what information might be missing from the scenario that you would need to find out. Think about which colleagues you might consult to find this information. Make a note in the box below of any assumptions that you make.</Paragraph><Box><Heading>Scenario 1. A course with extensive audio</Heading><Paragraph>You are planning an eLearning activity for a modern language course. The course uses an audioconferencing system as an important tool for practising and tutoring spoken language. The tool also has a text-chat facility. Students are not assessed on their use of the conferencing but experience has shown that those who use it achieve better grades.</Paragraph><BulletedList><ListItem>Which students may have difficulty using the audioconferencing?</ListItem><ListItem>What adjustments could be made?</ListItem><ListItem>What alternatives could be provided?</ListItem><ListItem>What information would you provide to alert students to potential challenges?</ListItem></BulletedList></Box><Box><Heading>Scenario 2. A course with multimedia</Heading><Paragraph>You are planning an eLearning activity, which includes commissioning software that students will use to look at images, listen to audio and complete an interactive quiz. Completion of the quiz is an individual activity that counts towards assessment.</Paragraph><BulletedList><ListItem>What might some students find challenging in this activity?</ListItem><ListItem>What adjustments could be made?</ListItem><ListItem>What alternatives could be provided?</ListItem><ListItem>Would your response be different if it was a group activity?</ListItem><ListItem>What would you include in your specification to the software developers?</ListItem><ListItem>What information would you provide to alert students to potential challenges?</ListItem></BulletedList></Box><Box><Heading>Scenario 3. A course with extensive video</Heading><Paragraph>You are planning an eLearning activity that includes a DVD video. The video has a large number of short clips: some with interviews, some are situations with voice-overs and some are street scenes with background sounds but no dialogue or voice-over. Students are expected to study the street scenes in detail and to write essays about them.</Paragraph><BulletedList><ListItem>What might some students find challenging in this activity?</ListItem><ListItem>What adjustments could be made?</ListItem><ListItem>What alternatives could be provided?</ListItem><ListItem>What would you include in your specification to the DVD developers?</ListItem><ListItem>What information would you provide to alert students to potential challenges?</ListItem></BulletedList></Box><Box><Heading>Scenario 4. A course with many diagrams</Heading><Paragraph>You are planning an extensive eLearning activity about science topics. Some of the topics use a small amount of mathematical notation and there are large numbers of diagrams and illustrations. Students are expected to study data, maps and charts and to interpret their meaning.</Paragraph><BulletedList><ListItem>Which aspects of the activity might some students find challenging?</ListItem><ListItem>What adjustments could be made?</ListItem><ListItem>What alternatives could be provided?</ListItem><ListItem>What information would you provide to alert students to potential challenges?</ListItem></BulletedList></Box><Paragraph>There are no right or wrong answers to this activity. It is intended to help you to put into practice what you have learnt about tackling accessibility and to help you to apply the material we have presented in this course to your own situation. Of course, if you have the time, you could try to tackle several of the scenarios presented, but this is entirely at your own discretion.</Paragraph></Question><Interaction><FreeResponse size=\"long\" id=\"fr_2\"/></Interaction></Activity>',\n",
       "  'type': 'activity',\n",
       "  'id': None,\n",
       "  '_path': '/Item/Unit/Session[4]/Section[4]/Activity'}]"
      ]
     },
     "execution_count": 7,
     "metadata": {},
     "output_type": "execute_result"
    }
   ],
   "source": [
    "get_raw_activity_items(root)"
   ]
  },
  {
   "cell_type": "markdown",
   "id": "8c66b8e7",
   "metadata": {},
   "source": [
    "We can now populate the database table by scraping activities from all the OpenLearn OU-XML documents.\n",
    "\n",
    "We will find it convenient to do this via a function:"
   ]
  },
  {
   "cell_type": "code",
   "execution_count": 8,
   "id": "9d8e7ffa",
   "metadata": {},
   "outputs": [],
   "source": [
    "from xml_utils import create_id\n",
    "\n",
    "def all_activity_items_to_db(xml_db, activity_db, typ=\"Activity\"):\n",
    "    \"\"\"Parse all OUXML docs and extract specified activity type elements into db.\"\"\"\n",
    "    \n",
    "    for row in xml_db.query(\"\"\"SELECT * FROM xml;\"\"\"):\n",
    "        _root = etree.fromstring(row[\"xml\"])\n",
    "\n",
    "        doc_id = create_id( (row[\"code\"], row[\"name\"], ) )\n",
    "        raw_activity_items = get_raw_activity_items(_root, typ=typ,\n",
    "                                                    doc_id=doc_id)\n",
    "\n",
    "        # Add the items to the database  \n",
    "        activity_db[all_activities_raw.name].insert_all(raw_activity_items)"
   ]
  },
  {
   "cell_type": "markdown",
   "id": "b908c1de",
   "metadata": {},
   "source": [
    "Now we can populate the database with mined `Activity` elements:"
   ]
  },
  {
   "cell_type": "code",
   "execution_count": 9,
   "id": "a2d7298c",
   "metadata": {},
   "outputs": [],
   "source": [
    "all_activity_items_to_db(xml_db, db, typ=\"Activity\")"
   ]
  },
  {
   "cell_type": "markdown",
   "id": "98d94e55",
   "metadata": {},
   "source": [
    "Let's see how many activities we have stored:"
   ]
  },
  {
   "cell_type": "code",
   "execution_count": 10,
   "id": "04640db4",
   "metadata": {},
   "outputs": [
    {
     "data": {
      "text/html": [
       "<div>\n",
       "<style scoped>\n",
       "    .dataframe tbody tr th:only-of-type {\n",
       "        vertical-align: middle;\n",
       "    }\n",
       "\n",
       "    .dataframe tbody tr th {\n",
       "        vertical-align: top;\n",
       "    }\n",
       "\n",
       "    .dataframe thead th {\n",
       "        text-align: right;\n",
       "    }\n",
       "</style>\n",
       "<table border=\"1\" class=\"dataframe\">\n",
       "  <thead>\n",
       "    <tr style=\"text-align: right;\">\n",
       "      <th></th>\n",
       "      <th>num_records</th>\n",
       "    </tr>\n",
       "  </thead>\n",
       "  <tbody>\n",
       "    <tr>\n",
       "      <th>0</th>\n",
       "      <td>5436</td>\n",
       "    </tr>\n",
       "  </tbody>\n",
       "</table>\n",
       "</div>"
      ],
      "text/plain": [
       "   num_records\n",
       "0         5436"
      ]
     },
     "execution_count": 10,
     "metadata": {},
     "output_type": "execute_result"
    }
   ],
   "source": [
    "pd.read_sql(\"SELECT COUNT(*) AS num_records FROM activities_raw\",\n",
    "            con=db.conn)"
   ]
  },
  {
   "cell_type": "markdown",
   "id": "f9fb0059",
   "metadata": {},
   "source": [
    "And how about a full-text search over the raw XML?"
   ]
  },
  {
   "cell_type": "code",
   "execution_count": 11,
   "id": "b8dbc732",
   "metadata": {},
   "outputs": [
    {
     "data": {
      "text/html": [
       "<div>\n",
       "<style scoped>\n",
       "    .dataframe tbody tr th:only-of-type {\n",
       "        vertical-align: middle;\n",
       "    }\n",
       "\n",
       "    .dataframe tbody tr th {\n",
       "        vertical-align: top;\n",
       "    }\n",
       "\n",
       "    .dataframe thead th {\n",
       "        text-align: right;\n",
       "    }\n",
       "</style>\n",
       "<table border=\"1\" class=\"dataframe\">\n",
       "  <thead>\n",
       "    <tr style=\"text-align: right;\">\n",
       "      <th></th>\n",
       "      <th>activity</th>\n",
       "      <th>id</th>\n",
       "    </tr>\n",
       "  </thead>\n",
       "  <tbody>\n",
       "    <tr>\n",
       "      <th>0</th>\n",
       "      <td>b'&lt;Activity&gt;\\n                    &lt;Heading&gt;Act...</td>\n",
       "      <td>904a100e4d41cf1a696b547eec1b2f625fc5bd78</td>\n",
       "    </tr>\n",
       "    <tr>\n",
       "      <th>1</th>\n",
       "      <td>b'&lt;Activity xmlns:xsi=\"http://www.w3.org/2001/...</td>\n",
       "      <td>f36ae6f445e1c39925fa84d3e188af9ed7c15fdc</td>\n",
       "    </tr>\n",
       "  </tbody>\n",
       "</table>\n",
       "</div>"
      ],
      "text/plain": [
       "                                            activity  \\\n",
       "0  b'<Activity>\\n                    <Heading>Act...   \n",
       "1  b'<Activity xmlns:xsi=\"http://www.w3.org/2001/...   \n",
       "\n",
       "                                         id  \n",
       "0  904a100e4d41cf1a696b547eec1b2f625fc5bd78  \n",
       "1  f36ae6f445e1c39925fa84d3e188af9ed7c15fdc  "
      ]
     },
     "execution_count": 11,
     "metadata": {},
     "output_type": "execute_result"
    }
   ],
   "source": [
    "from xml_utils import fts\n",
    "\n",
    "example_fts_search = fts(db, \"activities_raw\", \"chemical equation\")\n",
    "example_fts_search"
   ]
  },
  {
   "cell_type": "markdown",
   "id": "dd61e057",
   "metadata": {},
   "source": [
    "That's not so easy to interpret, as is, so how about if we render the activities in our results list?"
   ]
  },
  {
   "cell_type": "code",
   "execution_count": 12,
   "id": "ca9dac45",
   "metadata": {
    "scrolled": false
   },
   "outputs": [
    {
     "data": {
      "text/markdown": [
       "<div style='background:lightblue'>\n",
       "\n",
       "<!-- #region tags=[\"style-activity\"] -->\n",
       "HEADER:  Activity 11 Reaction components\n",
       "__Timing: Allow about 10 minutes__\n",
       "<!--\n",
       "            Heading:\n",
       "            Part 1-->\n",
       "\n",
       "HEADER: # Question\n",
       "\n",
       "Enter the components represented by x and y that complete the formula below.\n",
       "$$x + CO_2 \\rightleftharpoons H_2CO_3 \\rightleftharpoons y + HCO_3 \\ ^-$$\n",
       "There are superscript and subscript buttons in the formatting bar. Make sure to use these to enter the correct chemical formula, including the associated positive and negative charges:\n",
       "\n",
       "x = \n",
       "\n",
       "y = \n",
       "\n",
       "\n",
       "HEADER: # Answer\n",
       "$$x = H_2O$$$$y = H^+$$\n",
       "giving:\n",
       "$$H_2O + CO_2 \\rightleftharpoons H_2CO_3 \\rightleftharpoons H^+ + HCO_3 \\ ^-$$<!--\n",
       "            Heading:\n",
       "            Part 2-->\n",
       "\n",
       "HEADER: # Question\n",
       "\n",
       "Using the completed formula above, what will happen to levels of H<sup>+</sup> in the brain as CO<sub>2</sub>-rich blood reaches the medulla?\n",
       "\n",
       "levels of H<sup>+</sup> will increase\n",
       "\n",
       "levels of H<sup>+</sup> will decrease\n",
       "\n",
       "levels of H<sup>+</sup> will stay the same\n",
       "\n",
       "\n",
       "HEADER: # Answer\n",
       "\n",
       "Adding more CO<sub>2</sub> will increase the production of H<sup>+</sup> and HCO<sub>3</sub><sup>&#8722;</sup>. Increased H<sup>+</sup> will make the tissue more acidic, meaning that the pH will decrease.\n",
       "\n",
       "<!-- #endregion -->\n",
       "<hr/>\n",
       "<!-- #region tags=[\"style-activity\"] -->\n",
       "HEADER:  Question 9\n",
       "\n",
       "\n",
       "HEADER: # Question\n",
       "\n",
       "How much energy could be obtained from 1 kg of hydrogen (a) if it were to undergo nuclear fusion in the interior of a star, (b) if it were to spiral into a black hole? Would you expect to get more energy if it were to chemically burn in an oxygen atmosphere?\n",
       "\n",
       "\n",
       "HEADER: # Answer\n",
       "\n",
       "A mass *m* has a rest energy of *mc*<sup>2</sup>.\n",
       "\n",
       "(a) If 1 kg of hydrogen were to undergo nuclear fusion to produce helium, the energy liberated would be 0.007 (i.e. 0.7%) of its rest energy:\n",
       "\n",
       "\n",
       "![\n",
       "                figure\n",
       "                https://www.open.edu/openlearn/ocw/pluginfile.php/66727/mod_oucontent/oucontent/469/s282_2_ue015i.gif](https://www.open.edu/openlearn/ocw/pluginfile.php/66727/mod_oucontent/oucontent/469/s282_2_ue015i.gif)\n",
       "\n",
       "(b) If 1 kg of hydrogen were to fall into a black hole, the energy liberated would be approximately\n",
       "\n",
       "0.1*mc*<sup>2</sup> = 0.1 &#215; 1 &#215; (3 &#215; 10<sup>8</sup>ms<sup>&#8722;1</sup>)<sup>2</sup> J = 9 &#215; 10<sup>15</sup> J.\n",
       "\n",
       "You would expect much *less* energy from the chemical reaction.\n",
       "\n",
       "<!-- #endregion -->\n",
       "\n",
       "</div>"
      ],
      "text/plain": [
       "<IPython.core.display.Markdown object>"
      ]
     },
     "execution_count": 12,
     "metadata": {},
     "output_type": "execute_result"
    }
   ],
   "source": [
    "md_out = []\n",
    "for _activity_xml in example_fts_search[\"activity\"]:\n",
    "    _md = ouxml2md( _activity_xml )\n",
    "    \n",
    "    # Hack because Sphinx renders errors\n",
    "    _md = _md.replace(\"###\", \"HEADER: \")\n",
    "    _md = _md.replace(\"####\", \"SUBHEADER: \")\n",
    "    md_out.append(_md)\n",
    "\n",
    "Markdown(f\"<div style='background:lightblue'>\\n{'<hr/>'.join(md_out)}\\n</div>\")"
   ]
  },
  {
   "cell_type": "markdown",
   "id": "49f822b7",
   "metadata": {},
   "source": [
    "### Adding Other Activity Types to the Database\n",
    "\n",
    "We can also add other activity types (`<ITQ>`, `<SAQ>` and `<Exercise>`) to the raw activity database:"
   ]
  },
  {
   "cell_type": "code",
   "execution_count": 13,
   "id": "13fcb992",
   "metadata": {},
   "outputs": [],
   "source": [
    "all_activity_items_to_db(xml_db, db, typ=\"ITQ\")\n",
    "all_activity_items_to_db(xml_db, db, typ=\"SAQ\")\n",
    "all_activity_items_to_db(xml_db, db, typ=\"Exercise\")"
   ]
  },
  {
   "cell_type": "markdown",
   "id": "0a4612f5",
   "metadata": {},
   "source": [
    "Now we can search for ITQ questions as well:"
   ]
  },
  {
   "cell_type": "code",
   "execution_count": 14,
   "id": "faa8e6fe",
   "metadata": {},
   "outputs": [
    {
     "data": {
      "text/markdown": [
       "<div style='background:lightblue'>\n",
       "<!--ITQ-->\n",
       "\n",
       "HEADER:  Question\n",
       "\n",
       "Are the following compounds molecular or non-molecular? Chlorine (Cl<sub>2</sub>) and sodium chloride (NaCl).\n",
       "\n",
       "\n",
       "HEADER:  Answer\n",
       "\n",
       "* \n",
       "Chlorine (Cl<sub>2</sub>) is a molecular compound &#8211; it is made up of discrete Cl<sub>2</sub> molecules.\n",
       "\n",
       "\n",
       "* \n",
       "Sodium chloride (NaCl) a non-molecular compound, is made up of Na<sup>+</sup> and Cl<sup>- </sup>ions.\n",
       "\n",
       "<!--ENDITQ--><hr/><!--ITQ-->\n",
       "\n",
       "HEADER:  Question\n",
       "\n",
       "Is Pt2+ a hard or soft acid? What types of molecule or ion in the bloodstream might react with cisplatin before it gets a chance to cross the cell membrane?\n",
       "\n",
       "\n",
       "HEADER:  Answer\n",
       "\n",
       "There are many species present in blood, including sugars, salt, proteins, oxygen and, of course, water. Pt2+ is a soft acid, so soft bases pose the greatest threat, also those species that are in the greatest concentration. Thus sulfur-containing compounds, such as cysteine, might react with cisplatin, as might water.\n",
       "<!--ENDITQ-->\n",
       "</div>"
      ],
      "text/plain": [
       "<IPython.core.display.Markdown object>"
      ]
     },
     "execution_count": 14,
     "metadata": {},
     "output_type": "execute_result"
    }
   ],
   "source": [
    "example_itqs = pd.read_sql(\"SELECT * FROM activities_raw WHERE type='itq' \\\n",
    "                                AND activity LIKE '%molecule%compound%'\",\n",
    "                           con=db.conn)\n",
    "\n",
    "md_out = []\n",
    "for _itq_xml in example_itqs['activity']:\n",
    "    _md = ouxml2md( _itq_xml )\n",
    "    # Hack because Sphinx renders errors\n",
    "    _md = _md.replace(\"####\", \"HEADER: \")\n",
    "    md_out.append(_md)\n",
    "\n",
    "Markdown(f\"<div style='background:lightblue'>\\n{'<hr/>'.join(md_out)}\\n</div>\")"
   ]
  },
  {
   "cell_type": "markdown",
   "id": "61a0a6a4",
   "metadata": {},
   "source": [
    "*It might be worth having the raw `Activity`, `Exercise`, `ITQ` and `SAQ` items in their own databases so that we can then run a full-text search over the raw XML for just those activity types. (I donlt think we can run facetted queries within the SQLite full-text search?*"
   ]
  },
  {
   "cell_type": "markdown",
   "id": "8162dba2",
   "metadata": {},
   "source": [
    "## Decomposing Activities Into Component Parts\n",
    "\n",
    "Activity-like objects are made up of several \"simple\" and more structurd componenents. All activity types must define a `<Question>` component, but there is some freedom in the choice of \"response\" element. In addition, multipart responses may be defined.\n",
    "\n",
    "The strategy followed below is to split out the \"simple\" `<Answer>` and `<Discussion>` elements ito their own columns. For `<Multipart>` responses, each `<Part>` has its own entry in the `activities` table, with a `multipart` flag set.\n",
    "\n",
    "*TO DO: a \"part-sort-order\" number should also be included in the table.*\n",
    "\n",
    "The more complex `<MediaContent>` and `<Interaction>` elements are not currently handled in a meanigful way in the activity context. (Media items are handled separately in their own mined table, and a foreigh key reference should be made into that table. The interaction element is currently included in the activities table as stringified XML.)\n",
    "\n",
    "*TO DO: handle interaction*\n",
    "\n",
    "*TO DO: handle media item reference.*"
   ]
  },
  {
   "cell_type": "code",
   "execution_count": 15,
   "id": "fea495e1",
   "metadata": {},
   "outputs": [],
   "source": [
    "import secrets\n",
    "        \n",
    "def parse_activity_item(activity, _path=None, key=\"\"):\n",
    "    \"\"\"Parse activity element.\n",
    "       The key is a unit id that lets us create a unique interaction table FK.\"\"\"\n",
    "    def _delist(x):\n",
    "        return x[0] if x else x\n",
    "    def _tidy(x):\n",
    "        return unpack(x).decode().strip() if len(x) else None\n",
    "    \n",
    "    if _path is None:\n",
    "        tree = etree.ElementTree(activity)\n",
    "        _path = tree.getpath(activity)\n",
    "\n",
    "    key = key if key else secrets.token_hex(16)\n",
    "        \n",
    "    # Need to consider Multipart\n",
    "    _flat = flatten(activity)\n",
    "    \n",
    "    if _flat:\n",
    "        a_multipart=[]\n",
    "        a_heading = activity.xpath(\"Heading\")\n",
    "        a_heading = flatten(a_heading[0]) if a_heading else None\n",
    "        a_timing = activity.xpath(\"Timing\")\n",
    "        a_timing = flatten(a_timing[0]) if a_timing else None\n",
    "        # Should we perhaps parse the question to markdown?\n",
    "        a_question = _tidy(_delist(activity.xpath(\"Question\")))\n",
    "        a_answer = _tidy(_delist(activity.xpath(\"Answer\")))\n",
    "        \n",
    "        \"\"\"\n",
    "        # The interaction type is a complex element that should be included\n",
    "        # in an interaction table with a shared reference id generated from\n",
    "        # the unit id and the path to the element\n",
    "        _interaction = _tidy(_delist(activity.xpath(\"Interaction\")))\n",
    "        if _interaction:\n",
    "            interaction_id = create_id( (key, _path) )\n",
    "            a_interaction = interaction_id\n",
    "        else:\n",
    "            a_interaction = None\n",
    "        \"\"\"\n",
    "        a_discussion = _tidy(_delist(activity.xpath(\"Discussion\")))\n",
    "        \n",
    "        # TO DO - for now, explicitly capture the interaction\n",
    "        a_interaction = _tidy(_delist(activity.xpath(\"Interaction\")))\n",
    "        \n",
    "        # TO DO: activity.xpath(\"MediaElement\") as a FK relation?\n",
    "        \n",
    "        if activity.xpath(\"Multipart\"):\n",
    "            for p in activity.xpath(\"Multipart/Part\"):\n",
    "                a_multipart.extend(parse_activity_item(p))\n",
    "\n",
    "        if not a_multipart:\n",
    "            # Also return the multipart status and the multipart name and timing\n",
    "            return [(a_heading, a_timing, a_question, a_interaction, a_answer,\n",
    "                     a_discussion, _path,\n",
    "                    True if a_multipart else False, _path)]\n",
    "        else:\n",
    "            return [(m[0], m[1], m[2], m[3], m[4], m[5], m[6],\n",
    "                    True if a_multipart else False, _path) for m in a_multipart if m]\n",
    "\n",
    "    return []"
   ]
  },
  {
   "cell_type": "markdown",
   "id": "5c078378",
   "metadata": {},
   "source": [
    "Let's see how that works:"
   ]
  },
  {
   "cell_type": "code",
   "execution_count": 16,
   "id": "ab372e77",
   "metadata": {},
   "outputs": [
    {
     "data": {
      "text/plain": [
       "[('Activity 1',\n",
       "  None,\n",
       "  '<Question xmlns:xsi=\"http://www.w3.org/2001/XMLSchema-instance\"><NumberedList><ListItem>Identify some eLearning materials you are familiar with. You may have written them, taught them, or even studied them (you can think about this course if you have no examples of your own).</ListItem><ListItem>Identify the different elements of the materials &#8211; there will almost certainly be text, but are there images, videos, forms or boxes to enter text, drag-and-drop exercises, quizzes etc.? List all of the different types of element.</ListItem><ListItem>For each item on the list try to identify where students with particular disabilities might experience difficulties, and try to suggest possible ways (if you can think of any) that these barriers may be removed. It does not matter if your list is incomplete, or if you cannot think of solutions to some of your identified issues. We will revisit this task later, after you have worked through more of the course materials.</ListItem></NumberedList><Paragraph>Use the box below to record your thoughts.</Paragraph></Question>',\n",
       "  '<Interaction xmlns:xsi=\"http://www.w3.org/2001/XMLSchema-instance\"><FreeResponse size=\"paragraph\" id=\"fr_3\"/></Interaction>',\n",
       "  None,\n",
       "  None,\n",
       "  '/Item/Unit/Session[1]/Section[6]/Activity',\n",
       "  False,\n",
       "  '/Item/Unit/Session[1]/Section[6]/Activity')]"
      ]
     },
     "execution_count": 16,
     "metadata": {},
     "output_type": "execute_result"
    }
   ],
   "source": [
    "parse_activity_item( root.xpath(\"//Activity\")[0])"
   ]
  },
  {
   "cell_type": "markdown",
   "id": "fd077352",
   "metadata": {},
   "source": [
    "*TO DO* - the `<Interaction>` element takes several forms: `<SingleChoice>`, `<Matching>`, `<FreeResponse>`, `<VoiceRecorder>`, `<MultipleChoice>`.\n",
    "\n",
    "As such, it makes sense to record interaction components in a table of their own, referenced to the parent activity element etc. TO DO"
   ]
  },
  {
   "cell_type": "markdown",
   "id": "07f3c51a",
   "metadata": {},
   "source": [
    "We can also create a table that splits the activity elements out into component parts:"
   ]
  },
  {
   "cell_type": "code",
   "execution_count": 17,
   "id": "22224596",
   "metadata": {},
   "outputs": [
    {
     "data": {
      "text/plain": [
       "<Table activities (type, heading, timing, question, answer, discussion, interaction, multipart, id, _path)>"
      ]
     },
     "execution_count": 17,
     "metadata": {},
     "output_type": "execute_result"
    }
   ],
   "source": [
    "all_activities_tbl = db[\"activities\"]\n",
    "all_activities_tbl.drop(ignore=True)\n",
    "all_activities_tbl.create({\n",
    "    \"type\": str,\n",
    "    \"heading\": str,\n",
    "    \"timing\": str,\n",
    "    \"question\": str,\n",
    "    \"answer\": int,\n",
    "    \"discussion\": str,\n",
    "    \"interaction\": str,\n",
    "    \"multipart\": bool,\n",
    "    \"id\": str, # id of unit\n",
    "    \"_path\": str\n",
    "})\n",
    "# For the pk, we need to be able to account for multipart elements\n",
    "# Currently, each part in multipart element is an entry in this table\n",
    "\n",
    "# Enable full text search\n",
    "# This creates an extra virtual table (media_fts) to support the full text search\n",
    "db[f\"{all_activities_tbl.name}_fts\"].drop(ignore=True)\n",
    "db[all_activities_tbl.name].enable_fts([\"heading\", \"question\", \"interaction\",\n",
    "                                                 \"answer\", \"discussion\", \"id\"],\n",
    "                                                create_triggers=True)"
   ]
  },
  {
   "cell_type": "markdown",
   "id": "963dfefd",
   "metadata": {},
   "source": [
    "Create a simple function to grab all the activities associated with a particular unit:"
   ]
  },
  {
   "cell_type": "code",
   "execution_count": 18,
   "id": "cd19cf1e",
   "metadata": {},
   "outputs": [],
   "source": [
    "def get_activity_items(root, typ=\"Activity\", _id=\"\"):\n",
    "    \"\"\"Extract activity items from an OU-XML XML object.\"\"\"\n",
    "    activities = root.xpath(f'//{typ}')\n",
    "    \n",
    "    activity_list_raw = []\n",
    "    activity_list = []\n",
    "    for activity in activities:\n",
    "            \n",
    "        # Get path to activity within unit\n",
    "        tree = etree.ElementTree(activity)\n",
    "        _path = tree.getpath(activity)\n",
    "    \n",
    "        activity_list.extend(parse_activity_item(activity, _path))\n",
    "        activity_list_raw.append( {\"activity\": unpack(activity), \"id\": _id,\n",
    "                                   \"type\":typ.lower(), \"_path\": _path} )\n",
    "\n",
    "    return activity_list_raw, activity_list"
   ]
  },
  {
   "cell_type": "markdown",
   "id": "d75851b8",
   "metadata": {},
   "source": [
    "Create a function to scan the OpenLearn units for various type of activity:"
   ]
  },
  {
   "cell_type": "code",
   "execution_count": 19,
   "id": "44a2d033",
   "metadata": {},
   "outputs": [],
   "source": [
    "def add_activities_to_db(typ=\"Activity\"):\n",
    "    \"\"\"Add activity type elements to the database.\"\"\"\n",
    "    for row in xml_db.query(\"\"\"SELECT * FROM xml;\"\"\"):\n",
    "        _root = etree.fromstring(row[\"xml\"])\n",
    "        raw_activity_items, activity_items = get_activity_items(_root,\n",
    "                                                                typ=typ,\n",
    "                                                                _id=row[\"id\"])\n",
    "\n",
    "        # From the list of activity items,\n",
    "        # create a list of dict items we can add to the database\n",
    "        activity_item_dicts = [{\"heading\": a[0], \"timing\": a[1] , \"question\": a[2],\n",
    "                                \"interaction\": a[3], \"answer\": a[4],\n",
    "                                \"discussion\": a[5], \"_path\": a[6],\n",
    "                                \"type\": typ.lower(),\n",
    "                                \"id\": row[\"id\"]} for a in activity_items if a[2] ]\n",
    "\n",
    "        # Add items to the database\n",
    "        db[all_activities_tbl.name].insert_all(activity_item_dicts)"
   ]
  },
  {
   "cell_type": "markdown",
   "id": "93df9380",
   "metadata": {},
   "source": [
    "We can now parse the documents for `Activity` type elements:"
   ]
  },
  {
   "cell_type": "code",
   "execution_count": 20,
   "id": "f49d7b91",
   "metadata": {},
   "outputs": [],
   "source": [
    "add_activities_to_db(typ=\"Activity\")"
   ]
  },
  {
   "cell_type": "markdown",
   "id": "5cf49632",
   "metadata": {},
   "source": [
    "How does that look?"
   ]
  },
  {
   "cell_type": "code",
   "execution_count": 21,
   "id": "1000f201",
   "metadata": {},
   "outputs": [
    {
     "data": {
      "text/html": [
       "<div>\n",
       "<style scoped>\n",
       "    .dataframe tbody tr th:only-of-type {\n",
       "        vertical-align: middle;\n",
       "    }\n",
       "\n",
       "    .dataframe tbody tr th {\n",
       "        vertical-align: top;\n",
       "    }\n",
       "\n",
       "    .dataframe thead th {\n",
       "        text-align: right;\n",
       "    }\n",
       "</style>\n",
       "<table border=\"1\" class=\"dataframe\">\n",
       "  <thead>\n",
       "    <tr style=\"text-align: right;\">\n",
       "      <th></th>\n",
       "      <th>type</th>\n",
       "      <th>heading</th>\n",
       "      <th>timing</th>\n",
       "      <th>question</th>\n",
       "      <th>answer</th>\n",
       "      <th>discussion</th>\n",
       "      <th>interaction</th>\n",
       "      <th>multipart</th>\n",
       "      <th>id</th>\n",
       "      <th>_path</th>\n",
       "    </tr>\n",
       "  </thead>\n",
       "  <tbody>\n",
       "    <tr>\n",
       "      <th>0</th>\n",
       "      <td>activity</td>\n",
       "      <td>Activity 1 Looking at different technologies</td>\n",
       "      <td>Allow approximately 15 minutes</td>\n",
       "      <td>&lt;Question xmlns:xsi=\"http://www.w3.org/2001/XM...</td>\n",
       "      <td>None</td>\n",
       "      <td>&lt;Discussion xmlns:xsi=\"http://www.w3.org/2001/...</td>\n",
       "      <td>&lt;Interaction xmlns:xsi=\"http://www.w3.org/2001...</td>\n",
       "      <td>None</td>\n",
       "      <td>1f194525072f4358f7639c471ee5289665d50a3f</td>\n",
       "      <td>/Item/Unit/Session[1]/Activity</td>\n",
       "    </tr>\n",
       "    <tr>\n",
       "      <th>1</th>\n",
       "      <td>activity</td>\n",
       "      <td>Activity 2 Types of body language</td>\n",
       "      <td>Allow approximately 20 minutes</td>\n",
       "      <td>&lt;Question xmlns:xsi=\"http://www.w3.org/2001/XM...</td>\n",
       "      <td>None</td>\n",
       "      <td>&lt;Discussion xmlns:xsi=\"http://www.w3.org/2001/...</td>\n",
       "      <td>None</td>\n",
       "      <td>None</td>\n",
       "      <td>1f194525072f4358f7639c471ee5289665d50a3f</td>\n",
       "      <td>/Item/Unit/Session[5]/Activity</td>\n",
       "    </tr>\n",
       "    <tr>\n",
       "      <th>2</th>\n",
       "      <td>activity</td>\n",
       "      <td>Activity 3 Translating emoji language</td>\n",
       "      <td>Allow approximately 15 minutes</td>\n",
       "      <td>&lt;Question xmlns:xsi=\"http://www.w3.org/2001/XM...</td>\n",
       "      <td>None</td>\n",
       "      <td>&lt;Discussion xmlns:xsi=\"http://www.w3.org/2001/...</td>\n",
       "      <td>None</td>\n",
       "      <td>None</td>\n",
       "      <td>1f194525072f4358f7639c471ee5289665d50a3f</td>\n",
       "      <td>/Item/Unit/Session[6]/Activity</td>\n",
       "    </tr>\n",
       "  </tbody>\n",
       "</table>\n",
       "</div>"
      ],
      "text/plain": [
       "       type                                       heading  \\\n",
       "0  activity  Activity 1 Looking at different technologies   \n",
       "1  activity             Activity 2 Types of body language   \n",
       "2  activity         Activity 3 Translating emoji language   \n",
       "\n",
       "                           timing  \\\n",
       "0  Allow approximately 15 minutes   \n",
       "1  Allow approximately 20 minutes   \n",
       "2  Allow approximately 15 minutes   \n",
       "\n",
       "                                            question answer  \\\n",
       "0  <Question xmlns:xsi=\"http://www.w3.org/2001/XM...   None   \n",
       "1  <Question xmlns:xsi=\"http://www.w3.org/2001/XM...   None   \n",
       "2  <Question xmlns:xsi=\"http://www.w3.org/2001/XM...   None   \n",
       "\n",
       "                                          discussion  \\\n",
       "0  <Discussion xmlns:xsi=\"http://www.w3.org/2001/...   \n",
       "1  <Discussion xmlns:xsi=\"http://www.w3.org/2001/...   \n",
       "2  <Discussion xmlns:xsi=\"http://www.w3.org/2001/...   \n",
       "\n",
       "                                         interaction multipart  \\\n",
       "0  <Interaction xmlns:xsi=\"http://www.w3.org/2001...      None   \n",
       "1                                               None      None   \n",
       "2                                               None      None   \n",
       "\n",
       "                                         id                           _path  \n",
       "0  1f194525072f4358f7639c471ee5289665d50a3f  /Item/Unit/Session[1]/Activity  \n",
       "1  1f194525072f4358f7639c471ee5289665d50a3f  /Item/Unit/Session[5]/Activity  \n",
       "2  1f194525072f4358f7639c471ee5289665d50a3f  /Item/Unit/Session[6]/Activity  "
      ]
     },
     "execution_count": 21,
     "metadata": {},
     "output_type": "execute_result"
    }
   ],
   "source": [
    "pd.read_sql(\"SELECT * FROM activities LIMIT 3\", con=db.conn)"
   ]
  },
  {
   "cell_type": "markdown",
   "id": "4ab58243",
   "metadata": {},
   "source": [
    "And for the raw table?"
   ]
  },
  {
   "cell_type": "code",
   "execution_count": 22,
   "id": "beeb8b23",
   "metadata": {},
   "outputs": [
    {
     "data": {
      "text/html": [
       "<div>\n",
       "<style scoped>\n",
       "    .dataframe tbody tr th:only-of-type {\n",
       "        vertical-align: middle;\n",
       "    }\n",
       "\n",
       "    .dataframe tbody tr th {\n",
       "        vertical-align: top;\n",
       "    }\n",
       "\n",
       "    .dataframe thead th {\n",
       "        text-align: right;\n",
       "    }\n",
       "</style>\n",
       "<table border=\"1\" class=\"dataframe\">\n",
       "  <thead>\n",
       "    <tr style=\"text-align: right;\">\n",
       "      <th></th>\n",
       "      <th>type</th>\n",
       "      <th>activity</th>\n",
       "      <th>id</th>\n",
       "      <th>_path</th>\n",
       "    </tr>\n",
       "  </thead>\n",
       "  <tbody>\n",
       "    <tr>\n",
       "      <th>0</th>\n",
       "      <td>activity</td>\n",
       "      <td>b'&lt;Activity xmlns:xsi=\"http://www.w3.org/2001/...</td>\n",
       "      <td>1f194525072f4358f7639c471ee5289665d50a3f</td>\n",
       "      <td>/Item/Unit/Session[1]/Activity</td>\n",
       "    </tr>\n",
       "    <tr>\n",
       "      <th>1</th>\n",
       "      <td>activity</td>\n",
       "      <td>b'&lt;Activity xmlns:xsi=\"http://www.w3.org/2001/...</td>\n",
       "      <td>1f194525072f4358f7639c471ee5289665d50a3f</td>\n",
       "      <td>/Item/Unit/Session[5]/Activity</td>\n",
       "    </tr>\n",
       "    <tr>\n",
       "      <th>2</th>\n",
       "      <td>activity</td>\n",
       "      <td>b'&lt;Activity xmlns:xsi=\"http://www.w3.org/2001/...</td>\n",
       "      <td>1f194525072f4358f7639c471ee5289665d50a3f</td>\n",
       "      <td>/Item/Unit/Session[6]/Activity</td>\n",
       "    </tr>\n",
       "  </tbody>\n",
       "</table>\n",
       "</div>"
      ],
      "text/plain": [
       "       type                                           activity  \\\n",
       "0  activity  b'<Activity xmlns:xsi=\"http://www.w3.org/2001/...   \n",
       "1  activity  b'<Activity xmlns:xsi=\"http://www.w3.org/2001/...   \n",
       "2  activity  b'<Activity xmlns:xsi=\"http://www.w3.org/2001/...   \n",
       "\n",
       "                                         id                           _path  \n",
       "0  1f194525072f4358f7639c471ee5289665d50a3f  /Item/Unit/Session[1]/Activity  \n",
       "1  1f194525072f4358f7639c471ee5289665d50a3f  /Item/Unit/Session[5]/Activity  \n",
       "2  1f194525072f4358f7639c471ee5289665d50a3f  /Item/Unit/Session[6]/Activity  "
      ]
     },
     "execution_count": 22,
     "metadata": {},
     "output_type": "execute_result"
    }
   ],
   "source": [
    "pd.read_sql(\"SELECT * FROM activities_raw LIMIT 3\", con=db.conn)"
   ]
  },
  {
   "cell_type": "markdown",
   "id": "aa9266e8",
   "metadata": {},
   "source": [
    "## Parsing Other Activity Types\n",
    "\n",
    "An ITQ element can be parsed in the same way as `<Activity>` element, as previously described:"
   ]
  },
  {
   "cell_type": "code",
   "execution_count": 23,
   "id": "4e3ad5d8",
   "metadata": {},
   "outputs": [
    {
     "data": {
      "text/html": [
       "<div>\n",
       "<style scoped>\n",
       "    .dataframe tbody tr th:only-of-type {\n",
       "        vertical-align: middle;\n",
       "    }\n",
       "\n",
       "    .dataframe tbody tr th {\n",
       "        vertical-align: top;\n",
       "    }\n",
       "\n",
       "    .dataframe thead th {\n",
       "        text-align: right;\n",
       "    }\n",
       "</style>\n",
       "<table border=\"1\" class=\"dataframe\">\n",
       "  <thead>\n",
       "    <tr style=\"text-align: right;\">\n",
       "      <th></th>\n",
       "      <th>type</th>\n",
       "      <th>heading</th>\n",
       "      <th>timing</th>\n",
       "      <th>question</th>\n",
       "      <th>answer</th>\n",
       "      <th>discussion</th>\n",
       "      <th>interaction</th>\n",
       "      <th>multipart</th>\n",
       "      <th>id</th>\n",
       "      <th>_path</th>\n",
       "    </tr>\n",
       "  </thead>\n",
       "  <tbody>\n",
       "    <tr>\n",
       "      <th>0</th>\n",
       "      <td>itq</td>\n",
       "      <td>None</td>\n",
       "      <td>None</td>\n",
       "      <td>&lt;Question xmlns:xsi=\"http://www.w3.org/2001/XM...</td>\n",
       "      <td>&lt;Answer xmlns:xsi=\"http://www.w3.org/2001/XMLS...</td>\n",
       "      <td>None</td>\n",
       "      <td>None</td>\n",
       "      <td>None</td>\n",
       "      <td>6bff78840be5165329dda278418bbbd54c909047</td>\n",
       "      <td>/Item/Unit/Session[1]/Section[2]/ITQ</td>\n",
       "    </tr>\n",
       "    <tr>\n",
       "      <th>1</th>\n",
       "      <td>itq</td>\n",
       "      <td>None</td>\n",
       "      <td>None</td>\n",
       "      <td>&lt;Question xmlns:xsi=\"http://www.w3.org/2001/XM...</td>\n",
       "      <td>&lt;Answer xmlns:xsi=\"http://www.w3.org/2001/XMLS...</td>\n",
       "      <td>None</td>\n",
       "      <td>None</td>\n",
       "      <td>None</td>\n",
       "      <td>6bff78840be5165329dda278418bbbd54c909047</td>\n",
       "      <td>/Item/Unit/Session[1]/Section[3]/SubSection[1]...</td>\n",
       "    </tr>\n",
       "    <tr>\n",
       "      <th>2</th>\n",
       "      <td>itq</td>\n",
       "      <td>None</td>\n",
       "      <td>None</td>\n",
       "      <td>&lt;Question xmlns:xsi=\"http://www.w3.org/2001/XM...</td>\n",
       "      <td>&lt;Answer xmlns:xsi=\"http://www.w3.org/2001/XMLS...</td>\n",
       "      <td>None</td>\n",
       "      <td>None</td>\n",
       "      <td>None</td>\n",
       "      <td>6bff78840be5165329dda278418bbbd54c909047</td>\n",
       "      <td>/Item/Unit/Session[1]/Section[3]/SubSection[6]...</td>\n",
       "    </tr>\n",
       "  </tbody>\n",
       "</table>\n",
       "</div>"
      ],
      "text/plain": [
       "  type heading timing                                           question  \\\n",
       "0  itq    None   None  <Question xmlns:xsi=\"http://www.w3.org/2001/XM...   \n",
       "1  itq    None   None  <Question xmlns:xsi=\"http://www.w3.org/2001/XM...   \n",
       "2  itq    None   None  <Question xmlns:xsi=\"http://www.w3.org/2001/XM...   \n",
       "\n",
       "                                              answer discussion interaction  \\\n",
       "0  <Answer xmlns:xsi=\"http://www.w3.org/2001/XMLS...       None        None   \n",
       "1  <Answer xmlns:xsi=\"http://www.w3.org/2001/XMLS...       None        None   \n",
       "2  <Answer xmlns:xsi=\"http://www.w3.org/2001/XMLS...       None        None   \n",
       "\n",
       "  multipart                                        id  \\\n",
       "0      None  6bff78840be5165329dda278418bbbd54c909047   \n",
       "1      None  6bff78840be5165329dda278418bbbd54c909047   \n",
       "2      None  6bff78840be5165329dda278418bbbd54c909047   \n",
       "\n",
       "                                               _path  \n",
       "0               /Item/Unit/Session[1]/Section[2]/ITQ  \n",
       "1  /Item/Unit/Session[1]/Section[3]/SubSection[1]...  \n",
       "2  /Item/Unit/Session[1]/Section[3]/SubSection[6]...  "
      ]
     },
     "execution_count": 23,
     "metadata": {},
     "output_type": "execute_result"
    }
   ],
   "source": [
    "add_activities_to_db(typ=\"ITQ\")\n",
    "\n",
    "pd.read_sql(\"SELECT * FROM activities WHERE type='itq' LIMIT 3\", con=db.conn)"
   ]
  },
  {
   "cell_type": "markdown",
   "id": "b0a8e75d",
   "metadata": {},
   "source": [
    "How about exercises?"
   ]
  },
  {
   "cell_type": "code",
   "execution_count": 24,
   "id": "b47bb0ae",
   "metadata": {},
   "outputs": [
    {
     "data": {
      "text/html": [
       "<div>\n",
       "<style scoped>\n",
       "    .dataframe tbody tr th:only-of-type {\n",
       "        vertical-align: middle;\n",
       "    }\n",
       "\n",
       "    .dataframe tbody tr th {\n",
       "        vertical-align: top;\n",
       "    }\n",
       "\n",
       "    .dataframe thead th {\n",
       "        text-align: right;\n",
       "    }\n",
       "</style>\n",
       "<table border=\"1\" class=\"dataframe\">\n",
       "  <thead>\n",
       "    <tr style=\"text-align: right;\">\n",
       "      <th></th>\n",
       "      <th>type</th>\n",
       "      <th>heading</th>\n",
       "      <th>timing</th>\n",
       "      <th>question</th>\n",
       "      <th>answer</th>\n",
       "      <th>discussion</th>\n",
       "      <th>interaction</th>\n",
       "      <th>multipart</th>\n",
       "      <th>id</th>\n",
       "      <th>_path</th>\n",
       "    </tr>\n",
       "  </thead>\n",
       "  <tbody>\n",
       "  </tbody>\n",
       "</table>\n",
       "</div>"
      ],
      "text/plain": [
       "Empty DataFrame\n",
       "Columns: [type, heading, timing, question, answer, discussion, interaction, multipart, id, _path]\n",
       "Index: []"
      ]
     },
     "execution_count": 24,
     "metadata": {},
     "output_type": "execute_result"
    }
   ],
   "source": [
    "add_activities_to_db(typ=\"Exercise\")\n",
    "\n",
    "pd.read_sql(\"SELECT * FROM activities WHERE type='exercise' LIMIT 3\", con=db.conn)"
   ]
  },
  {
   "cell_type": "markdown",
   "id": "248b3dda",
   "metadata": {},
   "source": [
    "Or SAQs?"
   ]
  },
  {
   "cell_type": "code",
   "execution_count": 25,
   "id": "0915f9b2",
   "metadata": {},
   "outputs": [
    {
     "data": {
      "text/html": [
       "<div>\n",
       "<style scoped>\n",
       "    .dataframe tbody tr th:only-of-type {\n",
       "        vertical-align: middle;\n",
       "    }\n",
       "\n",
       "    .dataframe tbody tr th {\n",
       "        vertical-align: top;\n",
       "    }\n",
       "\n",
       "    .dataframe thead th {\n",
       "        text-align: right;\n",
       "    }\n",
       "</style>\n",
       "<table border=\"1\" class=\"dataframe\">\n",
       "  <thead>\n",
       "    <tr style=\"text-align: right;\">\n",
       "      <th></th>\n",
       "      <th>type</th>\n",
       "      <th>heading</th>\n",
       "      <th>timing</th>\n",
       "      <th>question</th>\n",
       "      <th>answer</th>\n",
       "      <th>discussion</th>\n",
       "      <th>interaction</th>\n",
       "      <th>multipart</th>\n",
       "      <th>id</th>\n",
       "      <th>_path</th>\n",
       "    </tr>\n",
       "  </thead>\n",
       "  <tbody>\n",
       "    <tr>\n",
       "      <th>0</th>\n",
       "      <td>saq</td>\n",
       "      <td>None</td>\n",
       "      <td>None</td>\n",
       "      <td>&lt;Question xmlns:xsi=\"http://www.w3.org/2001/XM...</td>\n",
       "      <td>&lt;Answer xmlns:xsi=\"http://www.w3.org/2001/XMLS...</td>\n",
       "      <td>None</td>\n",
       "      <td>None</td>\n",
       "      <td>None</td>\n",
       "      <td>6c5ba9c60fa29f546a71ba94565a6f62f1eae0db</td>\n",
       "      <td>/Item/Unit[2]/Session[2]/Section/SAQ</td>\n",
       "    </tr>\n",
       "    <tr>\n",
       "      <th>1</th>\n",
       "      <td>saq</td>\n",
       "      <td>None</td>\n",
       "      <td>None</td>\n",
       "      <td>&lt;Question xmlns:xsi=\"http://www.w3.org/2001/XM...</td>\n",
       "      <td>None</td>\n",
       "      <td>&lt;Discussion xmlns:xsi=\"http://www.w3.org/2001/...</td>\n",
       "      <td>None</td>\n",
       "      <td>None</td>\n",
       "      <td>6c5ba9c60fa29f546a71ba94565a6f62f1eae0db</td>\n",
       "      <td>/Item/Unit[2]/Session[3]/Section[2]/SAQ[1]</td>\n",
       "    </tr>\n",
       "    <tr>\n",
       "      <th>2</th>\n",
       "      <td>saq</td>\n",
       "      <td>None</td>\n",
       "      <td>None</td>\n",
       "      <td>&lt;Question xmlns:xsi=\"http://www.w3.org/2001/XM...</td>\n",
       "      <td>&lt;Answer xmlns:xsi=\"http://www.w3.org/2001/XMLS...</td>\n",
       "      <td>None</td>\n",
       "      <td>None</td>\n",
       "      <td>None</td>\n",
       "      <td>6c5ba9c60fa29f546a71ba94565a6f62f1eae0db</td>\n",
       "      <td>/Item/Unit[2]/Session[3]/Section[2]/SAQ[2]</td>\n",
       "    </tr>\n",
       "  </tbody>\n",
       "</table>\n",
       "</div>"
      ],
      "text/plain": [
       "  type heading timing                                           question  \\\n",
       "0  saq    None   None  <Question xmlns:xsi=\"http://www.w3.org/2001/XM...   \n",
       "1  saq    None   None  <Question xmlns:xsi=\"http://www.w3.org/2001/XM...   \n",
       "2  saq    None   None  <Question xmlns:xsi=\"http://www.w3.org/2001/XM...   \n",
       "\n",
       "                                              answer  \\\n",
       "0  <Answer xmlns:xsi=\"http://www.w3.org/2001/XMLS...   \n",
       "1                                               None   \n",
       "2  <Answer xmlns:xsi=\"http://www.w3.org/2001/XMLS...   \n",
       "\n",
       "                                          discussion interaction multipart  \\\n",
       "0                                               None        None      None   \n",
       "1  <Discussion xmlns:xsi=\"http://www.w3.org/2001/...        None      None   \n",
       "2                                               None        None      None   \n",
       "\n",
       "                                         id  \\\n",
       "0  6c5ba9c60fa29f546a71ba94565a6f62f1eae0db   \n",
       "1  6c5ba9c60fa29f546a71ba94565a6f62f1eae0db   \n",
       "2  6c5ba9c60fa29f546a71ba94565a6f62f1eae0db   \n",
       "\n",
       "                                        _path  \n",
       "0        /Item/Unit[2]/Session[2]/Section/SAQ  \n",
       "1  /Item/Unit[2]/Session[3]/Section[2]/SAQ[1]  \n",
       "2  /Item/Unit[2]/Session[3]/Section[2]/SAQ[2]  "
      ]
     },
     "execution_count": 25,
     "metadata": {},
     "output_type": "execute_result"
    }
   ],
   "source": [
    "add_activities_to_db(typ=\"SAQ\")\n",
    "\n",
    "pd.read_sql(\"SELECT * FROM activities WHERE type='saq' LIMIT 3\", con=db.conn)"
   ]
  },
  {
   "cell_type": "markdown",
   "id": "ae7e09ea",
   "metadata": {},
   "source": [
    "We should also be able to run full-text search questions over all the activity types:"
   ]
  },
  {
   "cell_type": "code",
   "execution_count": 26,
   "id": "33e0aa48",
   "metadata": {},
   "outputs": [
    {
     "data": {
      "text/html": [
       "<div>\n",
       "<style scoped>\n",
       "    .dataframe tbody tr th:only-of-type {\n",
       "        vertical-align: middle;\n",
       "    }\n",
       "\n",
       "    .dataframe tbody tr th {\n",
       "        vertical-align: top;\n",
       "    }\n",
       "\n",
       "    .dataframe thead th {\n",
       "        text-align: right;\n",
       "    }\n",
       "</style>\n",
       "<table border=\"1\" class=\"dataframe\">\n",
       "  <thead>\n",
       "    <tr style=\"text-align: right;\">\n",
       "      <th></th>\n",
       "      <th>heading</th>\n",
       "      <th>question</th>\n",
       "      <th>interaction</th>\n",
       "      <th>answer</th>\n",
       "      <th>discussion</th>\n",
       "      <th>id</th>\n",
       "    </tr>\n",
       "  </thead>\n",
       "  <tbody>\n",
       "    <tr>\n",
       "      <th>0</th>\n",
       "      <td>Part 1</td>\n",
       "      <td>&lt;Question&gt;\\n                                &lt;P...</td>\n",
       "      <td>&lt;Interaction&gt;\\n                               ...</td>\n",
       "      <td>&lt;Answer&gt;\\n                                &lt;Equ...</td>\n",
       "      <td>None</td>\n",
       "      <td>904a100e4d41cf1a696b547eec1b2f625fc5bd78</td>\n",
       "    </tr>\n",
       "    <tr>\n",
       "      <th>1</th>\n",
       "      <td>Question 9</td>\n",
       "      <td>&lt;Question xmlns:xsi=\"http://www.w3.org/2001/XM...</td>\n",
       "      <td>None</td>\n",
       "      <td>&lt;Answer xmlns:xsi=\"http://www.w3.org/2001/XMLS...</td>\n",
       "      <td>None</td>\n",
       "      <td>f36ae6f445e1c39925fa84d3e188af9ed7c15fdc</td>\n",
       "    </tr>\n",
       "    <tr>\n",
       "      <th>2</th>\n",
       "      <td>None</td>\n",
       "      <td>&lt;Question xmlns:xsi=\"http://www.w3.org/2001/XM...</td>\n",
       "      <td>None</td>\n",
       "      <td>&lt;Answer xmlns:xsi=\"http://www.w3.org/2001/XMLS...</td>\n",
       "      <td>None</td>\n",
       "      <td>884164a46f4066c6b26894c812484c74ab2e8531</td>\n",
       "    </tr>\n",
       "    <tr>\n",
       "      <th>3</th>\n",
       "      <td>None</td>\n",
       "      <td>&lt;Question xmlns:xsi=\"http://www.w3.org/2001/XM...</td>\n",
       "      <td>None</td>\n",
       "      <td>&lt;Answer xmlns:xsi=\"http://www.w3.org/2001/XMLS...</td>\n",
       "      <td>None</td>\n",
       "      <td>884164a46f4066c6b26894c812484c74ab2e8531</td>\n",
       "    </tr>\n",
       "    <tr>\n",
       "      <th>4</th>\n",
       "      <td>None</td>\n",
       "      <td>&lt;Question xmlns:xsi=\"http://www.w3.org/2001/XM...</td>\n",
       "      <td>None</td>\n",
       "      <td>&lt;Answer xmlns:xsi=\"http://www.w3.org/2001/XMLS...</td>\n",
       "      <td>None</td>\n",
       "      <td>884164a46f4066c6b26894c812484c74ab2e8531</td>\n",
       "    </tr>\n",
       "    <tr>\n",
       "      <th>5</th>\n",
       "      <td>None</td>\n",
       "      <td>&lt;Question xmlns:xsi=\"http://www.w3.org/2001/XM...</td>\n",
       "      <td>None</td>\n",
       "      <td>&lt;Answer xmlns:xsi=\"http://www.w3.org/2001/XMLS...</td>\n",
       "      <td>None</td>\n",
       "      <td>884164a46f4066c6b26894c812484c74ab2e8531</td>\n",
       "    </tr>\n",
       "    <tr>\n",
       "      <th>6</th>\n",
       "      <td>None</td>\n",
       "      <td>&lt;Question xmlns:xsi=\"http://www.w3.org/2001/XM...</td>\n",
       "      <td>None</td>\n",
       "      <td>&lt;Answer xmlns:xsi=\"http://www.w3.org/2001/XMLS...</td>\n",
       "      <td>None</td>\n",
       "      <td>884164a46f4066c6b26894c812484c74ab2e8531</td>\n",
       "    </tr>\n",
       "    <tr>\n",
       "      <th>7</th>\n",
       "      <td>SAQ 5</td>\n",
       "      <td>&lt;Question xmlns:xsi=\"http://www.w3.org/2001/XM...</td>\n",
       "      <td>None</td>\n",
       "      <td>&lt;Answer xmlns:xsi=\"http://www.w3.org/2001/XMLS...</td>\n",
       "      <td>None</td>\n",
       "      <td>a82aa8fe5c90c02095eefb3e7d998efbbc1949c8</td>\n",
       "    </tr>\n",
       "  </tbody>\n",
       "</table>\n",
       "</div>"
      ],
      "text/plain": [
       "      heading                                           question  \\\n",
       "0      Part 1  <Question>\\n                                <P...   \n",
       "1  Question 9  <Question xmlns:xsi=\"http://www.w3.org/2001/XM...   \n",
       "2        None  <Question xmlns:xsi=\"http://www.w3.org/2001/XM...   \n",
       "3        None  <Question xmlns:xsi=\"http://www.w3.org/2001/XM...   \n",
       "4        None  <Question xmlns:xsi=\"http://www.w3.org/2001/XM...   \n",
       "5        None  <Question xmlns:xsi=\"http://www.w3.org/2001/XM...   \n",
       "6        None  <Question xmlns:xsi=\"http://www.w3.org/2001/XM...   \n",
       "7       SAQ 5  <Question xmlns:xsi=\"http://www.w3.org/2001/XM...   \n",
       "\n",
       "                                         interaction  \\\n",
       "0  <Interaction>\\n                               ...   \n",
       "1                                               None   \n",
       "2                                               None   \n",
       "3                                               None   \n",
       "4                                               None   \n",
       "5                                               None   \n",
       "6                                               None   \n",
       "7                                               None   \n",
       "\n",
       "                                              answer discussion  \\\n",
       "0  <Answer>\\n                                <Equ...       None   \n",
       "1  <Answer xmlns:xsi=\"http://www.w3.org/2001/XMLS...       None   \n",
       "2  <Answer xmlns:xsi=\"http://www.w3.org/2001/XMLS...       None   \n",
       "3  <Answer xmlns:xsi=\"http://www.w3.org/2001/XMLS...       None   \n",
       "4  <Answer xmlns:xsi=\"http://www.w3.org/2001/XMLS...       None   \n",
       "5  <Answer xmlns:xsi=\"http://www.w3.org/2001/XMLS...       None   \n",
       "6  <Answer xmlns:xsi=\"http://www.w3.org/2001/XMLS...       None   \n",
       "7  <Answer xmlns:xsi=\"http://www.w3.org/2001/XMLS...       None   \n",
       "\n",
       "                                         id  \n",
       "0  904a100e4d41cf1a696b547eec1b2f625fc5bd78  \n",
       "1  f36ae6f445e1c39925fa84d3e188af9ed7c15fdc  \n",
       "2  884164a46f4066c6b26894c812484c74ab2e8531  \n",
       "3  884164a46f4066c6b26894c812484c74ab2e8531  \n",
       "4  884164a46f4066c6b26894c812484c74ab2e8531  \n",
       "5  884164a46f4066c6b26894c812484c74ab2e8531  \n",
       "6  884164a46f4066c6b26894c812484c74ab2e8531  \n",
       "7  a82aa8fe5c90c02095eefb3e7d998efbbc1949c8  "
      ]
     },
     "execution_count": 26,
     "metadata": {},
     "output_type": "execute_result"
    }
   ],
   "source": [
    "fts(db, \"activities\", \"chemical equation\")"
   ]
  },
  {
   "cell_type": "markdown",
   "id": "c5bda119",
   "metadata": {},
   "source": [
    "We really need a better way to render these results...\n",
    "\n",
    "Parsing the activity into markdown would be one way..."
   ]
  }
 ],
 "metadata": {
  "kernelspec": {
   "display_name": "Python 3 (ipykernel)",
   "language": "python",
   "name": "python3"
  },
  "language_info": {
   "codemirror_mode": {
    "name": "ipython",
    "version": 3
   },
   "file_extension": ".py",
   "mimetype": "text/x-python",
   "name": "python",
   "nbconvert_exporter": "python",
   "pygments_lexer": "ipython3",
   "version": "3.9.12"
  }
 },
 "nbformat": 4,
 "nbformat_minor": 5
}
