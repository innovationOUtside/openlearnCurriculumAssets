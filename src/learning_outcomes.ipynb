{
 "cells": [
  {
   "cell_type": "markdown",
   "id": "cdec4f1b",
   "metadata": {},
   "source": [
    "# Working With Learning Outcomes\n",
    "\n",
    "Learning outcomes can be created at various levels of abstraction: for example, at the unit level, at the block level, at the module level and at the qualification level.\n",
    "\n",
    "Learning outcomes are distinguished elements in OU-XML documents, although not all materials make use of them.\n",
    "\n",
    "We can search over learning outcomes specifically in order to discover teaching materials that presumably claim to deliver those outcomes specifically. We can also browse over or search on previously defined learning outcomes to provide inspiration or model phrases for creating new learning outcomes. (Using extracted structure data such as a learning outcomes as training data for machine learning systems is another possibility, although such applications are out of scope of this review.)\n",
    "\n",
    "*You can try such a search [here](https://lite.datasette.io/?url=https%3A%2F%2Fraw.githubusercontent.com%2FinnovationOUtside%2FopenlearnCurriculumAssets%2Fmain%2Fsrc%2Fall_openlean_xml.db%3Fraw%3Dtrue#/all_openlean_xml/lo?_search=describe+problems&_filter_column=&_filter_op=exact&_filter_value=&_sort=rowid). __WARNING: 100MB+ download:__ this database application runs purely in your browser and may take a minute or two to load.*\n",
    "\n",
    "In this section, we will see how to extract learning outcomes from the OU-XML associated with a single OpenLearn unit, and then create a simple database table that allows us to search over the learning outcomes for all the OpenLearn units that represent them in a structured way.\n",
    "\n",
    "The learning outcomes themselves will be stored in a separate database to database containing the original OU-XML material to try to keep the database sizes down so that we can store them in GitHub and also load them in to browser based query UIs in an efficient way. "
   ]
  },
  {
   "cell_type": "markdown",
   "id": "d385fbaf",
   "metadata": {},
   "source": [
    "## Preparing the Ground\n",
    "\n",
    "As ever, we need to set up a database connection:"
   ]
  },
  {
   "cell_type": "code",
   "execution_count": 1,
   "id": "a4c52eec",
   "metadata": {},
   "outputs": [],
   "source": [
    "from sqlite_utils import Database\n",
    "\n",
    "# Open raw XML database connection\n",
    "xml_dbname = \"all_openlean_xml.db\"\n",
    "xml_db = Database(xml_dbname)\n",
    "\n",
    "# Open assets database\n",
    "dbname = \"openlean_assets.db\"\n",
    "db = Database(dbname)"
   ]
  },
  {
   "cell_type": "markdown",
   "id": "b1edb645",
   "metadata": {},
   "source": [
    "And get a sample XML file, selecting one that we know contains structurally marked up learning outcome elements:"
   ]
  },
  {
   "cell_type": "code",
   "execution_count": 2,
   "id": "d5216eae",
   "metadata": {},
   "outputs": [],
   "source": [
    "from lxml import etree\n",
    "import pandas as pd\n",
    "\n",
    "# Grab an OU-XML file that is known to contain glossary items\n",
    "a210_xml_raw = pd.read_sql(\"SELECT xml FROM xml WHERE name='An introduction to interaction design'\",\n",
    "                           con=xml_db.conn).loc[0, \"xml\"]\n",
    "\n",
    "# Parse the XML into an xml object\n",
    "root = etree.fromstring(a210_xml_raw)"
   ]
  },
  {
   "cell_type": "markdown",
   "id": "c300bbec",
   "metadata": {},
   "source": [
    "## Extracting Learning Outcomes\n",
    "\n",
    "Individual learning outcomes are defined as simple text `<LearningOutcome>` elements [[docs](https://learn3.open.ac.uk/mod/oucontent/view.php?id=185747&section=6.3)] in a `<LearningOutcomes>` block wrapper:\n",
    "\n",
    "```xml\n",
    "<LearningOutcomes xmlns:xsi=\"http://www.w3.org/2001/XMLSchema-instance\">\n",
    "    <Paragraph>After studying this course, you should be able to:</Paragraph>\n",
    "    <LearningOutcome>understand what interaction design is, the importance of user-centred design and methods of user information gathering</LearningOutcome>\n",
    "    <LearningOutcome>understand how the sensory, cognitive and physical capabilities of users inform the design of interactive products</LearningOutcome>\n",
    "    ...\n",
    "</LearningOutcomes>\n",
    "```\n",
    "\n",
    "The individual learning outcomes can be extracted simply as the text associated with a `<LearningOutcome>` element:"
   ]
  },
  {
   "cell_type": "code",
   "execution_count": 3,
   "id": "4784556e",
   "metadata": {},
   "outputs": [],
   "source": [
    "def get_lo_items(rro):\n",
    "    \"\"\"Extract learning outcomes from an OU-XML XML object.\"\"\"\n",
    "    return [lo.text for lo in root.xpath('//LearningOutcome')]"
   ]
  },
  {
   "cell_type": "markdown",
   "id": "33134491",
   "metadata": {},
   "source": [
    "Let's see what that returns from our test document:"
   ]
  },
  {
   "cell_type": "code",
   "execution_count": 4,
   "id": "c6f00ea6",
   "metadata": {},
   "outputs": [
    {
     "data": {
      "text/plain": [
       "['understand what interaction design is, the importance of user-centred design and methods of user information gathering',\n",
       " 'understand how the sensory, cognitive and physical capabilities of users inform the design of interactive products',\n",
       " 'understand the process of interaction design, including requirements elicitation, prototyping, evaluation and the need for iteration',\n",
       " 'analyse and critique the design of interactive products',\n",
       " 'select, adapt and apply suitable interaction design approaches and techniques towards the design of an interactive product.']"
      ]
     },
     "execution_count": 4,
     "metadata": {},
     "output_type": "execute_result"
    }
   ],
   "source": [
    "get_lo_items(root)"
   ]
  },
  {
   "cell_type": "markdown",
   "id": "22c04f4d",
   "metadata": {},
   "source": [
    "## Adding Learning Outcome Items to the Database\n",
    "\n",
    "It's trivial to add learning outcomes for all our units to the database, along with support for full text search over all the items.\n",
    "\n",
    "First, create appropriate tables to store the data:"
   ]
  },
  {
   "cell_type": "code",
   "execution_count": 5,
   "id": "6e1ff7cb",
   "metadata": {},
   "outputs": [
    {
     "data": {
      "text/plain": [
       "<Table lo (code, name, lo, _id)>"
      ]
     },
     "execution_count": 5,
     "metadata": {},
     "output_type": "execute_result"
    }
   ],
   "source": [
    "all_lo_tbl = db[\"lo\"]\n",
    "all_lo_tbl.drop(ignore=True)\n",
    "all_lo_tbl.create({\n",
    "    \"code\": str,\n",
    "    \"name\": str,\n",
    "    \"lo\": str,\n",
    "    \"_id\": str\n",
    "})\n",
    "# Note that in this case the _id is not unique\n",
    "# because the same id may apply to multiple los\n",
    "# The _id is a reference for joining tables only\n",
    "\n",
    "# Prepare the full-text search table\n",
    "db[f\"{all_lo_tbl.name}_fts\"].drop(ignore=True)\n",
    "db[all_lo_tbl.name].enable_fts([\"lo\", \"_id\"], create_triggers=True)"
   ]
  },
  {
   "cell_type": "markdown",
   "id": "065db88a",
   "metadata": {},
   "source": [
    "We can now iterate throughall the OU-XML documents in out databases and create a comprehensive OpenElarn learning outcome database:"
   ]
  },
  {
   "cell_type": "code",
   "execution_count": 6,
   "id": "0a2f3173",
   "metadata": {},
   "outputs": [],
   "source": [
    "from xml_utils import create_id\n",
    "\n",
    "for row in xml_db.query(\"\"\"SELECT * FROM xml;\"\"\"):\n",
    "    root = etree.fromstring(row[\"xml\"])\n",
    "    lo_items = get_lo_items(root)\n",
    "    # From the list of learning outcome items,\n",
    "    # create a list of dict items we can add to the database\n",
    "    lo_item_dicts = [{\"lo\": lo,\n",
    "                      \"code\": row[\"code\"],\n",
    "                      \"name\": row[\"name\"]} for lo in lo_items if lo ]\n",
    "    \n",
    "    # Add a reference id for each record\n",
    "    create_id(lo_item_dicts, id_field=\"_id\")\n",
    "    \n",
    "    # Add items to the database\n",
    "    db[all_lo_tbl.name].insert_all(lo_item_dicts)"
   ]
  },
  {
   "cell_type": "markdown",
   "id": "8fadbbd5",
   "metadata": {},
   "source": [
    "Now we can test a query:"
   ]
  },
  {
   "cell_type": "code",
   "execution_count": 7,
   "id": "10ea9cdd",
   "metadata": {},
   "outputs": [
    {
     "data": {
      "text/html": [
       "<div>\n",
       "<style scoped>\n",
       "    .dataframe tbody tr th:only-of-type {\n",
       "        vertical-align: middle;\n",
       "    }\n",
       "\n",
       "    .dataframe tbody tr th {\n",
       "        vertical-align: top;\n",
       "    }\n",
       "\n",
       "    .dataframe thead th {\n",
       "        text-align: right;\n",
       "    }\n",
       "</style>\n",
       "<table border=\"1\" class=\"dataframe\">\n",
       "  <thead>\n",
       "    <tr style=\"text-align: right;\">\n",
       "      <th></th>\n",
       "      <th>code</th>\n",
       "      <th>name</th>\n",
       "      <th>lo</th>\n",
       "      <th>_id</th>\n",
       "    </tr>\n",
       "  </thead>\n",
       "  <tbody>\n",
       "    <tr>\n",
       "      <th>0</th>\n",
       "      <td>L101</td>\n",
       "      <td>A brief history of communication: hieroglyphic...</td>\n",
       "      <td>understand how different writing systems have ...</td>\n",
       "      <td>1f194525072f4358f7639c471ee5289665d50a3f</td>\n",
       "    </tr>\n",
       "    <tr>\n",
       "      <th>1</th>\n",
       "      <td>L101</td>\n",
       "      <td>A brief history of communication: hieroglyphic...</td>\n",
       "      <td>understand how technology influences what we c...</td>\n",
       "      <td>1f194525072f4358f7639c471ee5289665d50a3f</td>\n",
       "    </tr>\n",
       "    <tr>\n",
       "      <th>2</th>\n",
       "      <td>H807</td>\n",
       "      <td>Accessibility of eLearning</td>\n",
       "      <td>discuss the main challenges facing disabled st...</td>\n",
       "      <td>78aec27976cb7d1ce356bf0eda6e8fb66ea532e9</td>\n",
       "    </tr>\n",
       "  </tbody>\n",
       "</table>\n",
       "</div>"
      ],
      "text/plain": [
       "   code                                               name  \\\n",
       "0  L101  A brief history of communication: hieroglyphic...   \n",
       "1  L101  A brief history of communication: hieroglyphic...   \n",
       "2  H807                         Accessibility of eLearning   \n",
       "\n",
       "                                                  lo  \\\n",
       "0  understand how different writing systems have ...   \n",
       "1  understand how technology influences what we c...   \n",
       "2  discuss the main challenges facing disabled st...   \n",
       "\n",
       "                                        _id  \n",
       "0  1f194525072f4358f7639c471ee5289665d50a3f  \n",
       "1  1f194525072f4358f7639c471ee5289665d50a3f  \n",
       "2  78aec27976cb7d1ce356bf0eda6e8fb66ea532e9  "
      ]
     },
     "execution_count": 7,
     "metadata": {},
     "output_type": "execute_result"
    }
   ],
   "source": [
    "pd.read_sql(\"SELECT * FROM lo LIMIT 3\", con=db.conn)"
   ]
  },
  {
   "cell_type": "markdown",
   "id": "a4311642",
   "metadata": {},
   "source": [
    "Or a full-text search:"
   ]
  },
  {
   "cell_type": "code",
   "execution_count": 8,
   "id": "5e0278e3",
   "metadata": {},
   "outputs": [],
   "source": [
    "def fts(db, base_tbl, q):\n",
    "    \"\"\"Run a simple full-text search query \n",
    "       over a table with an FTS virtual table.\"\"\"\n",
    "    _q = f\"\"\"SELECT * FROM {base_tbl}_fts \n",
    "             WHERE {base_tbl}_fts MATCH {db.quote(q)} ;\"\"\"\n",
    "    \n",
    "    return pd.read_sql(_q, con=db.conn)"
   ]
  },
  {
   "cell_type": "code",
   "execution_count": 9,
   "id": "d5d2f512",
   "metadata": {},
   "outputs": [
    {
     "data": {
      "text/plain": [
       "[{'lo': 'describe some of the characteristics of a range of mental health problems',\n",
       "  '_id': '2b053be7f2aaf259e6a32eec6648f4077fea20e0'},\n",
       " {'lo': 'describe how a support network can benefit a young person experiencing mental health problems',\n",
       "  '_id': '2b053be7f2aaf259e6a32eec6648f4077fea20e0'},\n",
       " {'lo': 'describe the referral processes for a young person experiencing mental health problems to access professional support',\n",
       "  '_id': '2b053be7f2aaf259e6a32eec6648f4077fea20e0'},\n",
       " {'lo': 'describe the particular problems in digesting plant material',\n",
       "  '_id': '1a8a51c8df910e3bf45558c76cad33fb5f7f5b18'}]"
      ]
     },
     "execution_count": 9,
     "metadata": {},
     "output_type": "execute_result"
    }
   ],
   "source": [
    "fts(db, \"lo\", \"describe problems\").to_dict(orient=\"records\")"
   ]
  }
 ],
 "metadata": {
  "kernelspec": {
   "display_name": "Python 3 (ipykernel)",
   "language": "python",
   "name": "python3"
  },
  "language_info": {
   "codemirror_mode": {
    "name": "ipython",
    "version": 3
   },
   "file_extension": ".py",
   "mimetype": "text/x-python",
   "name": "python",
   "nbconvert_exporter": "python",
   "pygments_lexer": "ipython3",
   "version": "3.9.12"
  }
 },
 "nbformat": 4,
 "nbformat_minor": 5
}
