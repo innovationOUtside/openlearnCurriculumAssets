{
 "cells": [
  {
   "cell_type": "markdown",
   "id": "527884fa",
   "metadata": {},
   "source": [
    "# Working With Equations\n",
    "\n",
    "One of the asset types that is represented within OU-XML is an `<Equation>` type. This element can be used to represent mathematical and chemical equations.\n",
    "\n",
    "The element using MathML to describe equation items, which are rendered in the VLE using Mathjax (I think? I'm not sure that the conversion process is?) and via LaTex for PDF print publications. Browsers such as Firefox are also capable of rendering MathML directly.\n",
    "\n",
    "One of the problems with MathML as a structure is that it is not the sort of thing you would write by hand, and as such, it may be difficult to discover via simple search. (A simpler way of writing equations is to use LaTeX, for example.)"
   ]
  },
  {
   "cell_type": "markdown",
   "id": "9af4404d",
   "metadata": {},
   "source": [
    "## Preparing the Ground\n",
    "\n",
    "As ever, we need to set up a database connection:"
   ]
  },
  {
   "cell_type": "code",
   "execution_count": 1,
   "id": "bf3861b8",
   "metadata": {},
   "outputs": [],
   "source": [
    "from sqlite_utils import Database\n",
    "\n",
    "# Open database connection\n",
    "dbname = \"all_openlean_xml.db\"\n",
    "db = Database(dbname)"
   ]
  },
  {
   "cell_type": "markdown",
   "id": "83f44c51",
   "metadata": {},
   "source": [
    "And get a sample XML file, selecting one that we know contains structurally marked up equation items:"
   ]
  },
  {
   "cell_type": "code",
   "execution_count": 2,
   "id": "f4285784",
   "metadata": {},
   "outputs": [
    {
     "data": {
      "text/html": [
       "<div>\n",
       "<style scoped>\n",
       "    .dataframe tbody tr th:only-of-type {\n",
       "        vertical-align: middle;\n",
       "    }\n",
       "\n",
       "    .dataframe tbody tr th {\n",
       "        vertical-align: top;\n",
       "    }\n",
       "\n",
       "    .dataframe thead th {\n",
       "        text-align: right;\n",
       "    }\n",
       "</style>\n",
       "<table border=\"1\" class=\"dataframe\">\n",
       "  <thead>\n",
       "    <tr style=\"text-align: right;\">\n",
       "      <th></th>\n",
       "      <th>code</th>\n",
       "      <th>name</th>\n",
       "      <th>xml</th>\n",
       "      <th>id</th>\n",
       "    </tr>\n",
       "  </thead>\n",
       "  <tbody>\n",
       "    <tr>\n",
       "      <th>0</th>\n",
       "      <td>T212</td>\n",
       "      <td>An introduction to electronics</td>\n",
       "      <td>b'&lt;?xml version=\"1.0\" encoding=\"utf-8\"?&gt;\\n&lt;?sc...</td>\n",
       "      <td>e70841f12a908401ab9e6a69923bdb684928c888</td>\n",
       "    </tr>\n",
       "    <tr>\n",
       "      <th>1</th>\n",
       "      <td></td>\n",
       "      <td>An introduction to geology</td>\n",
       "      <td>b'&lt;?xml version=\"1.0\" encoding=\"utf-8\"?&gt;\\n&lt;?sc...</td>\n",
       "      <td>4c8058285a4de53528f646ee2742dc8394fd4e38</td>\n",
       "    </tr>\n",
       "    <tr>\n",
       "      <th>2</th>\n",
       "      <td>S276</td>\n",
       "      <td>An introduction to minerals and rocks under th...</td>\n",
       "      <td>b'&lt;?xml version=\"1.0\" encoding=\"utf-8\"?&gt;\\n&lt;?sc...</td>\n",
       "      <td>6bff78840be5165329dda278418bbbd54c909047</td>\n",
       "    </tr>\n",
       "    <tr>\n",
       "      <th>3</th>\n",
       "      <td>T193</td>\n",
       "      <td>Assessing risk in engineering, work and life</td>\n",
       "      <td>b'&lt;?xml version=\"1.0\" encoding=\"utf-8\"?&gt;\\n&lt;?sc...</td>\n",
       "      <td>11e5486d113eebd6c01126c9c65b91591c211b9b</td>\n",
       "    </tr>\n",
       "    <tr>\n",
       "      <th>4</th>\n",
       "      <td>SK299</td>\n",
       "      <td>Blood and the respiratory system</td>\n",
       "      <td>b'&lt;?xml version=\"1.0\" encoding=\"UTF-8\"?&gt;\\n&lt;?dc...</td>\n",
       "      <td>904a100e4d41cf1a696b547eec1b2f625fc5bd78</td>\n",
       "    </tr>\n",
       "    <tr>\n",
       "      <th>5</th>\n",
       "      <td></td>\n",
       "      <td>Discovering chemistry</td>\n",
       "      <td>b'&lt;?xml version=\"1.0\" encoding=\"utf-8\"?&gt;\\n&lt;?sc...</td>\n",
       "      <td>884164a46f4066c6b26894c812484c74ab2e8531</td>\n",
       "    </tr>\n",
       "    <tr>\n",
       "      <th>6</th>\n",
       "      <td></td>\n",
       "      <td>Mathematics for science and technology</td>\n",
       "      <td>b'&lt;?xml version=\"1.0\" encoding=\"utf-8\"?&gt;\\n&lt;?sc...</td>\n",
       "      <td>84fea7b4cf86cdd4e31e3272572372972fb81fe2</td>\n",
       "    </tr>\n",
       "    <tr>\n",
       "      <th>7</th>\n",
       "      <td>s315</td>\n",
       "      <td>Metals in medicine</td>\n",
       "      <td>b'&lt;?xml version=\"1.0\" encoding=\"UTF-8\"?&gt;\\n&lt;Ite...</td>\n",
       "      <td>c2c90459369d82e28e768dfd9072047eab95be4d</td>\n",
       "    </tr>\n",
       "    <tr>\n",
       "      <th>8</th>\n",
       "      <td>SM123</td>\n",
       "      <td>Particle physics</td>\n",
       "      <td>b'&lt;?xml version=\"1.0\" encoding=\"utf-8\"?&gt;\\n&lt;?sc...</td>\n",
       "      <td>4095122554b7cc3cff824f31c3cf531087e63b2c</td>\n",
       "    </tr>\n",
       "    <tr>\n",
       "      <th>9</th>\n",
       "      <td>S112</td>\n",
       "      <td>Scales in space and time</td>\n",
       "      <td>b'&lt;?xml version=\"1.0\" encoding=\"UTF-8\"?&gt;\\n&lt;?sc...</td>\n",
       "      <td>75a013ae7e703481e8f0e05bde38d6d71fa732b6</td>\n",
       "    </tr>\n",
       "    <tr>\n",
       "      <th>10</th>\n",
       "      <td></td>\n",
       "      <td>Succeed with maths: part 2</td>\n",
       "      <td>b'&lt;?xml version=\"1.0\" encoding=\"UTF-8\"?&gt;\\n&lt;!--...</td>\n",
       "      <td>0ab4176f55d221bdc8bd68fbcd2e9c575d2a5e4e</td>\n",
       "    </tr>\n",
       "    <tr>\n",
       "      <th>11</th>\n",
       "      <td></td>\n",
       "      <td>Taking your first steps into higher education</td>\n",
       "      <td>b'&lt;?xml version=\"1.0\" encoding=\"UTF-8\"?&gt;\\n&lt;?sc...</td>\n",
       "      <td>0c0fb0a9800e8b37c269fd12cb8b600a44c1d189</td>\n",
       "    </tr>\n",
       "    <tr>\n",
       "      <th>12</th>\n",
       "      <td></td>\n",
       "      <td>Teaching mathematics</td>\n",
       "      <td>b'&lt;?xml version=\"1.0\" encoding=\"utf-8\"?&gt;\\n&lt;?sc...</td>\n",
       "      <td>7995427cc08b1874750af6c79cb45f7556addf4b</td>\n",
       "    </tr>\n",
       "    <tr>\n",
       "      <th>13</th>\n",
       "      <td>T271</td>\n",
       "      <td>Toys and engineering materials</td>\n",
       "      <td>b'&lt;?xml version=\"1.0\" encoding=\"utf-8\"?&gt;\\n&lt;?sc...</td>\n",
       "      <td>c86d9d40259a5889e62488029ce5454a8ddb6a00</td>\n",
       "    </tr>\n",
       "    <tr>\n",
       "      <th>14</th>\n",
       "      <td>S215</td>\n",
       "      <td>What chemical compounds might be present in dr...</td>\n",
       "      <td>b'&lt;?xml version=\"1.0\" encoding=\"utf-8\"?&gt;\\n&lt;?sc...</td>\n",
       "      <td>2adf47ad5e2f97c2983da6e3f08a0e7066e67e8a</td>\n",
       "    </tr>\n",
       "    <tr>\n",
       "      <th>15</th>\n",
       "      <td>S111</td>\n",
       "      <td>What is a metal?</td>\n",
       "      <td>b'&lt;?xml version=\"1.0\" encoding=\"utf-8\"?&gt;\\n&lt;?sc...</td>\n",
       "      <td>0961a26cafb1aa6132dfc455251d123bf390bf70</td>\n",
       "    </tr>\n",
       "    <tr>\n",
       "      <th>16</th>\n",
       "      <td>DB123</td>\n",
       "      <td>You and your money</td>\n",
       "      <td>b'&lt;?xml version=\"1.0\" encoding=\"utf-8\"?&gt;\\n&lt;?sc...</td>\n",
       "      <td>b2235d2d9c032379eb891b42b46c41ed96a495c0</td>\n",
       "    </tr>\n",
       "  </tbody>\n",
       "</table>\n",
       "</div>"
      ],
      "text/plain": [
       "     code                                               name  \\\n",
       "0    T212                     An introduction to electronics   \n",
       "1                                 An introduction to geology   \n",
       "2    S276  An introduction to minerals and rocks under th...   \n",
       "3    T193       Assessing risk in engineering, work and life   \n",
       "4   SK299                   Blood and the respiratory system   \n",
       "5                                      Discovering chemistry   \n",
       "6                     Mathematics for science and technology   \n",
       "7    s315                                 Metals in medicine   \n",
       "8   SM123                                   Particle physics   \n",
       "9    S112                           Scales in space and time   \n",
       "10                                Succeed with maths: part 2   \n",
       "11             Taking your first steps into higher education   \n",
       "12                                      Teaching mathematics   \n",
       "13   T271                     Toys and engineering materials   \n",
       "14   S215  What chemical compounds might be present in dr...   \n",
       "15   S111                                   What is a metal?   \n",
       "16  DB123                                 You and your money   \n",
       "\n",
       "                                                  xml  \\\n",
       "0   b'<?xml version=\"1.0\" encoding=\"utf-8\"?>\\n<?sc...   \n",
       "1   b'<?xml version=\"1.0\" encoding=\"utf-8\"?>\\n<?sc...   \n",
       "2   b'<?xml version=\"1.0\" encoding=\"utf-8\"?>\\n<?sc...   \n",
       "3   b'<?xml version=\"1.0\" encoding=\"utf-8\"?>\\n<?sc...   \n",
       "4   b'<?xml version=\"1.0\" encoding=\"UTF-8\"?>\\n<?dc...   \n",
       "5   b'<?xml version=\"1.0\" encoding=\"utf-8\"?>\\n<?sc...   \n",
       "6   b'<?xml version=\"1.0\" encoding=\"utf-8\"?>\\n<?sc...   \n",
       "7   b'<?xml version=\"1.0\" encoding=\"UTF-8\"?>\\n<Ite...   \n",
       "8   b'<?xml version=\"1.0\" encoding=\"utf-8\"?>\\n<?sc...   \n",
       "9   b'<?xml version=\"1.0\" encoding=\"UTF-8\"?>\\n<?sc...   \n",
       "10  b'<?xml version=\"1.0\" encoding=\"UTF-8\"?>\\n<!--...   \n",
       "11  b'<?xml version=\"1.0\" encoding=\"UTF-8\"?>\\n<?sc...   \n",
       "12  b'<?xml version=\"1.0\" encoding=\"utf-8\"?>\\n<?sc...   \n",
       "13  b'<?xml version=\"1.0\" encoding=\"utf-8\"?>\\n<?sc...   \n",
       "14  b'<?xml version=\"1.0\" encoding=\"utf-8\"?>\\n<?sc...   \n",
       "15  b'<?xml version=\"1.0\" encoding=\"utf-8\"?>\\n<?sc...   \n",
       "16  b'<?xml version=\"1.0\" encoding=\"utf-8\"?>\\n<?sc...   \n",
       "\n",
       "                                          id  \n",
       "0   e70841f12a908401ab9e6a69923bdb684928c888  \n",
       "1   4c8058285a4de53528f646ee2742dc8394fd4e38  \n",
       "2   6bff78840be5165329dda278418bbbd54c909047  \n",
       "3   11e5486d113eebd6c01126c9c65b91591c211b9b  \n",
       "4   904a100e4d41cf1a696b547eec1b2f625fc5bd78  \n",
       "5   884164a46f4066c6b26894c812484c74ab2e8531  \n",
       "6   84fea7b4cf86cdd4e31e3272572372972fb81fe2  \n",
       "7   c2c90459369d82e28e768dfd9072047eab95be4d  \n",
       "8   4095122554b7cc3cff824f31c3cf531087e63b2c  \n",
       "9   75a013ae7e703481e8f0e05bde38d6d71fa732b6  \n",
       "10  0ab4176f55d221bdc8bd68fbcd2e9c575d2a5e4e  \n",
       "11  0c0fb0a9800e8b37c269fd12cb8b600a44c1d189  \n",
       "12  7995427cc08b1874750af6c79cb45f7556addf4b  \n",
       "13  c86d9d40259a5889e62488029ce5454a8ddb6a00  \n",
       "14  2adf47ad5e2f97c2983da6e3f08a0e7066e67e8a  \n",
       "15  0961a26cafb1aa6132dfc455251d123bf390bf70  \n",
       "16  b2235d2d9c032379eb891b42b46c41ed96a495c0  "
      ]
     },
     "execution_count": 2,
     "metadata": {},
     "output_type": "execute_result"
    }
   ],
   "source": [
    "import pandas as pd\n",
    "\n",
    "pd.read_sql(\"SELECT * FROM xml WHERE xml LIKE '%<Equation>%'\",\n",
    "                           con=db.conn)"
   ]
  },
  {
   "cell_type": "code",
   "execution_count": 3,
   "id": "3a9902f1",
   "metadata": {},
   "outputs": [],
   "source": [
    "from lxml import etree\n",
    "import pandas as pd\n",
    "\n",
    "# Grab an OU-XML file that is known to contain equation items\n",
    "# Maybe also: Teaching mathematics\n",
    "equation_xml_raw = pd.read_sql(\"SELECT xml FROM xml WHERE name='Discovering chemistry'\",\n",
    "                           con=db.conn).loc[0, \"xml\"]\n",
    "\n",
    "# Parse the XML into an xml object\n",
    "root = etree.fromstring(equation_xml_raw)"
   ]
  },
  {
   "cell_type": "markdown",
   "id": "bad58a2e",
   "metadata": {},
   "source": [
    "## Extracting Equation Items\n",
    "\n",
    "We can trically extract equation items from a single OU-XML XML document object:"
   ]
  },
  {
   "cell_type": "code",
   "execution_count": 4,
   "id": "aa6eb52a",
   "metadata": {},
   "outputs": [],
   "source": [
    "from xml_utils import unpack\n",
    "\n",
    "def get_equation_items(root):\n",
    "    \"\"\"Extract equations from an OU-XML XML object.\"\"\"\n",
    "    return [unpack(eq) for eq in root.xpath('//Equation')]"
   ]
  },
  {
   "cell_type": "markdown",
   "id": "d49299c2",
   "metadata": {},
   "source": [
    "What do we get?"
   ]
  },
  {
   "cell_type": "code",
   "execution_count": 5,
   "id": "da6fd63e",
   "metadata": {},
   "outputs": [
    {
     "data": {
      "text/plain": [
       "[b'<Equation xmlns:xsi=\"http://www.w3.org/2001/XMLSchema-instance\"><MathML><math xmlns=\"http://www.w3.org/1998/Math/MathML\"><mrow><mmultiscripts><mrow><mi>X</mi></mrow><mprescripts/><mrow><mi>Z</mi></mrow><mrow><mi>A</mi></mrow></mmultiscripts></mrow></math></MathML></Equation>',\n",
       " b'<Equation xmlns:xsi=\"http://www.w3.org/2001/XMLSchema-instance\"><Image>K<sup>+</sup>, Ca<sup>2+</sup>, Al<sup>3+</sup>, S<sup>2-</sup>, F<sup>-</sup> and Br<sup>-</sup></Image></Equation>',\n",
       " b'<Equation xmlns:xsi=\"http://www.w3.org/2001/XMLSchema-instance\"><MathML><math xmlns=\"http://www.w3.org/1998/Math/MathML\"><mstyle mathvariant=\"normal\"><mrow><mstyle mathvariant=\"normal\"><mrow><mi>C</mi><mi>u</mi><mo>(</mo><mi>s</mi><mo>)</mo><mo>+</mo><msub><mrow><mn>4</mn><mi>H</mi><mi>N</mi><mi>O</mi></mrow><mrow><mn>3</mn></mrow></msub><mo>(</mo><mi>a</mi><mi>q</mi><mo>)</mo></mrow></mstyle><mo>=</mo><msub><mrow><msub><mrow><mstyle mathvariant=\"normal\"><mrow><mi>C</mi><mi>u</mi></mrow></mstyle><mo>(</mo><mstyle mathvariant=\"normal\"><mrow><mi>N</mi><mi>O</mi></mrow></mstyle></mrow><mrow><mn>3</mn></mrow></msub><mo>)</mo></mrow><mrow><mn>2</mn></mrow></msub><mstyle mathvariant=\"normal\"><mrow><mo>(</mo><mi>a</mi><mi>q</mi><mo>)</mo></mrow></mstyle><mo>+</mo><msub><mrow><mstyle mathvariant=\"normal\"><mrow><mn>2</mn><mi>N</mi><mi>O</mi></mrow></mstyle></mrow><mrow><mn>2</mn></mrow></msub><mstyle mathvariant=\"normal\"><mrow><mo>(</mo><mi>g</mi><mo>)</mo></mrow></mstyle><mo>+</mo><msub><mrow><mn>2</mn><mi>H</mi></mrow><mrow><mn>2</mn></mrow></msub><mi>O</mi><mo>(</mo><mi>l</mi><mo>)</mo></mrow></mstyle></math></MathML><Label>(5.1)</Label></Equation>']"
      ]
     },
     "execution_count": 5,
     "metadata": {},
     "output_type": "execute_result"
    }
   ],
   "source": [
    "get_equation_items(root)[:3]"
   ]
  },
  {
   "cell_type": "markdown",
   "id": "0fcc95f5",
   "metadata": {},
   "source": [
    "The equation is represented using MathML.\n",
    "\n",
    "Let's just get the `<math>` part from one of the equations:"
   ]
  },
  {
   "cell_type": "code",
   "execution_count": 6,
   "id": "30b11b4d",
   "metadata": {},
   "outputs": [
    {
     "data": {
      "text/plain": [
       "'<math xmlns=\"http://www.w3.org/1998/Math/MathML\"><mstyle mathvariant=\"normal\"><mrow><mstyle mathvariant=\"normal\"><mrow><mi>C</mi><mi>u</mi><mo>(</mo><mi>s</mi><mo>)</mo><mo>+</mo><msub><mrow><mn>4</mn><mi>H</mi><mi>N</mi><mi>O</mi></mrow><mrow><mn>3</mn></mrow></msub><mo>(</mo><mi>a</mi><mi>q</mi><mo>)</mo></mrow></mstyle><mo>=</mo><msub><mrow><msub><mrow><mstyle mathvariant=\"normal\"><mrow><mi>C</mi><mi>u</mi></mrow></mstyle><mo>(</mo><mstyle mathvariant=\"normal\"><mrow><mi>N</mi><mi>O</mi></mrow></mstyle></mrow><mrow><mn>3</mn></mrow></msub><mo>)</mo></mrow><mrow><mn>2</mn></mrow></msub><mstyle mathvariant=\"normal\"><mrow><mo>(</mo><mi>a</mi><mi>q</mi><mo>)</mo></mrow></mstyle><mo>+</mo><msub><mrow><mstyle mathvariant=\"normal\"><mrow><mn>2</mn><mi>N</mi><mi>O</mi></mrow></mstyle></mrow><mrow><mn>2</mn></mrow></msub><mstyle mathvariant=\"normal\"><mrow><mo>(</mo><mi>g</mi><mo>)</mo></mrow></mstyle><mo>+</mo><msub><mrow><mn>2</mn><mi>H</mi></mrow><mrow><mn>2</mn></mrow></msub><mi>O</mi><mo>(</mo><mi>l</mi><mo>)</mo></mrow></mstyle></math>'"
      ]
     },
     "execution_count": 6,
     "metadata": {},
     "output_type": "execute_result"
    }
   ],
   "source": [
    "import re\n",
    "\n",
    "# Get an example equation element \n",
    "eq = get_equation_items(root)[2].decode()\n",
    "\n",
    "# Extract the <math>...</math> component\n",
    "eq = re.findall(r'.*<MathML>(.*)</MathML>.*', eq)[0]\n",
    "\n",
    "eq"
   ]
  },
  {
   "cell_type": "markdown",
   "id": "785e7844",
   "metadata": {},
   "source": [
    "In Firefox at least, we can render the `<math>` *MathML* markup text directly:"
   ]
  },
  {
   "cell_type": "code",
   "execution_count": 7,
   "id": "7e5b0ef8",
   "metadata": {},
   "outputs": [
    {
     "data": {
      "text/html": [
       "<math xmlns=\"http://www.w3.org/1998/Math/MathML\"><mstyle mathvariant=\"normal\"><mrow><mstyle mathvariant=\"normal\"><mrow><mi>C</mi><mi>u</mi><mo>(</mo><mi>s</mi><mo>)</mo><mo>+</mo><msub><mrow><mn>4</mn><mi>H</mi><mi>N</mi><mi>O</mi></mrow><mrow><mn>3</mn></mrow></msub><mo>(</mo><mi>a</mi><mi>q</mi><mo>)</mo></mrow></mstyle><mo>=</mo><msub><mrow><msub><mrow><mstyle mathvariant=\"normal\"><mrow><mi>C</mi><mi>u</mi></mrow></mstyle><mo>(</mo><mstyle mathvariant=\"normal\"><mrow><mi>N</mi><mi>O</mi></mrow></mstyle></mrow><mrow><mn>3</mn></mrow></msub><mo>)</mo></mrow><mrow><mn>2</mn></mrow></msub><mstyle mathvariant=\"normal\"><mrow><mo>(</mo><mi>a</mi><mi>q</mi><mo>)</mo></mrow></mstyle><mo>+</mo><msub><mrow><mstyle mathvariant=\"normal\"><mrow><mn>2</mn><mi>N</mi><mi>O</mi></mrow></mstyle></mrow><mrow><mn>2</mn></mrow></msub><mstyle mathvariant=\"normal\"><mrow><mo>(</mo><mi>g</mi><mo>)</mo></mrow></mstyle><mo>+</mo><msub><mrow><mn>2</mn><mi>H</mi></mrow><mrow><mn>2</mn></mrow></msub><mi>O</mi><mo>(</mo><mi>l</mi><mo>)</mo></mrow></mstyle></math>"
      ],
      "text/plain": [
       "<IPython.core.display.HTML object>"
      ]
     },
     "execution_count": 7,
     "metadata": {},
     "output_type": "execute_result"
    }
   ],
   "source": [
    "from IPython.display import HTML\n",
    "\n",
    "# This works in firefox at least\n",
    "HTML(eq)"
   ]
  },
  {
   "cell_type": "markdown",
   "id": "0ffcddbc",
   "metadata": {},
   "source": [
    "To explore:\n",
    "\n",
    "- https://github.com/bowang/mathml2latex ?\n",
    "- https://www.geeksforgeeks.org/html5-mathml-display-attribute/ ?\n",
    "- other MathML parsers?"
   ]
  }
 ],
 "metadata": {
  "kernelspec": {
   "display_name": "Python 3 (ipykernel)",
   "language": "python",
   "name": "python3"
  },
  "language_info": {
   "codemirror_mode": {
    "name": "ipython",
    "version": 3
   },
   "file_extension": ".py",
   "mimetype": "text/x-python",
   "name": "python",
   "nbconvert_exporter": "python",
   "pygments_lexer": "ipython3",
   "version": "3.9.12"
  }
 },
 "nbformat": 4,
 "nbformat_minor": 5
}
