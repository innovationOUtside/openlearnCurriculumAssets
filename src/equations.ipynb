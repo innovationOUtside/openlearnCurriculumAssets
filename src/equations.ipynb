{
 "cells": [
  {
   "cell_type": "markdown",
   "id": "527884fa",
   "metadata": {},
   "source": [
    "# Working With Equations\n",
    "\n",
    "One of the asset types that is represented within OU-XML is an `<Equation>` type. This element can be used to represent mathematical and chemical equations. Internal OU readers can refer to the corresponding OU-XML docs [here](https://learn3.open.ac.uk/mod/oucontent/view.php?id=185747&section=8.4.11).\n",
    "\n",
    "The `Equation` element tag accepts the following child tags: `<Alternative>`, `<Caption>`, `<Description>`, `<Image>`, `<Label>`, `<MathML>`, `<SourceReference>`, and `<TeX>`. There is also an `<InlineEquation>` tag that accepts `<Image>`, `<Alternative>`, `<MathML>` and `<TeX>` tags. The `<Image>`, `<MathML>` and `<TeX>` tags define the \"expression\" of the equation.\n",
    "\n",
    "Equation items may be described using either a MathML expression or an Image. The MathML elements are rendered in the VLE using Mathjax and via LaTex for PDF print publications. Browsers such as Firefox are also capable of rendering MathML directly.\n",
    "\n",
    "One of the problems with MathML as a structure is that it is not the sort of thing you would write by hand, and as such, it may be difficult to discover via simple search. (A simpler way of writing equations is to use LaTeX, for example.)\n",
    "\n",
    "One way of supporting discover might be to index the text in the subsection that an equation is contained in. We can find a local context from the the path to each equation element, so for now, let's just grab the path; we can  then think about how we can generate a search context around that path in another section.\n",
    "\n",
    "*Foer now, only handle equations that are described using MathML; ignore eqautions that are rendered as images.*"
   ]
  },
  {
   "cell_type": "markdown",
   "id": "9af4404d",
   "metadata": {},
   "source": [
    "## Preparing the Ground\n",
    "\n",
    "As ever, we need to set up a database connection:"
   ]
  },
  {
   "cell_type": "code",
   "execution_count": 1,
   "id": "bf3861b8",
   "metadata": {},
   "outputs": [],
   "source": [
    "from sqlite_utils import Database\n",
    "\n",
    "# Open database connection\n",
    "xml_dbname = \"all_openlean_xml.db\"\n",
    "xml_db = Database(xml_dbname)\n",
    "\n",
    "eqns_dbname = \"openlean_assets.db\"\n",
    "db = Database(eqns_dbname)"
   ]
  },
  {
   "cell_type": "markdown",
   "id": "83f44c51",
   "metadata": {},
   "source": [
    "And get a sample XML file, selecting one that we know contains structurally marked up equation items:"
   ]
  },
  {
   "cell_type": "code",
   "execution_count": 2,
   "id": "f4285784",
   "metadata": {},
   "outputs": [
    {
     "data": {
      "text/html": [
       "<div>\n",
       "<style scoped>\n",
       "    .dataframe tbody tr th:only-of-type {\n",
       "        vertical-align: middle;\n",
       "    }\n",
       "\n",
       "    .dataframe tbody tr th {\n",
       "        vertical-align: top;\n",
       "    }\n",
       "\n",
       "    .dataframe thead th {\n",
       "        text-align: right;\n",
       "    }\n",
       "</style>\n",
       "<table border=\"1\" class=\"dataframe\">\n",
       "  <thead>\n",
       "    <tr style=\"text-align: right;\">\n",
       "      <th></th>\n",
       "      <th>code</th>\n",
       "      <th>name</th>\n",
       "      <th>xml</th>\n",
       "      <th>id</th>\n",
       "    </tr>\n",
       "  </thead>\n",
       "  <tbody>\n",
       "    <tr>\n",
       "      <th>0</th>\n",
       "      <td>T212</td>\n",
       "      <td>An introduction to electronics</td>\n",
       "      <td>b'&lt;?xml version=\"1.0\" encoding=\"utf-8\"?&gt;\\n&lt;?sc...</td>\n",
       "      <td>e70841f12a908401ab9e6a69923bdb684928c888</td>\n",
       "    </tr>\n",
       "    <tr>\n",
       "      <th>1</th>\n",
       "      <td></td>\n",
       "      <td>An introduction to geology</td>\n",
       "      <td>b'&lt;?xml version=\"1.0\" encoding=\"utf-8\"?&gt;\\n&lt;?sc...</td>\n",
       "      <td>4c8058285a4de53528f646ee2742dc8394fd4e38</td>\n",
       "    </tr>\n",
       "    <tr>\n",
       "      <th>2</th>\n",
       "      <td>S276</td>\n",
       "      <td>An introduction to minerals and rocks under th...</td>\n",
       "      <td>b'&lt;?xml version=\"1.0\" encoding=\"utf-8\"?&gt;\\n&lt;?sc...</td>\n",
       "      <td>6bff78840be5165329dda278418bbbd54c909047</td>\n",
       "    </tr>\n",
       "    <tr>\n",
       "      <th>3</th>\n",
       "      <td>T193</td>\n",
       "      <td>Assessing risk in engineering, work and life</td>\n",
       "      <td>b'&lt;?xml version=\"1.0\" encoding=\"utf-8\"?&gt;\\n&lt;?sc...</td>\n",
       "      <td>11e5486d113eebd6c01126c9c65b91591c211b9b</td>\n",
       "    </tr>\n",
       "    <tr>\n",
       "      <th>4</th>\n",
       "      <td>SK299</td>\n",
       "      <td>Blood and the respiratory system</td>\n",
       "      <td>b'&lt;?xml version=\"1.0\" encoding=\"UTF-8\"?&gt;\\n&lt;?dc...</td>\n",
       "      <td>904a100e4d41cf1a696b547eec1b2f625fc5bd78</td>\n",
       "    </tr>\n",
       "    <tr>\n",
       "      <th>5</th>\n",
       "      <td></td>\n",
       "      <td>Discovering chemistry</td>\n",
       "      <td>b'&lt;?xml version=\"1.0\" encoding=\"utf-8\"?&gt;\\n&lt;?sc...</td>\n",
       "      <td>884164a46f4066c6b26894c812484c74ab2e8531</td>\n",
       "    </tr>\n",
       "    <tr>\n",
       "      <th>6</th>\n",
       "      <td></td>\n",
       "      <td>Mathematics for science and technology</td>\n",
       "      <td>b'&lt;?xml version=\"1.0\" encoding=\"utf-8\"?&gt;\\n&lt;?sc...</td>\n",
       "      <td>84fea7b4cf86cdd4e31e3272572372972fb81fe2</td>\n",
       "    </tr>\n",
       "    <tr>\n",
       "      <th>7</th>\n",
       "      <td>s315</td>\n",
       "      <td>Metals in medicine</td>\n",
       "      <td>b'&lt;?xml version=\"1.0\" encoding=\"UTF-8\"?&gt;\\n&lt;Ite...</td>\n",
       "      <td>c2c90459369d82e28e768dfd9072047eab95be4d</td>\n",
       "    </tr>\n",
       "    <tr>\n",
       "      <th>8</th>\n",
       "      <td>SM123</td>\n",
       "      <td>Particle physics</td>\n",
       "      <td>b'&lt;?xml version=\"1.0\" encoding=\"utf-8\"?&gt;\\n&lt;?sc...</td>\n",
       "      <td>4095122554b7cc3cff824f31c3cf531087e63b2c</td>\n",
       "    </tr>\n",
       "    <tr>\n",
       "      <th>9</th>\n",
       "      <td>S112</td>\n",
       "      <td>Scales in space and time</td>\n",
       "      <td>b'&lt;?xml version=\"1.0\" encoding=\"UTF-8\"?&gt;\\n&lt;?sc...</td>\n",
       "      <td>75a013ae7e703481e8f0e05bde38d6d71fa732b6</td>\n",
       "    </tr>\n",
       "    <tr>\n",
       "      <th>10</th>\n",
       "      <td></td>\n",
       "      <td>Succeed with maths: part 2</td>\n",
       "      <td>b'&lt;?xml version=\"1.0\" encoding=\"UTF-8\"?&gt;\\n&lt;!--...</td>\n",
       "      <td>0ab4176f55d221bdc8bd68fbcd2e9c575d2a5e4e</td>\n",
       "    </tr>\n",
       "    <tr>\n",
       "      <th>11</th>\n",
       "      <td></td>\n",
       "      <td>Taking your first steps into higher education</td>\n",
       "      <td>b'&lt;?xml version=\"1.0\" encoding=\"UTF-8\"?&gt;\\n&lt;?sc...</td>\n",
       "      <td>0c0fb0a9800e8b37c269fd12cb8b600a44c1d189</td>\n",
       "    </tr>\n",
       "    <tr>\n",
       "      <th>12</th>\n",
       "      <td></td>\n",
       "      <td>Teaching mathematics</td>\n",
       "      <td>b'&lt;?xml version=\"1.0\" encoding=\"utf-8\"?&gt;\\n&lt;?sc...</td>\n",
       "      <td>7995427cc08b1874750af6c79cb45f7556addf4b</td>\n",
       "    </tr>\n",
       "    <tr>\n",
       "      <th>13</th>\n",
       "      <td>T271</td>\n",
       "      <td>Toys and engineering materials</td>\n",
       "      <td>b'&lt;?xml version=\"1.0\" encoding=\"utf-8\"?&gt;\\n&lt;?sc...</td>\n",
       "      <td>c86d9d40259a5889e62488029ce5454a8ddb6a00</td>\n",
       "    </tr>\n",
       "    <tr>\n",
       "      <th>14</th>\n",
       "      <td>S215</td>\n",
       "      <td>What chemical compounds might be present in dr...</td>\n",
       "      <td>b'&lt;?xml version=\"1.0\" encoding=\"utf-8\"?&gt;\\n&lt;?sc...</td>\n",
       "      <td>2adf47ad5e2f97c2983da6e3f08a0e7066e67e8a</td>\n",
       "    </tr>\n",
       "    <tr>\n",
       "      <th>15</th>\n",
       "      <td>S111</td>\n",
       "      <td>What is a metal?</td>\n",
       "      <td>b'&lt;?xml version=\"1.0\" encoding=\"utf-8\"?&gt;\\n&lt;?sc...</td>\n",
       "      <td>0961a26cafb1aa6132dfc455251d123bf390bf70</td>\n",
       "    </tr>\n",
       "    <tr>\n",
       "      <th>16</th>\n",
       "      <td>DB123</td>\n",
       "      <td>You and your money</td>\n",
       "      <td>b'&lt;?xml version=\"1.0\" encoding=\"utf-8\"?&gt;\\n&lt;?sc...</td>\n",
       "      <td>b2235d2d9c032379eb891b42b46c41ed96a495c0</td>\n",
       "    </tr>\n",
       "  </tbody>\n",
       "</table>\n",
       "</div>"
      ],
      "text/plain": [
       "     code                                               name  \\\n",
       "0    T212                     An introduction to electronics   \n",
       "1                                 An introduction to geology   \n",
       "2    S276  An introduction to minerals and rocks under th...   \n",
       "3    T193       Assessing risk in engineering, work and life   \n",
       "4   SK299                   Blood and the respiratory system   \n",
       "5                                      Discovering chemistry   \n",
       "6                     Mathematics for science and technology   \n",
       "7    s315                                 Metals in medicine   \n",
       "8   SM123                                   Particle physics   \n",
       "9    S112                           Scales in space and time   \n",
       "10                                Succeed with maths: part 2   \n",
       "11             Taking your first steps into higher education   \n",
       "12                                      Teaching mathematics   \n",
       "13   T271                     Toys and engineering materials   \n",
       "14   S215  What chemical compounds might be present in dr...   \n",
       "15   S111                                   What is a metal?   \n",
       "16  DB123                                 You and your money   \n",
       "\n",
       "                                                  xml  \\\n",
       "0   b'<?xml version=\"1.0\" encoding=\"utf-8\"?>\\n<?sc...   \n",
       "1   b'<?xml version=\"1.0\" encoding=\"utf-8\"?>\\n<?sc...   \n",
       "2   b'<?xml version=\"1.0\" encoding=\"utf-8\"?>\\n<?sc...   \n",
       "3   b'<?xml version=\"1.0\" encoding=\"utf-8\"?>\\n<?sc...   \n",
       "4   b'<?xml version=\"1.0\" encoding=\"UTF-8\"?>\\n<?dc...   \n",
       "5   b'<?xml version=\"1.0\" encoding=\"utf-8\"?>\\n<?sc...   \n",
       "6   b'<?xml version=\"1.0\" encoding=\"utf-8\"?>\\n<?sc...   \n",
       "7   b'<?xml version=\"1.0\" encoding=\"UTF-8\"?>\\n<Ite...   \n",
       "8   b'<?xml version=\"1.0\" encoding=\"utf-8\"?>\\n<?sc...   \n",
       "9   b'<?xml version=\"1.0\" encoding=\"UTF-8\"?>\\n<?sc...   \n",
       "10  b'<?xml version=\"1.0\" encoding=\"UTF-8\"?>\\n<!--...   \n",
       "11  b'<?xml version=\"1.0\" encoding=\"UTF-8\"?>\\n<?sc...   \n",
       "12  b'<?xml version=\"1.0\" encoding=\"utf-8\"?>\\n<?sc...   \n",
       "13  b'<?xml version=\"1.0\" encoding=\"utf-8\"?>\\n<?sc...   \n",
       "14  b'<?xml version=\"1.0\" encoding=\"utf-8\"?>\\n<?sc...   \n",
       "15  b'<?xml version=\"1.0\" encoding=\"utf-8\"?>\\n<?sc...   \n",
       "16  b'<?xml version=\"1.0\" encoding=\"utf-8\"?>\\n<?sc...   \n",
       "\n",
       "                                          id  \n",
       "0   e70841f12a908401ab9e6a69923bdb684928c888  \n",
       "1   4c8058285a4de53528f646ee2742dc8394fd4e38  \n",
       "2   6bff78840be5165329dda278418bbbd54c909047  \n",
       "3   11e5486d113eebd6c01126c9c65b91591c211b9b  \n",
       "4   904a100e4d41cf1a696b547eec1b2f625fc5bd78  \n",
       "5   884164a46f4066c6b26894c812484c74ab2e8531  \n",
       "6   84fea7b4cf86cdd4e31e3272572372972fb81fe2  \n",
       "7   c2c90459369d82e28e768dfd9072047eab95be4d  \n",
       "8   4095122554b7cc3cff824f31c3cf531087e63b2c  \n",
       "9   75a013ae7e703481e8f0e05bde38d6d71fa732b6  \n",
       "10  0ab4176f55d221bdc8bd68fbcd2e9c575d2a5e4e  \n",
       "11  0c0fb0a9800e8b37c269fd12cb8b600a44c1d189  \n",
       "12  7995427cc08b1874750af6c79cb45f7556addf4b  \n",
       "13  c86d9d40259a5889e62488029ce5454a8ddb6a00  \n",
       "14  2adf47ad5e2f97c2983da6e3f08a0e7066e67e8a  \n",
       "15  0961a26cafb1aa6132dfc455251d123bf390bf70  \n",
       "16  b2235d2d9c032379eb891b42b46c41ed96a495c0  "
      ]
     },
     "execution_count": 2,
     "metadata": {},
     "output_type": "execute_result"
    }
   ],
   "source": [
    "import pandas as pd\n",
    "\n",
    "pd.read_sql(\"SELECT * FROM xml WHERE xml LIKE '%<Equation>%'\",\n",
    "                           con=xml_db.conn)"
   ]
  },
  {
   "cell_type": "code",
   "execution_count": 3,
   "id": "3a9902f1",
   "metadata": {},
   "outputs": [],
   "source": [
    "from lxml import etree\n",
    "import pandas as pd\n",
    "\n",
    "# Grab an OU-XML file that is known to contain equation items\n",
    "# Maybe also: Teaching mathematics\n",
    "equation_xml_raw = pd.read_sql(\"SELECT xml FROM xml WHERE name='Discovering chemistry'\",\n",
    "                           con=xml_db.conn).loc[0, \"xml\"]\n",
    "\n",
    "# Parse the XML into an xml object\n",
    "root = etree.fromstring(equation_xml_raw)"
   ]
  },
  {
   "cell_type": "markdown",
   "id": "3c9c7c1e",
   "metadata": {},
   "source": [
    "## Grabbing the Path\n",
    "\n",
    "By walking up the path that leads to an equation element, we can identify its context within an OU-XML document, and from that we should be able to generate a \"local search context\" we can index and search within in order to support discovery of an equation from terms included in its surrounding text, for example."
   ]
  },
  {
   "cell_type": "code",
   "execution_count": 4,
   "id": "277786e5",
   "metadata": {},
   "outputs": [
    {
     "data": {
      "text/plain": [
       "'/Item/Unit[2]/Session[1]/Section[2]/Equation'"
      ]
     },
     "metadata": {},
     "output_type": "display_data"
    },
    {
     "data": {
      "text/plain": [
       "'/Item/Unit[3]/Session[3]/Section[3]/ITQ[1]/Answer/Equation'"
      ]
     },
     "metadata": {},
     "output_type": "display_data"
    },
    {
     "data": {
      "text/plain": [
       "'/Item/Unit[6]/Session[1]/Section/Equation'"
      ]
     },
     "metadata": {},
     "output_type": "display_data"
    },
    {
     "data": {
      "text/plain": [
       "'/Item/Unit[6]/Session[2]/Equation[1]'"
      ]
     },
     "metadata": {},
     "output_type": "display_data"
    },
    {
     "data": {
      "text/plain": [
       "'/Item/Unit[6]/Session[2]/Equation[2]'"
      ]
     },
     "metadata": {},
     "output_type": "display_data"
    },
    {
     "data": {
      "text/plain": [
       "'/Item/Unit[6]/Session[2]/Section[1]/Equation[1]'"
      ]
     },
     "metadata": {},
     "output_type": "display_data"
    },
    {
     "data": {
      "text/plain": [
       "'/Item/Unit[6]/Session[2]/Section[1]/Equation[2]'"
      ]
     },
     "metadata": {},
     "output_type": "display_data"
    },
    {
     "data": {
      "text/plain": [
       "'/Item/Unit[6]/Session[2]/Section[1]/Equation[3]'"
      ]
     },
     "metadata": {},
     "output_type": "display_data"
    },
    {
     "data": {
      "text/plain": [
       "'/Item/Unit[6]/Session[2]/Section[1]/Equation[4]'"
      ]
     },
     "metadata": {},
     "output_type": "display_data"
    },
    {
     "data": {
      "text/plain": [
       "'/Item/Unit[6]/Session[2]/Section[2]/ITQ[1]/Answer/Equation'"
      ]
     },
     "metadata": {},
     "output_type": "display_data"
    },
    {
     "data": {
      "text/plain": [
       "'/Item/Unit[6]/Session[2]/Section[2]/ITQ[2]/Question/Equation'"
      ]
     },
     "metadata": {},
     "output_type": "display_data"
    },
    {
     "data": {
      "text/plain": [
       "'/Item/Unit[6]/Session[5]/Section/Equation'"
      ]
     },
     "metadata": {},
     "output_type": "display_data"
    },
    {
     "data": {
      "text/plain": [
       "'/Item/Unit[6]/Session[6]/Equation'"
      ]
     },
     "metadata": {},
     "output_type": "display_data"
    },
    {
     "data": {
      "text/plain": [
       "'/Item/Unit[9]/Session[2]/Equation'"
      ]
     },
     "metadata": {},
     "output_type": "display_data"
    },
    {
     "data": {
      "text/plain": [
       "'/Item/Unit[9]/Session[2]/Section[2]/Equation'"
      ]
     },
     "metadata": {},
     "output_type": "display_data"
    },
    {
     "data": {
      "text/plain": [
       "'/Item/Unit[9]/Session[3]/ITQ[2]/Question/Equation'"
      ]
     },
     "metadata": {},
     "output_type": "display_data"
    },
    {
     "data": {
      "text/plain": [
       "'/Item/Unit[9]/Session[3]/ITQ[2]/Answer/Equation[1]'"
      ]
     },
     "metadata": {},
     "output_type": "display_data"
    },
    {
     "data": {
      "text/plain": [
       "'/Item/Unit[9]/Session[3]/ITQ[2]/Answer/Equation[2]'"
      ]
     },
     "metadata": {},
     "output_type": "display_data"
    }
   ],
   "source": [
    "# We need to grab a model of the document tree\n",
    "tree = etree.ElementTree(root)\n",
    "\n",
    "# And then grab the paths\n",
    "for e in root.xpath('//Equation'):\n",
    "    display(tree.getpath(e))"
   ]
  },
  {
   "cell_type": "markdown",
   "id": "d431df0d",
   "metadata": {},
   "source": [
    "Looking at the paths, we might then identify a context as a particular block level elemet further up the tree. For example, we might say the context is the first element reached as we walk back up the tree from the set `Section`, `SubSection`, or `Session`. For an even more tightly defined search context, we might add an activity element types to that list (`Activity`, `ITQ`, `SAQ`, or `Exercise`)."
   ]
  },
  {
   "cell_type": "code",
   "execution_count": 5,
   "id": "294ca9b7",
   "metadata": {},
   "outputs": [],
   "source": [
    "import re\n",
    "\n",
    "def navigational_context(path, elements=None):\n",
    "    \"\"\"Find meaninglful exact local context path.\"\"\"\n",
    "    elements = [\"Section\", \"SubSection\", \"Session\",\n",
    "                \"Activity\", \"ITQ\", \"SAQ\", \"Exercise\"\n",
    "               ] if elements is None else elements\n",
    "    # Iterate the path elements in reverse order\n",
    "    path_elements = path.split(\"/\")\n",
    "    path_len = len(path_elements)\n",
    "    for i, subpath in enumerate(path_elements[::-1]):\n",
    "        # Clean the numeric index from the path element\n",
    "        if re.sub(r'\\[\\d+\\]', '', subpath) in elements:\n",
    "            return \"/\".join(path_elements[:path_len-i])\n",
    "    return path"
   ]
  },
  {
   "cell_type": "markdown",
   "id": "ec7daf90",
   "metadata": {},
   "source": [
    "We can the find the exact navigational path to a the first local context element we meet at a desired lvel of granularity.\n",
    "\n",
    "For example:"
   ]
  },
  {
   "cell_type": "code",
   "execution_count": 6,
   "id": "9383d120",
   "metadata": {},
   "outputs": [
    {
     "data": {
      "text/plain": [
       "'/Item/Unit[9]/Session[3]/ITQ[2]'"
      ]
     },
     "execution_count": 6,
     "metadata": {},
     "output_type": "execute_result"
    }
   ],
   "source": [
    "example_path = '/Item/Unit[9]/Session[3]/ITQ[2]/Question/Equation'\n",
    "\n",
    "example_context = navigational_context(example_path)\n",
    "example_context"
   ]
  },
  {
   "cell_type": "markdown",
   "id": "cb202d5e",
   "metadata": {},
   "source": [
    "We could then index the text of that context block to support discovery of the equation:"
   ]
  },
  {
   "cell_type": "code",
   "execution_count": 7,
   "id": "d6d692c5",
   "metadata": {},
   "outputs": [
    {
     "data": {
      "text/plain": [
       "('The combination of sulfur dioxide with oxygen, and the decomposition of steam into hydrogen and oxygen are both reactions of great potential value. These reactions and their equilibrium constants at 427oC (700K) are as follows.2SO2(g)+O2(g)=2SO3\\u2062 (g)K=106\\u2062 mol−1\\u2062\\u2062 litre 2H2O(g)=2H2(g)+O2(g)K=10−33\\u2062 mol\\u2062 \\u2062 litre−1Write expressions for the equilibrium constants of the two reactions.When the two reactions are attempted at 700K, neither seems to occur. Which of the two might be ‘persuaded’ to proceed at this temperature, and what form might your persuasion take?The equilibrium constant of the first reaction, K1, is given by K1=[SO3(g)]2[SO2(g)]2[O2(g)]That of the second,K2=[H2(g)]2[O2(g)][H2O(g)]2The data show that K2 is tiny: at equilibrium, the concentrations of the hydrogen and oxygen in the numerator (the top line of the fraction) are minute in comparison with the concentration of steam in the denominator (the bottom line of the fraction). So in a closed system at 700 K, significant amounts of hydrogen and oxygen will never be formed from steam. By contrast, K1 is large, so the equilibrium position at 700 K lies well over to the right of the equation, and conversion of sulfur dioxide and oxygen to sulfur trioxide is favourable. The fact that the reaction does not occur must be due to a slow rate of reaction. We may therefore be able to obtain sulfur trioxide in this way if we can find a suitable catalyst to speed up the reaction. A suitable catalyst is vanadium pentoxide, V2O5, and at 700 K, this reaction is the key step in the manufacture of sulfuric acid from sulfur, oxygen and water.',\n",
       " '2SO2(g)+O2(g)=2SO3\\u2062 (g)K=106\\u2062 mol−1\\u2062\\u2062 litre 2H2O(g)=2H2(g)+O2(g)K=10−33\\u2062 mol\\u2062 \\u2062 litre−1')"
      ]
     },
     "execution_count": 7,
     "metadata": {},
     "output_type": "execute_result"
    }
   ],
   "source": [
    "from xml_utils import flatten, unpack\n",
    "\n",
    "# Example text for indexing to support equation discovery\n",
    "# We are rendering the flattened equation here, so it may not make much sense!\n",
    "flatten( root.xpath(example_context)[0] ), \\\n",
    "    flatten(root.xpath(example_context)[0].find(\"*//Equation\"))"
   ]
  },
  {
   "cell_type": "markdown",
   "id": "bad58a2e",
   "metadata": {},
   "source": [
    "## Extracting Equation Items\n",
    "\n",
    "We can trivially extract equation items from a single OU-XML XML document object:"
   ]
  },
  {
   "cell_type": "code",
   "execution_count": 8,
   "id": "aa6eb52a",
   "metadata": {},
   "outputs": [],
   "source": [
    "from xml_utils import unpack\n",
    "\n",
    "def get_equation_items(root, typ='//Equation'):\n",
    "    \"\"\"Extract equations from an OU-XML XML object.\"\"\"\n",
    "    tree = etree.ElementTree(root)\n",
    "    \n",
    "    # Return the mathml and the path\n",
    "    return [(tree.getpath(eq), unpack(eq)) for eq in root.xpath(typ)]"
   ]
  },
  {
   "cell_type": "markdown",
   "id": "d49299c2",
   "metadata": {},
   "source": [
    "What do we get?"
   ]
  },
  {
   "cell_type": "code",
   "execution_count": 9,
   "id": "da6fd63e",
   "metadata": {},
   "outputs": [
    {
     "data": {
      "text/plain": [
       "[('/Item/Unit[2]/Session[1]/Section[2]/Equation',\n",
       "  b'<Equation xmlns:xsi=\"http://www.w3.org/2001/XMLSchema-instance\"><MathML><math xmlns=\"http://www.w3.org/1998/Math/MathML\"><mrow><mmultiscripts><mrow><mi>X</mi></mrow><mprescripts/><mrow><mi>Z</mi></mrow><mrow><mi>A</mi></mrow></mmultiscripts></mrow></math></MathML></Equation>'),\n",
       " ('/Item/Unit[3]/Session[3]/Section[3]/ITQ[1]/Answer/Equation',\n",
       "  b'<Equation xmlns:xsi=\"http://www.w3.org/2001/XMLSchema-instance\"><Image>K<sup>+</sup>, Ca<sup>2+</sup>, Al<sup>3+</sup>, S<sup>2-</sup>, F<sup>-</sup> and Br<sup>-</sup></Image></Equation>'),\n",
       " ('/Item/Unit[6]/Session[1]/Section/Equation',\n",
       "  b'<Equation xmlns:xsi=\"http://www.w3.org/2001/XMLSchema-instance\"><MathML><math xmlns=\"http://www.w3.org/1998/Math/MathML\"><mstyle mathvariant=\"normal\"><mrow><mstyle mathvariant=\"normal\"><mrow><mi>C</mi><mi>u</mi><mo>(</mo><mi>s</mi><mo>)</mo><mo>+</mo><msub><mrow><mn>4</mn><mi>H</mi><mi>N</mi><mi>O</mi></mrow><mrow><mn>3</mn></mrow></msub><mo>(</mo><mi>a</mi><mi>q</mi><mo>)</mo></mrow></mstyle><mo>=</mo><msub><mrow><msub><mrow><mstyle mathvariant=\"normal\"><mrow><mi>C</mi><mi>u</mi></mrow></mstyle><mo>(</mo><mstyle mathvariant=\"normal\"><mrow><mi>N</mi><mi>O</mi></mrow></mstyle></mrow><mrow><mn>3</mn></mrow></msub><mo>)</mo></mrow><mrow><mn>2</mn></mrow></msub><mstyle mathvariant=\"normal\"><mrow><mo>(</mo><mi>a</mi><mi>q</mi><mo>)</mo></mrow></mstyle><mo>+</mo><msub><mrow><mstyle mathvariant=\"normal\"><mrow><mn>2</mn><mi>N</mi><mi>O</mi></mrow></mstyle></mrow><mrow><mn>2</mn></mrow></msub><mstyle mathvariant=\"normal\"><mrow><mo>(</mo><mi>g</mi><mo>)</mo></mrow></mstyle><mo>+</mo><msub><mrow><mn>2</mn><mi>H</mi></mrow><mrow><mn>2</mn></mrow></msub><mi>O</mi><mo>(</mo><mi>l</mi><mo>)</mo></mrow></mstyle></math></MathML><Label>(5.1)</Label></Equation>')]"
      ]
     },
     "execution_count": 9,
     "metadata": {},
     "output_type": "execute_result"
    }
   ],
   "source": [
    "get_equation_items(root)[:3]"
   ]
  },
  {
   "cell_type": "markdown",
   "id": "0fcc95f5",
   "metadata": {},
   "source": [
    "The equation is represented using MathML.\n",
    "\n",
    "Let's just get the `<math>` part from one of the equations:"
   ]
  },
  {
   "cell_type": "code",
   "execution_count": 10,
   "id": "30b11b4d",
   "metadata": {},
   "outputs": [],
   "source": [
    "import re\n",
    "\n",
    "def clean_equation(mathml):\n",
    "    \"\"\"Get cleaned equation mathml.\"\"\"\n",
    "    mathml = mathml.decode() if isinstance(mathml, bytes) else mathml \n",
    "    \n",
    "    #Replace \\n mutliline\n",
    "    mathml = mathml.replace(\"\\n\", \"\")\n",
    "    \n",
    "    # Extract the <math>...</math> component\n",
    "    eqs = re.findall(r'.*<MathML>(.*)</MathML>.*', mathml)\n",
    "    \n",
    "    # We might have an image rather than MathML...\n",
    "    eq = eqs[0] if eqs else None\n",
    "    return eq"
   ]
  },
  {
   "cell_type": "code",
   "execution_count": 11,
   "id": "a220b254",
   "metadata": {},
   "outputs": [
    {
     "data": {
      "text/plain": [
       "'<math xmlns=\"http://www.w3.org/1998/Math/MathML\"><mstyle mathvariant=\"normal\"><mrow><mstyle mathvariant=\"normal\"><mrow><mi>C</mi><mi>u</mi><mo>(</mo><mi>s</mi><mo>)</mo><mo>+</mo><msub><mrow><mn>4</mn><mi>H</mi><mi>N</mi><mi>O</mi></mrow><mrow><mn>3</mn></mrow></msub><mo>(</mo><mi>a</mi><mi>q</mi><mo>)</mo></mrow></mstyle><mo>=</mo><msub><mrow><msub><mrow><mstyle mathvariant=\"normal\"><mrow><mi>C</mi><mi>u</mi></mrow></mstyle><mo>(</mo><mstyle mathvariant=\"normal\"><mrow><mi>N</mi><mi>O</mi></mrow></mstyle></mrow><mrow><mn>3</mn></mrow></msub><mo>)</mo></mrow><mrow><mn>2</mn></mrow></msub><mstyle mathvariant=\"normal\"><mrow><mo>(</mo><mi>a</mi><mi>q</mi><mo>)</mo></mrow></mstyle><mo>+</mo><msub><mrow><mstyle mathvariant=\"normal\"><mrow><mn>2</mn><mi>N</mi><mi>O</mi></mrow></mstyle></mrow><mrow><mn>2</mn></mrow></msub><mstyle mathvariant=\"normal\"><mrow><mo>(</mo><mi>g</mi><mo>)</mo></mrow></mstyle><mo>+</mo><msub><mrow><mn>2</mn><mi>H</mi></mrow><mrow><mn>2</mn></mrow></msub><mi>O</mi><mo>(</mo><mi>l</mi><mo>)</mo></mrow></mstyle></math>'"
      ]
     },
     "execution_count": 11,
     "metadata": {},
     "output_type": "execute_result"
    }
   ],
   "source": [
    "# Get an example equation element\n",
    "# We want the Mathml (second item  / index [1] in the returned 2-tuple)\n",
    "eq = get_equation_items(root)[2][1].decode()\n",
    "\n",
    "eq = clean_equation(eq)\n",
    "eq"
   ]
  },
  {
   "cell_type": "markdown",
   "id": "785e7844",
   "metadata": {},
   "source": [
    "In Firefox at least, we can render the `<math>` *MathML* markup text directly:"
   ]
  },
  {
   "cell_type": "code",
   "execution_count": 12,
   "id": "7e5b0ef8",
   "metadata": {},
   "outputs": [
    {
     "data": {
      "text/html": [
       "<math xmlns=\"http://www.w3.org/1998/Math/MathML\"><mstyle mathvariant=\"normal\"><mrow><mstyle mathvariant=\"normal\"><mrow><mi>C</mi><mi>u</mi><mo>(</mo><mi>s</mi><mo>)</mo><mo>+</mo><msub><mrow><mn>4</mn><mi>H</mi><mi>N</mi><mi>O</mi></mrow><mrow><mn>3</mn></mrow></msub><mo>(</mo><mi>a</mi><mi>q</mi><mo>)</mo></mrow></mstyle><mo>=</mo><msub><mrow><msub><mrow><mstyle mathvariant=\"normal\"><mrow><mi>C</mi><mi>u</mi></mrow></mstyle><mo>(</mo><mstyle mathvariant=\"normal\"><mrow><mi>N</mi><mi>O</mi></mrow></mstyle></mrow><mrow><mn>3</mn></mrow></msub><mo>)</mo></mrow><mrow><mn>2</mn></mrow></msub><mstyle mathvariant=\"normal\"><mrow><mo>(</mo><mi>a</mi><mi>q</mi><mo>)</mo></mrow></mstyle><mo>+</mo><msub><mrow><mstyle mathvariant=\"normal\"><mrow><mn>2</mn><mi>N</mi><mi>O</mi></mrow></mstyle></mrow><mrow><mn>2</mn></mrow></msub><mstyle mathvariant=\"normal\"><mrow><mo>(</mo><mi>g</mi><mo>)</mo></mrow></mstyle><mo>+</mo><msub><mrow><mn>2</mn><mi>H</mi></mrow><mrow><mn>2</mn></mrow></msub><mi>O</mi><mo>(</mo><mi>l</mi><mo>)</mo></mrow></mstyle></math>"
      ],
      "text/plain": [
       "<IPython.core.display.HTML object>"
      ]
     },
     "execution_count": 12,
     "metadata": {},
     "output_type": "execute_result"
    }
   ],
   "source": [
    "from IPython.display import HTML\n",
    "\n",
    "# This works in firefox at least\n",
    "HTML(eq)"
   ]
  },
  {
   "cell_type": "markdown",
   "id": "0ffcddbc",
   "metadata": {},
   "source": [
    "To explore:\n",
    "\n",
    "- https://github.com/bowang/mathml2latex ?\n",
    "- https://www.geeksforgeeks.org/html5-mathml-display-attribute/ ?\n",
    "- other MathML parsers?"
   ]
  },
  {
   "cell_type": "markdown",
   "id": "dcac73bc",
   "metadata": {},
   "source": [
    "## Adding Equations to the Database\n",
    "\n",
    "We can create a simple database table to index the equations and either add a \"context text column\" to that table, or reference it in a separate table. For now, let's just munge it all together."
   ]
  },
  {
   "cell_type": "code",
   "execution_count": 13,
   "id": "4c7f79d9",
   "metadata": {},
   "outputs": [
    {
     "data": {
      "text/plain": [
       "<Table equations_context (search_context, search_context_path, _id)>"
      ]
     },
     "execution_count": 13,
     "metadata": {},
     "output_type": "execute_result"
    }
   ],
   "source": [
    "all_eqn_tbl = db[\"equations\"]\n",
    "all_eqn_tbl.drop(ignore=True)\n",
    "\n",
    "all_eqn_tbl.create({\n",
    "    #\"Alternative\": str,\n",
    "    #\"Description\": str,\n",
    "    #\"Label\": str,\n",
    "    #\"SourceReference\": str,\n",
    "    #\"Image\": str,\n",
    "    #\"MathML\":str,\n",
    "    #\"TeX\": str,\n",
    "    \"equation\": str, # This is the raw XML for the object\n",
    "    \"xpath\": str,\n",
    "    \"typ\": str,\n",
    "    \"search_context_path\": str,\n",
    "    \"_id\": str\n",
    "}, pk=(\"_id\", \"xpath\"))\n",
    "# Note that in this case the _id is not unique\n",
    "# because the same id may apply to multiple los\n",
    "# The _id is a reference for joining tables only\n",
    "\n",
    "all_eqn_context = db[\"equations_context\"]\n",
    "all_eqn_context.drop(ignore=True)\n",
    "all_eqn_context.create({\n",
    "    \"search_context\": str,\n",
    "    \"search_context_path\": str,\n",
    "    \"_id\": str\n",
    "}, pk=(\"_id\", \"search_context_path\"))\n",
    "\n",
    "# Enable full text search\n",
    "# This creates an extra virtual table (glossary_fts) to support the full text search\n",
    "db[f\"{all_eqn_context.name}_fts\"].drop(ignore=True)\n",
    "db[all_eqn_context.name].enable_fts([\"search_context\", \"search_context_path\", \"_id\"], create_triggers=True)"
   ]
  },
  {
   "cell_type": "markdown",
   "id": "ee28f999",
   "metadata": {},
   "source": [
    "We can now add our equations, and their context, to the database."
   ]
  },
  {
   "cell_type": "code",
   "execution_count": 14,
   "id": "c9fe1e9c",
   "metadata": {},
   "outputs": [],
   "source": [
    "from xml_utils import create_id\n",
    "\n",
    "for row in xml_db.query(\"\"\"SELECT * FROM xml;\"\"\"):\n",
    "    _root = etree.fromstring(row[\"xml\"])\n",
    "    \n",
    "    # Get the tree structure\n",
    "    tree = etree.ElementTree(_root)\n",
    "\n",
    "    eq_items = [ (\"Equation\", eq) for eq in get_equation_items(_root, \"//Equation\")]\n",
    "    eq_items.extend([ (\"InlineEquation\", eq) for eq in get_equation_items(_root, \"//InlineEquation\")])\n",
    "    \n",
    "    _id = create_id( (row[\"code\"], row[\"name\"]) )\n",
    "    \n",
    "    # From the list of equation items,\n",
    "    # create a list of dict items we can add to the database\n",
    "    eq_item_dicts = []\n",
    "    eq_context_dicts = []\n",
    "    _unique_contexts = []\n",
    "    for (typ, eq) in eq_items:\n",
    "        if eq[1]:\n",
    "            # We can unpack and extract items from the XML\n",
    "            eq_dict = {\"equation\": clean_equation(eq[1]),\n",
    "                        \"xpath\": eq[0],\n",
    "                        \"typ\": typ,\n",
    "                        \"search_context_path\":navigational_context(eq[0]),\n",
    "                        \"_id\": _id}\n",
    "            eq_item_dicts.append(eq_dict)\n",
    "            \n",
    "            search_context_path = navigational_context(eq[0])\n",
    "            if eq[1] and search_context_path not in _unique_contexts:\n",
    "                _unique_contexts.append(search_context_path)\n",
    "                search_context = unpack( _root.xpath(navigational_context(eq[0]))[0] ).decode()\n",
    "                eq_context_dicts.append({\"search_context_path\": search_context_path,\n",
    "                                         \"_id\": _id,\n",
    "                                         # It might be better to flatten than unpack\n",
    "                                          # For now, unpack lets us render the XML\n",
    "                                        \"search_context\": search_context})\n",
    "\n",
    "    # Add items to the database\n",
    "    db[all_eqn_tbl.name].insert_all(eq_item_dicts)\n",
    "    db[all_eqn_context.name].insert_all(eq_context_dicts)"
   ]
  },
  {
   "cell_type": "markdown",
   "id": "1e9c10bd",
   "metadata": {},
   "source": [
    "We can now search for equations by context:"
   ]
  },
  {
   "cell_type": "code",
   "execution_count": 15,
   "id": "d68c2afd",
   "metadata": {},
   "outputs": [
    {
     "data": {
      "text/html": [
       "<div>\n",
       "<style scoped>\n",
       "    .dataframe tbody tr th:only-of-type {\n",
       "        vertical-align: middle;\n",
       "    }\n",
       "\n",
       "    .dataframe tbody tr th {\n",
       "        vertical-align: top;\n",
       "    }\n",
       "\n",
       "    .dataframe thead th {\n",
       "        text-align: right;\n",
       "    }\n",
       "</style>\n",
       "<table border=\"1\" class=\"dataframe\">\n",
       "  <thead>\n",
       "    <tr style=\"text-align: right;\">\n",
       "      <th></th>\n",
       "      <th>search_context</th>\n",
       "      <th>search_context_path</th>\n",
       "      <th>_id</th>\n",
       "    </tr>\n",
       "  </thead>\n",
       "  <tbody>\n",
       "    <tr>\n",
       "      <th>0</th>\n",
       "      <td>&lt;ITQ xmlns:xsi=\"http://www.w3.org/2001/XMLSche...</td>\n",
       "      <td>/Item/Unit[9]/Session[3]/ITQ[2]</td>\n",
       "      <td>884164a46f4066c6b26894c812484c74ab2e8531</td>\n",
       "    </tr>\n",
       "  </tbody>\n",
       "</table>\n",
       "</div>"
      ],
      "text/plain": [
       "                                      search_context  \\\n",
       "0  <ITQ xmlns:xsi=\"http://www.w3.org/2001/XMLSche...   \n",
       "\n",
       "               search_context_path                                       _id  \n",
       "0  /Item/Unit[9]/Session[3]/ITQ[2]  884164a46f4066c6b26894c812484c74ab2e8531  "
      ]
     },
     "execution_count": 15,
     "metadata": {},
     "output_type": "execute_result"
    }
   ],
   "source": [
    "from xml_utils import fts\n",
    "\n",
    "# Sample query\n",
    "q = 'steam hydrogen oxygen'\n",
    "\n",
    "example_eq_search = fts(db, \"equations_context\", q)\n",
    "example_eq_search"
   ]
  },
  {
   "cell_type": "markdown",
   "id": "3fac4dde",
   "metadata": {},
   "source": [
    "We can display that context:"
   ]
  },
  {
   "cell_type": "code",
   "execution_count": 16,
   "id": "1c0ec132",
   "metadata": {},
   "outputs": [],
   "source": [
    "from IPython.display import Markdown\n",
    "from xml_utils import ouxml2md\n",
    "\n",
    "def display_result_md(search_context):\n",
    "    \"\"\"Render Markdown for result path.\"\"\"\n",
    "    _md = ouxml2md( search_context )\n",
    "    \n",
    "    # Hack because Sphinx renders errors\n",
    "    _md = _md.replace(\"###\", \"HEADER: \")\n",
    "    _md = _md.replace(\"####\", \"SUBHEADER: \")\n",
    "    \n",
    "    display(Markdown(_md))"
   ]
  },
  {
   "cell_type": "code",
   "execution_count": 17,
   "id": "7faac3a2",
   "metadata": {},
   "outputs": [
    {
     "data": {
      "text/markdown": [
       "<!--ITQ-->\n",
       "\n",
       "HEADER: # Question\n",
       "\n",
       "The combination of sulfur dioxide with oxygen, and the decomposition of steam into hydrogen and oxygen are both reactions of great potential value. These reactions and their equilibrium constants at 427<sup>o</sup>C (700K) are as follows.\n",
       "2SO2(g)+O2(g)=2SO3&#8290;&#8201;(g)K=106&#8290;&#8201;mol&#8722;1&#8290;&#8290;&#8201;litre&#8201;2H2O(g)=2H2(g)+O2(g)K=10&#8722;33&#8290;&#8201;mol&#8290;&#8201;&#8290;&#8201;litre&#8722;1\n",
       "1. Write expressions for the equilibrium constants of the two reactions.\n",
       "\n",
       "2. When the two reactions are attempted at 700K, neither seems to occur. Which of the two might be &#8216;persuaded&#8217; to proceed at this temperature, and what form might your persuasion take?\n",
       "\n",
       "\n",
       "HEADER: # Answer\n",
       "\n",
       "The equilibrium constant of the first reaction, *K*<sub>1</sub>, is given by \n",
       "K1=[SO3(g)]2[SO2(g)]2[O2(g)]\n",
       "That of the second,\n",
       "K2=[H2(g)]2[O2(g)][H2O(g)]2\n",
       "The data show that *K*<sub>2</sub> is tiny: at equilibrium, the concentrations of the hydrogen and oxygen in the numerator (the top line of the fraction) are minute in comparison with the concentration of steam in the denominator (the bottom line of the fraction). So in a closed system at 700 K, significant amounts of hydrogen and oxygen will never be formed from steam. \n",
       "\n",
       "By contrast, *K*<sub>1</sub> is large, so the equilibrium position at 700 K lies well over to the right of the equation, and conversion of sulfur dioxide and oxygen to sulfur trioxide is favourable. The fact that the reaction does not occur must be due to a slow rate of reaction. We may therefore be able to obtain sulfur trioxide in this way if we can find a suitable catalyst to speed up the reaction. A suitable catalyst is vanadium pentoxide, V<sub>2</sub>O<sub>5</sub>, and at 700 K, this reaction is the key step in the manufacture of sulfuric acid from sulfur, oxygen and water. \n",
       "<!--ENDITQ-->"
      ],
      "text/plain": [
       "<IPython.core.display.Markdown object>"
      ]
     },
     "metadata": {},
     "output_type": "display_data"
    },
    {
     "data": {
      "text/plain": [
       "0    None\n",
       "Name: search_context, dtype: object"
      ]
     },
     "execution_count": 17,
     "metadata": {},
     "output_type": "execute_result"
    }
   ],
   "source": [
    "example_eq_search.drop_duplicates(subset=\"search_context_path\")[\"search_context\"].apply(display_result_md)"
   ]
  },
  {
   "cell_type": "markdown",
   "id": "4917c561",
   "metadata": {},
   "source": [
    "We can also display the equations that are described in that context by using the the search context path to join the equation context table with the equations table:"
   ]
  },
  {
   "cell_type": "code",
   "execution_count": 18,
   "id": "135f6955",
   "metadata": {},
   "outputs": [
    {
     "data": {
      "text/html": [
       "<math xmlns=\"http://www.w3.org/1998/Math/MathML\" display=\"block\" scriptlevel=\"0\" displaystyle=\"true\"><mrow><msub><mrow><mi>K</mi></mrow><mrow><mn>1</mn></mrow></msub><mo>=</mo><mfrac><mrow><msup><mrow><mo>[</mo><msub><mrow><mi mathvariant=\"normal\">S</mi><mi mathvariant=\"normal\">O</mi></mrow><mrow><mn>3</mn></mrow></msub><mrow><mo>(</mo><mi mathvariant=\"normal\">g</mi><mo>)</mo></mrow><mo>]</mo></mrow><mrow><mn>2</mn></mrow></msup></mrow><mrow><msup><mrow><mo>[</mo><msub><mrow><mi mathvariant=\"normal\">S</mi><mi mathvariant=\"normal\">O</mi></mrow><mrow><mn>2</mn></mrow></msub><mrow><mo>(</mo><mi mathvariant=\"normal\">g</mi><mo>)</mo></mrow><mo>]</mo></mrow><mrow><mn>2</mn></mrow></msup><mrow><mo>[</mo><msub><mrow><mi mathvariant=\"normal\">O</mi></mrow><mrow><mn>2</mn></mrow></msub><mrow><mo>(</mo><mi mathvariant=\"normal\">g</mi><mo>)</mo></mrow><mo>]</mo></mrow></mrow></mfrac></mrow></math><hr/>"
      ],
      "text/plain": [
       "<IPython.core.display.HTML object>"
      ]
     },
     "metadata": {},
     "output_type": "display_data"
    },
    {
     "data": {
      "text/html": [
       "<math xmlns=\"http://www.w3.org/1998/Math/MathML\" display=\"block\" scriptlevel=\"0\" displaystyle=\"true\"><mrow><msub><mrow><mi>K</mi></mrow><mrow><mn>2</mn></mrow></msub><mo>=</mo><mfrac><mrow><msup><mrow><mo>[</mo><msub><mrow><mi mathvariant=\"normal\">H</mi></mrow><mrow><mn>2</mn></mrow></msub><mrow><mo>(</mo><mi mathvariant=\"normal\">g</mi><mo>)</mo></mrow><mo>]</mo></mrow><mrow><mn>2</mn></mrow></msup><mrow><mo>[</mo><msub><mrow><mi mathvariant=\"normal\">O</mi></mrow><mrow><mn>2</mn></mrow></msub><mrow><mo>(</mo><mi mathvariant=\"normal\">g</mi><mo>)</mo></mrow><mo>]</mo></mrow></mrow><mrow><msup><mrow><mo>[</mo><msub><mrow><mi mathvariant=\"normal\">H</mi></mrow><mrow><mn>2</mn></mrow></msub><mi mathvariant=\"normal\">O</mi><mrow><mo>(</mo><mi mathvariant=\"normal\">g</mi><mo>)</mo></mrow><mo>]</mo></mrow><mrow><mn>2</mn></mrow></msup></mrow></mfrac></mrow></math><hr/>"
      ],
      "text/plain": [
       "<IPython.core.display.HTML object>"
      ]
     },
     "metadata": {},
     "output_type": "display_data"
    },
    {
     "data": {
      "text/html": [
       "<math xmlns=\"http://www.w3.org/1998/Math/MathML\" display=\"block\" scriptlevel=\"0\" displaystyle=\"true\"><mrow><mtable><mtr><mtd><msub><mrow><mtable><mtr><mtd><mn>2</mn><mi mathvariant=\"normal\">S</mi><mi mathvariant=\"normal\">O</mi></mtd></mtr></mtable></mrow><mrow><mn>2</mn></mrow></msub><mo stretchy=\"false\">(</mo><mi mathvariant=\"normal\">g</mi><mo stretchy=\"false\">)</mo><mo>+</mo><msub><mrow><mi mathvariant=\"normal\">O</mi></mrow><mrow><mn>2</mn></mrow></msub><mo stretchy=\"false\">(</mo><mi mathvariant=\"normal\">g</mi><mo stretchy=\"false\">)</mo><mo>=</mo><msub><mrow><mn>2</mn><mi mathvariant=\"normal\">S</mi><mi mathvariant=\"normal\">O</mi></mrow><mrow><mn>3</mn></mrow></msub><mo>&#8290;</mo><mtext>&#8201;</mtext><mo stretchy=\"false\">(</mo><mi mathvariant=\"normal\">g</mi><mo stretchy=\"false\">)</mo></mtd><mtd><mi>K</mi><mo>=</mo><msup><mrow><mn>10</mn></mrow><mrow><mn>6</mn></mrow></msup><mo>&#8290;</mo><mtext>&#8201;</mtext><msup><mrow><mi>mol</mi></mrow><mrow><mo>&#8722;</mo><mn>1</mn><mo>&#8290;</mo></mrow></msup><mo>&#8290;</mo><mtext>&#8201;</mtext><mi>litre</mi><mtext>&#8201;</mtext></mtd></mtr><mtr><mtd><mn>2</mn><msub><mrow><mi mathvariant=\"normal\">H</mi></mrow><mrow><mn>2</mn></mrow></msub><mi mathvariant=\"normal\">O</mi><mo stretchy=\"false\">(</mo><mi mathvariant=\"normal\">g</mi><mo stretchy=\"false\">)</mo><mo>=</mo><mn>2</mn><msub><mrow><mi mathvariant=\"normal\">H</mi></mrow><mrow><mn>2</mn></mrow></msub><mo stretchy=\"false\">(</mo><mi mathvariant=\"normal\">g</mi><mo stretchy=\"false\">)</mo><mo>+</mo><msub><mrow><mi mathvariant=\"normal\">O</mi></mrow><mrow><mn>2</mn></mrow></msub><mo stretchy=\"false\">(</mo><mi mathvariant=\"normal\">g</mi><mo stretchy=\"false\">)</mo></mtd><mtd><mi>K</mi><mo>=</mo><msup><mrow><mn>10</mn></mrow><mrow><mo>&#8722;</mo><mn>33</mn></mrow></msup><mo>&#8290;</mo><mtext>&#8201;</mtext><mi>mol</mi><mo>&#8290;</mo><mtext>&#8201;</mtext><mo>&#8290;</mo><msup><mrow><mtext>&#8201;</mtext><mi>litre</mi></mrow><mrow><mo>&#8722;</mo><mn>1</mn></mrow></msup></mtd></mtr></mtable></mrow></math><hr/>"
      ],
      "text/plain": [
       "<IPython.core.display.HTML object>"
      ]
     },
     "metadata": {},
     "output_type": "display_data"
    }
   ],
   "source": [
    "pd.read_sql(f\"\"\"SELECT e.* FROM equations e, equations_context_fts\n",
    "                WHERE equations_context_fts MATCH {db.quote(q)}\n",
    "                    AND e._id=equations_context_fts._id\n",
    "                    AND e.search_context_path=equations_context_fts.search_context_path;\n",
    "              \"\"\" , db.conn)[\"equation\"].apply(lambda eq: display(HTML(eq+\"<hr/>\")));"
   ]
  },
  {
   "cell_type": "code",
   "execution_count": null,
   "id": "8769e7c6",
   "metadata": {},
   "outputs": [],
   "source": []
  }
 ],
 "metadata": {
  "kernelspec": {
   "display_name": "Python 3 (ipykernel)",
   "language": "python",
   "name": "python3"
  },
  "language_info": {
   "codemirror_mode": {
    "name": "ipython",
    "version": 3
   },
   "file_extension": ".py",
   "mimetype": "text/x-python",
   "name": "python",
   "nbconvert_exporter": "python",
   "pygments_lexer": "ipython3",
   "version": "3.9.12"
  }
 },
 "nbformat": 4,
 "nbformat_minor": 5
}
