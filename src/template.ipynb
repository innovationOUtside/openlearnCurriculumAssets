{
 "cells": [
  {
   "cell_type": "markdown",
   "id": "527884fa",
   "metadata": {},
   "source": [
    "# Working With ??\n",
    "\n",
    "*TO DO*"
   ]
  },
  {
   "cell_type": "markdown",
   "id": "9af4404d",
   "metadata": {},
   "source": [
    "## Preparing the Ground\n",
    "\n",
    "As ever, we need to set up a database connection:"
   ]
  },
  {
   "cell_type": "code",
   "execution_count": null,
   "id": "bf3861b8",
   "metadata": {},
   "outputs": [],
   "source": [
    "from sqlite_utils import Database\n",
    "\n",
    "# Open database connection\n",
    "dbname = \"all_openlean_xml.db\"\n",
    "db = Database(dbname)"
   ]
  },
  {
   "cell_type": "markdown",
   "id": "83f44c51",
   "metadata": {},
   "source": [
    "And get a sample XML file, selecting one that we know contains struturally marked up glossary items:"
   ]
  },
  {
   "cell_type": "code",
   "execution_count": null,
   "id": "3a9902f1",
   "metadata": {},
   "outputs": [],
   "source": [
    "from lxml import etree\n",
    "import pandas as pd\n",
    "\n",
    "# Grab an OU-XML file that is known to contain glossary items\n",
    "a210_xml_raw = pd.read_sql(\"SELECT xml FROM xml WHERE name='Approaching plays'\",\n",
    "                           con=db.conn).loc[0, \"xml\"]\n",
    "\n",
    "# Parse the XML into an xml object\n",
    "root = etree.fromstring(a210_xml_raw)"
   ]
  },
  {
   "cell_type": "code",
   "execution_count": null,
   "id": "1ccdcd7e",
   "metadata": {},
   "outputs": [],
   "source": [
    "import unicodedata\n",
    "from lxml import etree\n",
    "\n",
    "def unpack(x):\n",
    "    return etree.tostring(x)\n",
    "\n",
    "# via http://stackoverflow.com/questions/5757201/help-or-advice-me-get-started-with-lxml/5899005#5899005\n",
    "def flatten(el):\n",
    "    \"\"\"Utility function for flattening XML tags.\"\"\"\n",
    "    def _flatten(el):\n",
    "        if el is None:\n",
    "            return \"\"  # Originally returned None; any side effects of move to ''?\n",
    "        result = [(el.text or \"\")]\n",
    "        for sel in el:\n",
    "            result.append(_flatten(sel))\n",
    "            result.append(sel.tail or \"\")\n",
    "        return unicodedata.normalize(\"NFKD\", \"\".join(result)) or \" \"\n",
    "    return _flatten(el).strip()"
   ]
  },
  {
   "cell_type": "code",
   "execution_count": null,
   "id": "33e0aa48",
   "metadata": {},
   "outputs": [],
   "source": [
    "def fts(db, base_tbl, q):\n",
    "    \"\"\"Run a simple full-text search query \n",
    "       over a table with an FTS virtual table.\"\"\"\n",
    "    _q = f\"\"\"SELECT * FROM {base_tbl}_fts \n",
    "             WHERE {base_tbl}_fts MATCH {db.quote(q)} ;\"\"\"\n",
    "    \n",
    "    return pd.read_sql(_q, con=db.conn)"
   ]
  }
 ],
 "metadata": {
  "kernelspec": {
   "display_name": "Python 3 (ipykernel)",
   "language": "python",
   "name": "python3"
  },
  "language_info": {
   "codemirror_mode": {
    "name": "ipython",
    "version": 3
   },
   "file_extension": ".py",
   "mimetype": "text/x-python",
   "name": "python",
   "nbconvert_exporter": "python",
   "pygments_lexer": "ipython3",
   "version": "3.9.12"
  }
 },
 "nbformat": 4,
 "nbformat_minor": 5
}
