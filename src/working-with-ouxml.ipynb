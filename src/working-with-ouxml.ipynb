{
 "cells": [
  {
   "cell_type": "markdown",
   "id": "e9474a3e",
   "metadata": {},
   "source": [
    "# Working With OU-XML\n",
    "\n",
    "In this section we will briefly review different ways of working with an OU-XML document, including treating a document as a simple, structured and searchable database, as well as ways of displaying or rendering the XML content.\n",
    "\n",
    "OU Internal readers might also find the [*Structured Content Tag Guide*](https://learn3.open.ac.uk/mod/oucontent/view.php?id=185747) a useful, and more comprehensive, guide to the OU-XML document structure."
   ]
  },
  {
   "cell_type": "markdown",
   "id": "43eaab19",
   "metadata": {},
   "source": [
    "## Treating OU-XML Documents As Databases\n",
    "\n",
    "*TO DO*\n",
    "\n",
    "- include simple examples of xpath searching, extracting elements"
   ]
  },
  {
   "cell_type": "markdown",
   "id": "82a8de4a",
   "metadata": {},
   "source": [
    "## Viewing and Rendering XML Elements Using XSLT\n",
    "\n",
    "One way of generating rendered views of XML content is to use XSLT, a transfomration process in which an XSLT document describes how to transform each node in an XML document, such as an OU-XML document to another form. For example, I have [previously](https://blog.ouseful.info/2019/11/06/text-publishing-workflows-rooted-on-openlearn-ou-xml-via-github-circleci-and-github-pages/) used XSLT to transform an OU-XML document into a set of simple markdown documents that can then be rendered as an interactive HTML textbook using a publishing workflow such as the [Quarto](https://quarto.org/) or [Jupyter Book](https://jupyterbook.org/en/stable/intro.html) publisng workflows.\n",
    "\n",
    "Whilst the XSLT stylesheet I have previously used expects to find a `<Session>` element as the root element, we can also co-opt the stysleheet to render any collection of elements by definging a dummy root element and then applying stylesheets within that context:\n",
    "\n",
    "```xml\n",
    "<xsl:template match=\"DummyRoot\">\n",
    "    <md>\n",
    "        <xsl:apply-templates />\n",
    "    </md>\n",
    "</xsl:template>\n",
    "```\n",
    "\n",
    "As my style sheet was desgined to generate markdown (`.md`) structured content (which can also legitimately include HTML structured content), I nominally use the above transformation to dump the text into an XML `<md>` tag.\n",
    "\n",
    "Let's import an XML processing package and create a simple utility function to convert a XML object to a text format:"
   ]
  },
  {
   "cell_type": "code",
   "execution_count": 1,
   "id": "f0ba6efd",
   "metadata": {},
   "outputs": [],
   "source": [
    "from lxml import etree\n",
    "\n",
    "def unpack(x, as_str=False):\n",
    "    \"\"\"Convenience function to look at the structure of an XML object.\"\"\"\n",
    "    return etree.tostring(x) if not as_str else etree.tostring(x).decode()"
   ]
  },
  {
   "cell_type": "markdown",
   "id": "37ac0cbe",
   "metadata": {},
   "source": [
    "Define a handle for our XSLT-powered transformations:"
   ]
  },
  {
   "cell_type": "code",
   "execution_count": 2,
   "id": "fee7deb8",
   "metadata": {},
   "outputs": [],
   "source": [
    "xslt_transformer = etree.XSLT(etree.fromstring(open(\"xslt/ouxml2md.xslt\").read()))"
   ]
  },
  {
   "cell_type": "markdown",
   "id": "7a873dba",
   "metadata": {},
   "source": [
    "Create some example XML to demonstrate the process:"
   ]
  },
  {
   "cell_type": "code",
   "execution_count": 3,
   "id": "ff587250",
   "metadata": {},
   "outputs": [],
   "source": [
    "test_xml = etree.XML(\"\"\"<Activity><Question xmlns:xsi=\"http://www.w3.org/2001/XMLSchema-instance\">\\n\\t\\t\\t\\t\\t\\t\\t\\t<Paragraph><language xml:lang=\"FR\">Lisez maintenant le po&#232;me &#224; haute voix et allez ensuite &#233;couter l&#8217;auteur lire son po&#232;me sur Internet, </language><?oxy_delete author=\"js34827\" timestamp=\"20200630T134829+0100\" content=\"&lt;a href=&quot;http://routes.open.ac.uk/ixbin/hixclient.exe?_IXDB_=routes&amp;amp;_IXSPFX_=g&amp;amp;submit-button=summary&amp;amp;%24+with+res_id+is+res23034=.&quot;&gt;&lt;b&gt;&lt;language xml:lang=&quot;FR&quot;&gt;Paul Fort&#160;: po&#232;me&lt;/language&gt;&lt;/b&gt;&lt;/a&gt;\"?><?oxy_insert_start author=\"js34827\" timestamp=\"20200630T134832+0100\"?><a href=\"https://wheatoncollege.edu/vive-voix/par-auteur/fort/\"><b><language xml:lang=\"FR\">Paul Fort&#160;: po&#232;me</language></b></a><?oxy_insert_end?><b><language xml:lang=\"FR\">.</language></b></Paragraph>\\n\\t\\t\\t\\t\\t\\t\\t</Question></Activity>\"\"\")"
   ]
  },
  {
   "cell_type": "markdown",
   "id": "3418030b",
   "metadata": {},
   "source": [
    "Now we need to wrap the text XML in a \"shim\" to which we can apply the transformation process using our previously created XSLT stylesheet:"
   ]
  },
  {
   "cell_type": "code",
   "execution_count": 4,
   "id": "082de608",
   "metadata": {},
   "outputs": [],
   "source": [
    "wrapped_xml= etree.XML(\"<DummyRoot></DummyRoot>\")\n",
    "wrapped_xml.append(test_xml)"
   ]
  },
  {
   "cell_type": "markdown",
   "id": "a64a4d6f",
   "metadata": {},
   "source": [
    "Apply the transformation:"
   ]
  },
  {
   "cell_type": "code",
   "execution_count": 5,
   "id": "480f8a89",
   "metadata": {},
   "outputs": [
    {
     "name": "stdout",
     "output_type": "stream",
     "text": [
      "<md xmlns:str=\"http://exslt.org/strings\">\n",
      "<!-- #region tags=[\"style-activity\"] -->\n",
      "\n",
      "#### Question\n",
      "\n",
      "Lisez maintenant le po&#232;me &#224; haute voix et allez ensuite &#233;couter l&#8217;auteur lire son po&#232;me sur Internet, [__Paul Fort&#160;: po&#232;me__](https://wheatoncollege.edu/vive-voix/par-auteur/fort/)__.__\n",
      "\n",
      "<!-- #endregion -->\n",
      "</md>\n"
     ]
    }
   ],
   "source": [
    "# Apply the XSLT stylesheet\n",
    "transformed_xml = xslt_transformer(wrapped_xml)\n",
    "\n",
    "# Convert the genereated XML object to text\n",
    "md = unpack(transformed_xml.getroot()).decode()\n",
    "\n",
    "print(md)"
   ]
  },
  {
   "cell_type": "markdown",
   "id": "4f5192ae",
   "metadata": {},
   "source": [
    "Now get rid of the `<md>` wrapper tags, convert the markdown to HTML and render the markdown using IPython display machinery:"
   ]
  },
  {
   "cell_type": "code",
   "execution_count": 6,
   "id": "c54339b2",
   "metadata": {},
   "outputs": [
    {
     "data": {
      "text/markdown": [
       "\n",
       "<!-- #region tags=[\"style-activity\"] -->\n",
       "\n",
       "#### Question\n",
       "\n",
       "Lisez maintenant le po&#232;me &#224; haute voix et allez ensuite &#233;couter l&#8217;auteur lire son po&#232;me sur Internet, [__Paul Fort&#160;: po&#232;me__](https://wheatoncollege.edu/vive-voix/par-auteur/fort/)__.__\n",
       "\n",
       "<!-- #endregion -->\n"
      ],
      "text/plain": [
       "<IPython.core.display.Markdown object>"
      ]
     },
     "execution_count": 6,
     "metadata": {},
     "output_type": "execute_result"
    }
   ],
   "source": [
    "from IPython.display import Markdown\n",
    "\n",
    "# Strip the <md> tags from the text string\n",
    "md = md.replace('<md xmlns:str=\"http://exslt.org/strings\">', '').replace(\"</md>\", \"\")\n",
    "\n",
    "Markdown(md)"
   ]
  },
  {
   "cell_type": "markdown",
   "id": "8467b04b",
   "metadata": {},
   "source": [
    "We can now also convert the markdown to HTML:"
   ]
  },
  {
   "cell_type": "code",
   "execution_count": 7,
   "id": "a4d070f7",
   "metadata": {},
   "outputs": [
    {
     "name": "stdout",
     "output_type": "stream",
     "text": [
      "<!-- #region tags=[\"style-activity\"] -->\n",
      "\n",
      "<h4>Question</h4>\n",
      "<p>Lisez maintenant le po&#232;me &#224; haute voix et allez ensuite &#233;couter l&#8217;auteur lire son po&#232;me sur Internet, <a href=\"https://wheatoncollege.edu/vive-voix/par-auteur/fort/\"><strong>Paul Fort&#160;: po&#232;me</strong></a><strong>.</strong></p>\n",
      "<!-- #endregion -->\n"
     ]
    }
   ],
   "source": [
    "from markdown import markdown\n",
    "\n",
    "# Convert the markdown to HTML\n",
    "html = markdown(md)\n",
    "\n",
    "print(html)"
   ]
  },
  {
   "cell_type": "markdown",
   "id": "a7662898",
   "metadata": {},
   "source": [
    "And preview that, agin using the IPython display machinery:"
   ]
  },
  {
   "cell_type": "code",
   "execution_count": 8,
   "id": "106bacdc",
   "metadata": {},
   "outputs": [
    {
     "data": {
      "text/html": [
       "<!-- #region tags=[\"style-activity\"] -->\n",
       "\n",
       "<h4>Question</h4>\n",
       "<p>Lisez maintenant le po&#232;me &#224; haute voix et allez ensuite &#233;couter l&#8217;auteur lire son po&#232;me sur Internet, <a href=\"https://wheatoncollege.edu/vive-voix/par-auteur/fort/\"><strong>Paul Fort&#160;: po&#232;me</strong></a><strong>.</strong></p>\n",
       "<!-- #endregion -->"
      ],
      "text/plain": [
       "<IPython.core.display.HTML object>"
      ]
     },
     "execution_count": 8,
     "metadata": {},
     "output_type": "execute_result"
    }
   ],
   "source": [
    "from IPython.display import HTML\n",
    "\n",
    "# Render the HTML\n",
    "HTML(html)"
   ]
  },
  {
   "cell_type": "markdown",
   "id": "9cbc8d5c",
   "metadata": {},
   "source": [
    "What this means is that we can search for and extract elements from our OU-XML documents and then preview those elements as HTML, assuming the stylesheet has appropriate rules defined for the corresponding OU-XML elements. "
   ]
  },
  {
   "cell_type": "markdown",
   "id": "54d1161b",
   "metadata": {},
   "source": [
    "## Generating Fully Rendered Output Documents from OU-XML Documents\n",
    "\n",
    "*TO DO*\n",
    "\n",
    "- prior examples include: [*OER Text Publishing Workflows Rooted on OpenLearn OU-XML Via Github, CircleCI and Github Pages Using Jupytext and nbSphinx*](https://blog.ouseful.info/2019/11/06/text-publishing-workflows-rooted-on-openlearn-ou-xml-via-github-circleci-and-github-pages/)"
   ]
  }
 ],
 "metadata": {
  "kernelspec": {
   "display_name": "Python 3 (ipykernel)",
   "language": "python",
   "name": "python3"
  },
  "language_info": {
   "codemirror_mode": {
    "name": "ipython",
    "version": 3
   },
   "file_extension": ".py",
   "mimetype": "text/x-python",
   "name": "python",
   "nbconvert_exporter": "python",
   "pygments_lexer": "ipython3",
   "version": "3.9.12"
  }
 },
 "nbformat": 4,
 "nbformat_minor": 5
}
