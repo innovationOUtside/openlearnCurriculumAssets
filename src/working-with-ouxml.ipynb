{
 "cells": [
  {
   "cell_type": "markdown",
   "id": "e9474a3e",
   "metadata": {},
   "source": [
    "# Working With OU-XML\n",
    "\n",
    "In this section we will briefly review different ways of working with an OU-XML document, including treating a document as a simple, structured and searchable database, as well as ways of displaying or rendering the XML content.\n",
    "\n",
    "OU Internal readers might also find the [*Structured Content Tag Guide*](https://learn3.open.ac.uk/mod/oucontent/view.php?id=185747) a useful, and more comprehensive, guide to the OU-XML document structure."
   ]
  },
  {
   "cell_type": "markdown",
   "id": "43eaab19",
   "metadata": {},
   "source": [
    "## Treating OU-XML Documents As Databases\n",
    "\n",
    "In production terms, OU-XML documents are used are gold-master documents for representing academic content in a strcutured way. The structure adds semantics (which is to say, \"meaning\") to content elements and these semantics are then interpreted using visual cues when the document is rendered as a final output text. For example, in the OU VLE, `<Acitivity>` elements are typically rendered as a box element with a blut background that distinguishes the activity from the rest of the content.\n",
    "\n",
    "From a scrape of OpenLearn, we can create a database of OU-XML documents that we can use as a basis for strcutured search over the whole OpenLearn free-learning corpus.\n",
    "\n",
    "As well as supporting the rendering of a document for presentation purposes in a meanigful way, the structure of an XML document provides a way of discovering content elements with particular semantics, which is to say: we can treat an XML document as a simple database by running queries directly over it and returning results extracted from it. We can also mine XML documents to extract elements of a particular type and place those elements in another database (either a \"traditional\" database, or another XML document) and use that second database to search over the extracted elements.\n",
    "\n",
    "In this section, we will briefly review how we can treat an individual XML document as a database that can be both queried and mined.\n",
    "\n",
    "Start by creating a connection to our database of scraped OU-XML documents scraped from OpenLearn:"
   ]
  },
  {
   "cell_type": "code",
   "execution_count": 1,
   "id": "9400460e",
   "metadata": {},
   "outputs": [],
   "source": [
    "from sqlite_utils import Database\n",
    "\n",
    "# Open database connection\n",
    "dbname = \"all_openlean_xml.db\"\n",
    "db = Database(dbname)"
   ]
  },
  {
   "cell_type": "markdown",
   "id": "d6672777",
   "metadata": {},
   "source": [
    "We can grab a single OU-XML document for a particular unit by name:"
   ]
  },
  {
   "cell_type": "code",
   "execution_count": 2,
   "id": "6feb739d",
   "metadata": {},
   "outputs": [],
   "source": [
    "from lxml import etree\n",
    "import pandas as pd\n",
    "\n",
    "# Unit title\n",
    "title = \"An introduction to computers and computer systems\"\n",
    "\n",
    "# Grab an OU-XML file that is known to contain glossary items\n",
    "xml_raw = pd.read_sql(f\"SELECT xml FROM xml WHERE name='{title}'\",\n",
    "                           con=db.conn).loc[0, \"xml\"]"
   ]
  },
  {
   "cell_type": "markdown",
   "id": "357485aa",
   "metadata": {},
   "source": [
    "We can parse this document into an XML object:"
   ]
  },
  {
   "cell_type": "code",
   "execution_count": 3,
   "id": "43692814",
   "metadata": {},
   "outputs": [],
   "source": [
    "# Parse the XML into an xml object\n",
    "root = etree.fromstring(xml_raw)"
   ]
  },
  {
   "cell_type": "markdown",
   "id": "493f3d8c",
   "metadata": {},
   "source": [
    "The XML document is a hierarchical, tree based tag strcutured document format.\n",
    "\n",
    "*If you haveever seen raw HTML, HTML is a particular flavour of XML.*\n",
    "\n",
    "The nested tag elements provide a way of indexing (that is, *addressing* or *referring to*) to a particular element.\n",
    "\n",
    "For example, in the following fragment of XML:\n",
    "\n",
    "```xml\n",
    "<Glossary>\n",
    "    <GlossaryItem>\n",
    "        <Term>Computer</Term>\n",
    "        <Definition>\n",
    "            A machine that manipulates data following a list of instructions that have been programmed into it.\n",
    "        </Definition>\n",
    "    </GlossaryItem>\n",
    "    <GlossaryItem>\n",
    "        <Term>Computer program</Term>\n",
    "        <Definition>\n",
    "            The list of instructions the computer follows to process input and produce output.\n",
    "        </Definition>\n",
    "    </GlossaryItem>\n",
    "</Glossary>\n",
    "```\n",
    "\n",
    "we can \"address\" the *Computer* __term__ as `Glossary/GlossaryItem[0]/Term` and the __definition__ of the *Computer program* term as `Glossary/GlossaryItem[1]/Definition`. These *path* elements tell us how to \"walk the tree\". The numbers in brackets tell you which of several items with the same \"tag path\" you are interested in (the values are zero-indexed, which is to say the first one has index value `0`, the second one has index value `1`, and so on).\n",
    "\n",
    "We can query our XML dcoument see if it has a `Glossary`:"
   ]
  },
  {
   "cell_type": "code",
   "execution_count": 4,
   "id": "504d94f5",
   "metadata": {},
   "outputs": [
    {
     "data": {
      "text/plain": [
       "[<Element Glossary at 0x7fc6aeae2800>]"
      ]
     },
     "execution_count": 4,
     "metadata": {},
     "output_type": "execute_result"
    }
   ],
   "source": [
    "root.xpath(\"//Glossary\")"
   ]
  },
  {
   "cell_type": "markdown",
   "id": "ddccfd3e",
   "metadata": {},
   "source": [
    "Yes it does: there is a single `Glossary` tag in the document.\n",
    "\n",
    "We can preview it as follows:"
   ]
  },
  {
   "cell_type": "code",
   "execution_count": 5,
   "id": "cc8950e5",
   "metadata": {
    "scrolled": false
   },
   "outputs": [
    {
     "name": "stdout",
     "output_type": "stream",
     "text": [
      "<Glossary xmlns:xsi=\"http://www.w3.org/2001/XMLSchema-instance\">\n",
      "            <GlossaryItem>\n",
      "                <Term>Computer</Term>\n",
      "                <Definition>A machine that manipulates data following a list of instructions that have been programmed into it.</Definition>\n",
      "            </GlossaryItem>\n",
      "            <GlossaryItem>\n",
      "                <Term>Computer program</Term>\n",
      "                <Definition>The list of instructions the computer follows to process input and produce output.</Definition>\n",
      "            </GlossaryItem>\n",
      "            <GlossaryItem>\n",
      "                <Term>Input device</Term>\n",
      "                <Definition>A component that can function both as an input and as an output device.</Definition>\n",
      "            </GlossaryItem>\n",
      "            <Glo\n"
     ]
    }
   ],
   "source": [
    "from xml_utils import tidy\n",
    "\n",
    "# The result of out query was a list with a single item\n",
    "# We can address that item as the first (zero indexed) item\n",
    "# in the list, and then \"tidy\" it to grab the XML it \n",
    "# refers to, printing the result to get a formatted output\n",
    "# Only display the first 750 characters of the result\n",
    "print(tidy(root.xpath(\"//Glossary\")[0])[:750])"
   ]
  },
  {
   "cell_type": "markdown",
   "id": "586a95e8",
   "metadata": {},
   "source": [
    "We can also run a query to get just the glossary terms:"
   ]
  },
  {
   "cell_type": "code",
   "execution_count": 6,
   "id": "7f0bdbed",
   "metadata": {},
   "outputs": [
    {
     "data": {
      "text/plain": [
       "[<Element Term at 0x7fc6aeaf8800>,\n",
       " <Element Term at 0x7fc6aeaf8b40>,\n",
       " <Element Term at 0x7fc6aeaf8ac0>,\n",
       " <Element Term at 0x7fc6aeaf8d00>,\n",
       " <Element Term at 0x7fc6aeaf8cc0>]"
      ]
     },
     "execution_count": 6,
     "metadata": {},
     "output_type": "execute_result"
    }
   ],
   "source": [
    "# The search returns a list of items\n",
    "terms = root.xpath(\"//Glossary/GlossaryItem/Term\")\n",
    "\n",
    "# Preview the first five only\n",
    "terms[:5]"
   ]
  },
  {
   "cell_type": "markdown",
   "id": "407bd3cf",
   "metadata": {},
   "source": [
    "Let's see those terms:"
   ]
  },
  {
   "cell_type": "code",
   "execution_count": 7,
   "id": "76a62a9f",
   "metadata": {},
   "outputs": [
    {
     "name": "stdout",
     "output_type": "stream",
     "text": [
      "Computer\n",
      "Computer program\n",
      "Input device\n",
      "Internet\n",
      "Output device\n"
     ]
    }
   ],
   "source": [
    "for term in terms[:5]:\n",
    "    print(term.text)"
   ]
  },
  {
   "cell_type": "markdown",
   "id": "4a30dce1",
   "metadata": {},
   "source": [
    "The syntax gets a little fiddly, but we can also search within elemnt text to find terms containing a particular word:"
   ]
  },
  {
   "cell_type": "code",
   "execution_count": 8,
   "id": "0773a502",
   "metadata": {},
   "outputs": [
    {
     "name": "stdout",
     "output_type": "stream",
     "text": [
      "Computer\n",
      "Computer program\n",
      "Computer bus\n",
      "Computer system\n"
     ]
    }
   ],
   "source": [
    "computer_terms = root.xpath(\"//Glossary/GlossaryItem/Term[contains(text(), 'Computer')]\")\n",
    "\n",
    "for term in computer_terms:\n",
    "    print(term.text)"
   ]
  },
  {
   "cell_type": "markdown",
   "id": "d3aa1c7b",
   "metadata": {},
   "source": [
    "From these result elements, we can get the \"parent\" `<GlossaryItem>` element and display the related terms and definitions:"
   ]
  },
  {
   "cell_type": "code",
   "execution_count": 9,
   "id": "8dcb8ca0",
   "metadata": {},
   "outputs": [
    {
     "name": "stdout",
     "output_type": "stream",
     "text": [
      "<GlossaryItem xmlns:xsi=\"http://www.w3.org/2001/XMLSchema-instance\">\n",
      "                <Term>Computer</Term>\n",
      "                <Definition>A machine that manipulates data following a list of instructions that have been programmed into it.</Definition>\n",
      "            </GlossaryItem>\n",
      "<GlossaryItem xmlns:xsi=\"http://www.w3.org/2001/XMLSchema-instance\">\n",
      "                <Term>Computer program</Term>\n",
      "                <Definition>The list of instructions the computer follows to process input and produce output.</Definition>\n",
      "            </GlossaryItem>\n",
      "<GlossaryItem xmlns:xsi=\"http://www.w3.org/2001/XMLSchema-instance\">\n",
      "                <Term>Computer bus</Term>\n",
      "                <Definition>The internal data connections across the input and output subsystems and the secondary memory subsystem to the computer&#8217;s processor and main memory.</Definition>\n",
      "            </GlossaryItem>\n",
      "<GlossaryItem xmlns:xsi=\"http://www.w3.org/2001/XMLSchema-instance\">\n",
      "                <Term>Computer system</Term>\n",
      "                <Definition>Formally a processor and its associated devices to make a usable &#8216;system&#8217;, but often the complete system, is referred to as a &#8216;computer&#8217;.</Definition>\n",
      "            </GlossaryItem>\n"
     ]
    }
   ],
   "source": [
    "items = [el.getparent() for el in computer_terms]\n",
    "\n",
    "for item in items:\n",
    "    print(tidy(item))"
   ]
  },
  {
   "cell_type": "markdown",
   "id": "dccde28e",
   "metadata": {},
   "source": [
    "*We could equally have run a query to find all the `<GlossaryItem>` elements where the `<Term>` included out search term. In code, for any particular task, there is generally more thn one way to do it...*\n",
    "\n",
    "What this shows is that we can run queries into different structured parts of the OU-XML document rather than just searching the whole document for a particular term.\n",
    "\n",
    "We can also use this approach to extract (or *mine*) particualr sorts of element from the document and place those into another collection of just those sorts of thing. For example, by mining the `Glossary` elements from all our OpenLearn OU-XML documents, we could easily generate a *OpenLearn Glossary* that combines all glossed items into a single OpenLearn-wide glossary."
   ]
  },
  {
   "cell_type": "markdown",
   "id": "82a8de4a",
   "metadata": {},
   "source": [
    "## Viewing and Rendering XML Elements Using XSLT\n",
    "\n",
    "One way of generating rendered views of XML content is to use XSLT, a transfomration process in which an XSLT document describes how to transform each node in an XML document, such as an OU-XML document to another form. For example, I have [previously](https://blog.ouseful.info/2019/11/06/text-publishing-workflows-rooted-on-openlearn-ou-xml-via-github-circleci-and-github-pages/) used XSLT to transform an OU-XML document into a set of simple markdown documents that can then be rendered as an interactive HTML textbook using a publishing workflow such as the [Quarto](https://quarto.org/) or [Jupyter Book](https://jupyterbook.org/en/stable/intro.html) publisng workflows.\n",
    "\n",
    "Whilst the XSLT stylesheet I have previously used expects to find a `<Session>` element as the root element, we can also co-opt the stysleheet to render any collection of elements by definging a dummy root element and then applying stylesheets within that context:\n",
    "\n",
    "```xml\n",
    "<xsl:template match=\"DummyRoot\">\n",
    "    <md>\n",
    "        <xsl:apply-templates />\n",
    "    </md>\n",
    "</xsl:template>\n",
    "```\n",
    "\n",
    "As my style sheet was desgined to generate markdown (`.md`) structured content (which can also legitimately include HTML structured content), I nominally use the above transformation to dump the text into an XML `<md>` tag.\n",
    "\n",
    "Let's import an XML processing package and create a simple utility function to convert a XML object to a text format:"
   ]
  },
  {
   "cell_type": "code",
   "execution_count": 10,
   "id": "f0ba6efd",
   "metadata": {},
   "outputs": [],
   "source": [
    "from lxml import etree\n",
    "\n",
    "def unpack(x, as_str=False):\n",
    "    \"\"\"Convenience function to look at the structure of an XML object.\"\"\"\n",
    "    return etree.tostring(x) if not as_str else etree.tostring(x).decode()"
   ]
  },
  {
   "cell_type": "markdown",
   "id": "37ac0cbe",
   "metadata": {},
   "source": [
    "Define a handle for our XSLT-powered transformations:"
   ]
  },
  {
   "cell_type": "code",
   "execution_count": 11,
   "id": "fee7deb8",
   "metadata": {},
   "outputs": [],
   "source": [
    "xslt_transformer = etree.XSLT(etree.fromstring(open(\"xslt/ouxml2md.xslt\").read()))"
   ]
  },
  {
   "cell_type": "markdown",
   "id": "7a873dba",
   "metadata": {},
   "source": [
    "Create some example XML to demonstrate the process:"
   ]
  },
  {
   "cell_type": "code",
   "execution_count": 12,
   "id": "ff587250",
   "metadata": {},
   "outputs": [],
   "source": [
    "test_xml = etree.XML(\"\"\"<Activity><Question xmlns:xsi=\"http://www.w3.org/2001/XMLSchema-instance\">\\n\\t\\t\\t\\t\\t\\t\\t\\t<Paragraph><language xml:lang=\"FR\">Lisez maintenant le po&#232;me &#224; haute voix et allez ensuite &#233;couter l&#8217;auteur lire son po&#232;me sur Internet, </language><?oxy_delete author=\"js34827\" timestamp=\"20200630T134829+0100\" content=\"&lt;a href=&quot;http://routes.open.ac.uk/ixbin/hixclient.exe?_IXDB_=routes&amp;amp;_IXSPFX_=g&amp;amp;submit-button=summary&amp;amp;%24+with+res_id+is+res23034=.&quot;&gt;&lt;b&gt;&lt;language xml:lang=&quot;FR&quot;&gt;Paul Fort&#160;: po&#232;me&lt;/language&gt;&lt;/b&gt;&lt;/a&gt;\"?><?oxy_insert_start author=\"js34827\" timestamp=\"20200630T134832+0100\"?><a href=\"https://wheatoncollege.edu/vive-voix/par-auteur/fort/\"><b><language xml:lang=\"FR\">Paul Fort&#160;: po&#232;me</language></b></a><?oxy_insert_end?><b><language xml:lang=\"FR\">.</language></b></Paragraph>\\n\\t\\t\\t\\t\\t\\t\\t</Question></Activity>\"\"\")"
   ]
  },
  {
   "cell_type": "markdown",
   "id": "3418030b",
   "metadata": {},
   "source": [
    "Now we need to wrap the text XML in a \"shim\" to which we can apply the transformation process using our previously created XSLT stylesheet:"
   ]
  },
  {
   "cell_type": "code",
   "execution_count": 13,
   "id": "082de608",
   "metadata": {},
   "outputs": [],
   "source": [
    "wrapped_xml= etree.XML(\"<DummyRoot></DummyRoot>\")\n",
    "wrapped_xml.append(test_xml)"
   ]
  },
  {
   "cell_type": "markdown",
   "id": "a64a4d6f",
   "metadata": {},
   "source": [
    "Apply the transformation:"
   ]
  },
  {
   "cell_type": "code",
   "execution_count": 14,
   "id": "480f8a89",
   "metadata": {},
   "outputs": [
    {
     "name": "stdout",
     "output_type": "stream",
     "text": [
      "\n",
      "<!-- #region tags=[\"style-activity\"] -->\n",
      "\n",
      "HEADER: # Question\n",
      "\n",
      "Lisez maintenant le po&#232;me &#224; haute voix et allez ensuite &#233;couter l&#8217;auteur lire son po&#232;me sur Internet, [__Paul Fort&#160;: po&#232;me__](https://wheatoncollege.edu/vive-voix/par-auteur/fort/)__.__\n",
      "\n",
      "<!-- #endregion -->\n",
      "\n"
     ]
    }
   ],
   "source": [
    "# Apply the XSLT stylesheet\n",
    "transformed_xml = xslt_transformer(wrapped_xml)\n",
    "\n",
    "# Convert the genereated XML object to text\n",
    "md = unpack(transformed_xml.getroot()).decode()\n",
    "\n",
    "# Strip the <md> tags from the text string\n",
    "md = md.replace('<md xmlns:str=\"http://exslt.org/strings\">', '').replace(\"</md>\", \"\")\n",
    "# HACK: Sphinx/Jupyterbook gets upset by header in cell output\n",
    "md = md.replace(\"###\", \"HEADER: \")\n",
    "\n",
    "print(md)"
   ]
  },
  {
   "cell_type": "markdown",
   "id": "4f5192ae",
   "metadata": {},
   "source": [
    "Now get rid of the `<md>` wrapper tags, convert the markdown to HTML and render the markdown using IPython display machinery:"
   ]
  },
  {
   "cell_type": "code",
   "execution_count": 15,
   "id": "c54339b2",
   "metadata": {},
   "outputs": [
    {
     "data": {
      "text/markdown": [
       "\n",
       "<!-- #region tags=[\"style-activity\"] -->\n",
       "\n",
       "HEADER: # Question\n",
       "\n",
       "Lisez maintenant le po&#232;me &#224; haute voix et allez ensuite &#233;couter l&#8217;auteur lire son po&#232;me sur Internet, [__Paul Fort&#160;: po&#232;me__](https://wheatoncollege.edu/vive-voix/par-auteur/fort/)__.__\n",
       "\n",
       "<!-- #endregion -->\n"
      ],
      "text/plain": [
       "<IPython.core.display.Markdown object>"
      ]
     },
     "execution_count": 15,
     "metadata": {},
     "output_type": "execute_result"
    }
   ],
   "source": [
    "from IPython.display import Markdown\n",
    "\n",
    "Markdown(md)"
   ]
  },
  {
   "cell_type": "markdown",
   "id": "7a132b4e",
   "metadata": {},
   "source": [
    "For convenience, we could wrap those steps up in a single function:"
   ]
  },
  {
   "cell_type": "code",
   "execution_count": 16,
   "id": "7887ceae",
   "metadata": {},
   "outputs": [],
   "source": [
    "def xml_transform(xml, xslt):\n",
    "    \"\"\"Transform an XML document via XSLT.\"\"\"\n",
    "    xslt_transformer = etree.XSLT(etree.fromstring(open(xslt).read()))\n",
    "    \n",
    "    # Apply the XSLT stylesheet\n",
    "    transformed_xml = xslt_transformer(xml)\n",
    "    \n",
    "    return transformed_xml\n",
    "    \n",
    "def ouxml2md(ouxml, xslt=\"xslt/ouxml2md.xslt\", shim=\"DummyRoot\"):\n",
    "    \"\"\"Convert OU-XML fragment to markdown.\"\"\"\n",
    "    \n",
    "    # Convert bytes to parsed XML doc if required\n",
    "    ouxml = etree.fromstring(ouxml) if isinstance(ouxml, bytes) else ouxml\n",
    "    \n",
    "    # Create the shim so we can apply the templat at fragment level\n",
    "    wrapped_xml= etree.XML(f\"<{shim}></{shim}>\")\n",
    "    wrapped_xml.append(ouxml)\n",
    "    \n",
    "    transformed_xml = xml_transform(wrapped_xml, xslt)\n",
    "    \n",
    "    # Surely there's a better way to get the tag content?\n",
    "    md = unpack(transformed_xml.getroot()).decode()\n",
    "    md = md.replace('<md xmlns:str=\"http://exslt.org/strings\">', '').replace(\"</md>\", \"\")\n",
    "\n",
    "    return md"
   ]
  },
  {
   "cell_type": "markdown",
   "id": "32410578",
   "metadata": {},
   "source": [
    "Let's try it:"
   ]
  },
  {
   "cell_type": "code",
   "execution_count": 17,
   "id": "2d589258",
   "metadata": {},
   "outputs": [
    {
     "data": {
      "text/plain": [
       "'\\n<!-- #region tags=[\"style-activity\"] -->\\n\\n#### Question\\n\\nLisez maintenant le po&#232;me &#224; haute voix et allez ensuite &#233;couter l&#8217;auteur lire son po&#232;me sur Internet, [__Paul Fort&#160;: po&#232;me__](https://wheatoncollege.edu/vive-voix/par-auteur/fort/)__.__\\n\\n<!-- #endregion -->\\n'"
      ]
     },
     "execution_count": 17,
     "metadata": {},
     "output_type": "execute_result"
    }
   ],
   "source": [
    "ouxml2md(test_xml)"
   ]
  },
  {
   "cell_type": "markdown",
   "id": "8467b04b",
   "metadata": {},
   "source": [
    "We can now also convert the markdown to HTML:"
   ]
  },
  {
   "cell_type": "code",
   "execution_count": 18,
   "id": "a4d070f7",
   "metadata": {},
   "outputs": [
    {
     "name": "stdout",
     "output_type": "stream",
     "text": [
      "<!-- #region tags=[\"style-activity\"] -->\n",
      "\n",
      "<p>HEADER: # Question</p>\n",
      "<p>Lisez maintenant le po&#232;me &#224; haute voix et allez ensuite &#233;couter l&#8217;auteur lire son po&#232;me sur Internet, <a href=\"https://wheatoncollege.edu/vive-voix/par-auteur/fort/\"><strong>Paul Fort&#160;: po&#232;me</strong></a><strong>.</strong></p>\n",
      "<!-- #endregion -->\n"
     ]
    }
   ],
   "source": [
    "from markdown import markdown\n",
    "\n",
    "# HACK: Sphinx/Jupyterbook gets upset by header in cell output\n",
    "md = md.replace(\"###\", \"HEADER: \")\n",
    "\n",
    "# Convert the markdown to HTML\n",
    "html = markdown(md)\n",
    "\n",
    "print(html)"
   ]
  },
  {
   "cell_type": "markdown",
   "id": "a7662898",
   "metadata": {},
   "source": [
    "And preview that, agin using the IPython display machinery:"
   ]
  },
  {
   "cell_type": "code",
   "execution_count": 19,
   "id": "106bacdc",
   "metadata": {},
   "outputs": [
    {
     "data": {
      "text/html": [
       "<!-- #region tags=[\"style-activity\"] -->\n",
       "\n",
       "<p>HEADER: # Question</p>\n",
       "<p>Lisez maintenant le po&#232;me &#224; haute voix et allez ensuite &#233;couter l&#8217;auteur lire son po&#232;me sur Internet, <a href=\"https://wheatoncollege.edu/vive-voix/par-auteur/fort/\"><strong>Paul Fort&#160;: po&#232;me</strong></a><strong>.</strong></p>\n",
       "<!-- #endregion -->"
      ],
      "text/plain": [
       "<IPython.core.display.HTML object>"
      ]
     },
     "execution_count": 19,
     "metadata": {},
     "output_type": "execute_result"
    }
   ],
   "source": [
    "from IPython.display import HTML\n",
    "\n",
    "# Render the HTML\n",
    "HTML(html)"
   ]
  },
  {
   "cell_type": "markdown",
   "id": "9cbc8d5c",
   "metadata": {},
   "source": [
    "What this means is that we can search for and extract elements from our OU-XML documents and then preview those elements as HTML, assuming the stylesheet has appropriate rules defined for the corresponding OU-XML elements. "
   ]
  },
  {
   "cell_type": "markdown",
   "id": "54d1161b",
   "metadata": {},
   "source": [
    "## Generating Fully Rendered Output Documents from OU-XML Documents\n",
    "\n",
    "*TO DO*\n",
    "\n",
    "- prior examples include: [*OER Text Publishing Workflows Rooted on OpenLearn OU-XML Via Github, CircleCI and Github Pages Using Jupytext and nbSphinx*](https://blog.ouseful.info/2019/11/06/text-publishing-workflows-rooted-on-openlearn-ou-xml-via-github-circleci-and-github-pages/)"
   ]
  }
 ],
 "metadata": {
  "kernelspec": {
   "display_name": "Python 3 (ipykernel)",
   "language": "python",
   "name": "python3"
  },
  "language_info": {
   "codemirror_mode": {
    "name": "ipython",
    "version": 3
   },
   "file_extension": ".py",
   "mimetype": "text/x-python",
   "name": "python",
   "nbconvert_exporter": "python",
   "pygments_lexer": "ipython3",
   "version": "3.9.12"
  }
 },
 "nbformat": 4,
 "nbformat_minor": 5
}
